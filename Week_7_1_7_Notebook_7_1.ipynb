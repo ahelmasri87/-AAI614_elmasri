{
  "cells": [
    {
      "cell_type": "markdown",
      "metadata": {
        "id": "view-in-github",
        "colab_type": "text"
      },
      "source": [
        "<a href=\"https://colab.research.google.com/github/ahelmasri87/-AAI614_elmasri/blob/main/Week_7_1_7_Notebook_7_1.ipynb\" target=\"_parent\"><img src=\"https://colab.research.google.com/assets/colab-badge.svg\" alt=\"Open In Colab\"/></a>"
      ]
    },
    {
      "cell_type": "markdown",
      "metadata": {
        "id": "mGuQOAqzI5HP"
      },
      "source": [
        "# AAI614: Data Science & its Applications\n",
        "\n",
        "*Notebook 7.1: Introducing Dask*\n",
        "\n",
        "<a href=\"https://colab.research.google.com/github/harmanani/AAI614/blob/main/Week%207/Notebook7.1.ipynb\" target=\"_parent\"><img src=\"https://colab.research.google.com/assets/colab-badge.svg\" alt=\"Open In Colab\"/></a>\n",
        "\n",
        "Source: NVIDIA"
      ]
    },
    {
      "cell_type": "markdown",
      "metadata": {
        "id": "j09zy_IxI5HQ"
      },
      "source": [
        "# Dask"
      ]
    },
    {
      "cell_type": "markdown",
      "metadata": {
        "id": "eMKm4deaI5HQ"
      },
      "source": [
        "Dask is not faster than pandas for a single file or for small size data.  It excels for multiple data as it uses lazy computaion. In this lab, we will learn how to use Dask to speed up computation under the correct conditions.\n",
        "\n",
        "First, let's get these libraries loaded."
      ]
    },
    {
      "cell_type": "code",
      "execution_count": null,
      "metadata": {
        "id": "6e55V6t6I5HR",
        "outputId": "71e8331a-7c64-415c-9a39-d240369429a2"
      },
      "outputs": [
        {
          "name": "stdout",
          "output_type": "stream",
          "text": [
            "Requirement already satisfied: dask in c:\\users\\a2\\appdata\\local\\programs\\python\\python37\\lib\\site-packages (2022.2.0)\n",
            "Requirement already satisfied: cloudpickle>=1.1.1 in c:\\users\\a2\\appdata\\local\\programs\\python\\python37\\lib\\site-packages (from dask) (2.2.1)\n",
            "Requirement already satisfied: fsspec>=0.6.0 in c:\\users\\a2\\appdata\\local\\programs\\python\\python37\\lib\\site-packages (from dask) (2023.1.0)\n",
            "Requirement already satisfied: packaging>=20.0 in c:\\users\\a2\\appdata\\local\\programs\\python\\python37\\lib\\site-packages (from dask) (24.0)\n",
            "Requirement already satisfied: partd>=0.3.10 in c:\\users\\a2\\appdata\\local\\programs\\python\\python37\\lib\\site-packages (from dask) (1.4.1)\n",
            "Requirement already satisfied: pyyaml>=5.3.1 in c:\\users\\a2\\appdata\\local\\programs\\python\\python37\\lib\\site-packages (from dask) (6.0.1)\n",
            "Requirement already satisfied: toolz>=0.8.2 in c:\\users\\a2\\appdata\\local\\programs\\python\\python37\\lib\\site-packages (from dask) (0.12.1)\n",
            "Requirement already satisfied: locket in c:\\users\\a2\\appdata\\local\\programs\\python\\python37\\lib\\site-packages (from partd>=0.3.10->dask) (1.0.0)\n"
          ]
        }
      ],
      "source": [
        "!pip install dask\n",
        "\n",
        "import dask.dataframe as dd\n",
        "import glob\n",
        "import pandas as pd\n",
        "import time\n",
        "import urllib\n",
        "import ssl\n",
        "import graphviz\n",
        "\n",
        "ssl._create_default_https_context = ssl._create_unverified_context"
      ]
    },
    {
      "cell_type": "markdown",
      "metadata": {
        "id": "KP9p45NBI5HR"
      },
      "source": [
        "## Using Dask versus Pandas"
      ]
    },
    {
      "cell_type": "markdown",
      "metadata": {
        "id": "vYoseCKiI5HR"
      },
      "source": [
        "Neither pandas or cuDF can read in multiple CSV files directly with [read_csv](https://pandas.pydata.org/docs/reference/api/pandas.read_csv.html). In order to read multiple files into a DataFrame, we would need to loop through each file and append them together.\n",
        "\n",
        "To see this, let's pull a couple more files from the [Water Level Website](https://tidesandcurrents.noaa.gov/stations.html?type=Water+Levels). This time, we will request a CSV and save it with the [urllib.request](https://docs.python.org/3/library/urllib.request.html)."
      ]
    },
    {
      "cell_type": "markdown",
      "metadata": {
        "id": "U_j4KIFRI5HS"
      },
      "source": [
        "We should now have a few `.csv` files in the `data` folder. When referencing these files, we could type out the paths of each of these files individually, but instead, we will use the [glob](https://docs.python.org/3/library/glob.html) library to programmatically do this for us. We can use `*` as a wild card to filter files that match our pattern specified like so:"
      ]
    },
    {
      "cell_type": "code",
      "execution_count": null,
      "metadata": {
        "id": "Xbcr4sy0I5HS",
        "outputId": "339a1ee4-0e31-45fe-bb99-64debe26aa3b"
      },
      "outputs": [
        {
          "data": {
            "text/plain": [
              "['C:/Users/A2/Documents/jn/data\\\\RQC00666514.csv',\n",
              " 'C:/Users/A2/Documents/jn/data\\\\RQC00666805.csv',\n",
              " 'C:/Users/A2/Documents/jn/data\\\\RQC00666992.csv',\n",
              " 'C:/Users/A2/Documents/jn/data\\\\RQC00667292.csv',\n",
              " 'C:/Users/A2/Documents/jn/data\\\\RQC00668814.csv',\n",
              " 'C:/Users/A2/Documents/jn/data\\\\RQC00668815.csv',\n",
              " 'C:/Users/A2/Documents/jn/data\\\\RQC00668881.csv',\n",
              " 'C:/Users/A2/Documents/jn/data\\\\RQC00669829.csv',\n",
              " 'C:/Users/A2/Documents/jn/data\\\\RQW00011641.csv',\n",
              " 'C:/Users/A2/Documents/jn/data\\\\USC00010008.csv',\n",
              " 'C:/Users/A2/Documents/jn/data\\\\USC00010063.csv',\n",
              " 'C:/Users/A2/Documents/jn/data\\\\USC00010140.csv',\n",
              " 'C:/Users/A2/Documents/jn/data\\\\USC00010252.csv',\n",
              " 'C:/Users/A2/Documents/jn/data\\\\USC00010369.csv',\n",
              " 'C:/Users/A2/Documents/jn/data\\\\USC00010390.csv',\n",
              " 'C:/Users/A2/Documents/jn/data\\\\USC00010402.csv',\n",
              " 'C:/Users/A2/Documents/jn/data\\\\USC00010425.csv',\n",
              " 'C:/Users/A2/Documents/jn/data\\\\USC00010748.csv',\n",
              " 'C:/Users/A2/Documents/jn/data\\\\USC00010957.csv',\n",
              " 'C:/Users/A2/Documents/jn/data\\\\USC00011099.csv',\n",
              " 'C:/Users/A2/Documents/jn/data\\\\USC00012124.csv',\n",
              " 'C:/Users/A2/Documents/jn/data\\\\USC00012172.csv',\n",
              " 'C:/Users/A2/Documents/jn/data\\\\USC00012377.csv',\n",
              " 'C:/Users/A2/Documents/jn/data\\\\USC00012675.csv',\n",
              " 'C:/Users/A2/Documents/jn/data\\\\USC00013043.csv',\n",
              " 'C:/Users/A2/Documents/jn/data\\\\USC00013519.csv',\n",
              " 'C:/Users/A2/Documents/jn/data\\\\USC00013620.csv',\n",
              " 'C:/Users/A2/Documents/jn/data\\\\USC00013645.csv',\n",
              " 'C:/Users/A2/Documents/jn/data\\\\USC00014193.csv',\n",
              " 'C:/Users/A2/Documents/jn/data\\\\USC00014209.csv',\n",
              " 'C:/Users/A2/Documents/jn/data\\\\USC00015397.csv',\n",
              " 'C:/Users/A2/Documents/jn/data\\\\USC00015553.csv',\n",
              " 'C:/Users/A2/Documents/jn/data\\\\USC00018178.csv',\n",
              " 'C:/Users/A2/Documents/jn/data\\\\USC00018209.csv',\n",
              " 'C:/Users/A2/Documents/jn/data\\\\USC00018325.csv',\n",
              " 'C:/Users/A2/Documents/jn/data\\\\USC00018385.csv',\n",
              " 'C:/Users/A2/Documents/jn/data\\\\USC00018517.csv',\n",
              " 'C:/Users/A2/Documents/jn/data\\\\USC00018670.csv',\n",
              " 'C:/Users/A2/Documents/jn/data\\\\USC00018673.csv',\n",
              " 'C:/Users/A2/Documents/jn/data\\\\USC00020080.csv',\n",
              " 'C:/Users/A2/Documents/jn/data\\\\USC00020487.csv',\n",
              " 'C:/Users/A2/Documents/jn/data\\\\USC00020808.csv',\n",
              " 'C:/Users/A2/Documents/jn/data\\\\USC00021574.csv',\n",
              " 'C:/Users/A2/Documents/jn/data\\\\USC00021749.csv',\n",
              " 'C:/Users/A2/Documents/jn/data\\\\USC00021870.csv',\n",
              " 'C:/Users/A2/Documents/jn/data\\\\USC00022329.csv',\n",
              " 'C:/Users/A2/Documents/jn/data\\\\USC00022754.csv',\n",
              " 'C:/Users/A2/Documents/jn/data\\\\USC00023009.csv',\n",
              " 'C:/Users/A2/Documents/jn/data\\\\USC00024534.csv',\n",
              " 'C:/Users/A2/Documents/jn/data\\\\USC00024586.csv',\n",
              " 'C:/Users/A2/Documents/jn/data\\\\USC00025344.csv',\n",
              " 'C:/Users/A2/Documents/jn/data\\\\USC00025635.csv',\n",
              " 'C:/Users/A2/Documents/jn/data\\\\USC00025924.csv',\n",
              " 'C:/Users/A2/Documents/jn/data\\\\USC00026037.csv',\n",
              " 'C:/Users/A2/Documents/jn/data\\\\USC00026117.csv',\n",
              " 'C:/Users/A2/Documents/jn/data\\\\USC00026119.csv',\n",
              " 'C:/Users/A2/Documents/jn/data\\\\USC00026468.csv',\n",
              " 'C:/Users/A2/Documents/jn/data\\\\USC00027708.csv',\n",
              " 'C:/Users/A2/Documents/jn/data\\\\USC00027876.csv',\n",
              " 'C:/Users/A2/Documents/jn/data\\\\USC00029158.csv',\n",
              " 'C:/Users/A2/Documents/jn/data\\\\USC00029271.csv',\n",
              " 'C:/Users/A2/Documents/jn/data\\\\USC00030064.csv',\n",
              " 'C:/Users/A2/Documents/jn/data\\\\USC00030130.csv',\n",
              " 'C:/Users/A2/Documents/jn/data\\\\USC00030178.csv',\n",
              " 'C:/Users/A2/Documents/jn/data\\\\USC00030220.csv']"
            ]
          },
          "execution_count": 2,
          "metadata": {},
          "output_type": "execute_result"
        }
      ],
      "source": [
        "file_paths = glob.glob(\"C:/Users/A2/Documents/jn/data/*.csv\")\n",
        "file_paths = [file for file in file_paths if file != \"C:/Users/A2/Documents/jn/data/numbers.csv\"]\n",
        "file_paths"
      ]
    },
    {
      "cell_type": "markdown",
      "metadata": {
        "id": "Whxv2btuI5HS"
      },
      "source": [
        "Each path starts with `data`, ends with `.csv`, and the `*` indicates to pick up anything in between. Let's set up a for loop to see how long it takes to read all of these files. Run the block **twice** to see how much faster cuDF is after it has been initialized."
      ]
    },
    {
      "cell_type": "code",
      "execution_count": null,
      "metadata": {
        "id": "9PwIF6ovI5HS"
      },
      "outputs": [],
      "source": [
        "usecols = [0, 1, 2, 4, 5]  # Column names are different when pulling csv directly\n",
        "\n",
        "\n",
        "def read_all(library, file_paths):\n",
        "    df_list = []\n",
        "    for file in file_paths:\n",
        "        df = library.read_csv(\n",
        "            file, index_col=None, header=None, usecols=usecols, skiprows=1\n",
        "        )\n",
        "        df_list.append(df)\n",
        "    return library.concat(df_list, axis=0, ignore_index=True)\n",
        "\n",
        "\n",
        "\n",
        "df_cpu = read_all(pd, file_paths)"
      ]
    },
    {
      "cell_type": "code",
      "execution_count": null,
      "metadata": {
        "id": "-E2A0pbDI5HT",
        "outputId": "eb86ea70-346a-4a30-add5-25f2b8b6d77c"
      },
      "outputs": [
        {
          "data": {
            "text/html": [
              "<div>\n",
              "<style scoped>\n",
              "    .dataframe tbody tr th:only-of-type {\n",
              "        vertical-align: middle;\n",
              "    }\n",
              "\n",
              "    .dataframe tbody tr th {\n",
              "        vertical-align: top;\n",
              "    }\n",
              "\n",
              "    .dataframe thead th {\n",
              "        text-align: right;\n",
              "    }\n",
              "</style>\n",
              "<table border=\"1\" class=\"dataframe\">\n",
              "  <thead>\n",
              "    <tr style=\"text-align: right;\">\n",
              "      <th></th>\n",
              "      <th>0</th>\n",
              "      <th>1</th>\n",
              "      <th>2</th>\n",
              "      <th>4</th>\n",
              "      <th>5</th>\n",
              "    </tr>\n",
              "  </thead>\n",
              "  <tbody>\n",
              "    <tr>\n",
              "      <th>0</th>\n",
              "      <td>RQC00666514</td>\n",
              "      <td>18.2886</td>\n",
              "      <td>-66.3433</td>\n",
              "      <td>1973-06-19</td>\n",
              "      <td>HPCP</td>\n",
              "    </tr>\n",
              "    <tr>\n",
              "      <th>1</th>\n",
              "      <td>RQC00666514</td>\n",
              "      <td>18.2886</td>\n",
              "      <td>-66.3433</td>\n",
              "      <td>1973-06-20</td>\n",
              "      <td>HPCP</td>\n",
              "    </tr>\n",
              "    <tr>\n",
              "      <th>2</th>\n",
              "      <td>RQC00666514</td>\n",
              "      <td>18.2886</td>\n",
              "      <td>-66.3433</td>\n",
              "      <td>1973-06-21</td>\n",
              "      <td>HPCP</td>\n",
              "    </tr>\n",
              "    <tr>\n",
              "      <th>3</th>\n",
              "      <td>RQC00666514</td>\n",
              "      <td>18.2886</td>\n",
              "      <td>-66.3433</td>\n",
              "      <td>1973-06-22</td>\n",
              "      <td>HPCP</td>\n",
              "    </tr>\n",
              "    <tr>\n",
              "      <th>4</th>\n",
              "      <td>RQC00666514</td>\n",
              "      <td>18.2886</td>\n",
              "      <td>-66.3433</td>\n",
              "      <td>1973-06-23</td>\n",
              "      <td>HPCP</td>\n",
              "    </tr>\n",
              "    <tr>\n",
              "      <th>...</th>\n",
              "      <td>...</td>\n",
              "      <td>...</td>\n",
              "      <td>...</td>\n",
              "      <td>...</td>\n",
              "      <td>...</td>\n",
              "    </tr>\n",
              "    <tr>\n",
              "      <th>1013567</th>\n",
              "      <td>USC00030220</td>\n",
              "      <td>34.1433</td>\n",
              "      <td>-93.0589</td>\n",
              "      <td>2021-01-31</td>\n",
              "      <td>HPCP</td>\n",
              "    </tr>\n",
              "    <tr>\n",
              "      <th>1013568</th>\n",
              "      <td>USC00030220</td>\n",
              "      <td>34.1433</td>\n",
              "      <td>-93.0589</td>\n",
              "      <td>2021-02-01</td>\n",
              "      <td>HPCP</td>\n",
              "    </tr>\n",
              "    <tr>\n",
              "      <th>1013569</th>\n",
              "      <td>USC00030220</td>\n",
              "      <td>34.1433</td>\n",
              "      <td>-93.0589</td>\n",
              "      <td>2021-02-02</td>\n",
              "      <td>HPCP</td>\n",
              "    </tr>\n",
              "    <tr>\n",
              "      <th>1013570</th>\n",
              "      <td>USC00030220</td>\n",
              "      <td>34.1433</td>\n",
              "      <td>-93.0589</td>\n",
              "      <td>2021-02-03</td>\n",
              "      <td>HPCP</td>\n",
              "    </tr>\n",
              "    <tr>\n",
              "      <th>1013571</th>\n",
              "      <td>USC00030220</td>\n",
              "      <td>34.1433</td>\n",
              "      <td>-93.0589</td>\n",
              "      <td>2021-02-04</td>\n",
              "      <td>HPCP</td>\n",
              "    </tr>\n",
              "  </tbody>\n",
              "</table>\n",
              "<p>1013572 rows × 5 columns</p>\n",
              "</div>"
            ],
            "text/plain": [
              "                   0        1        2           4     5\n",
              "0        RQC00666514  18.2886 -66.3433  1973-06-19  HPCP\n",
              "1        RQC00666514  18.2886 -66.3433  1973-06-20  HPCP\n",
              "2        RQC00666514  18.2886 -66.3433  1973-06-21  HPCP\n",
              "3        RQC00666514  18.2886 -66.3433  1973-06-22  HPCP\n",
              "4        RQC00666514  18.2886 -66.3433  1973-06-23  HPCP\n",
              "...              ...      ...      ...         ...   ...\n",
              "1013567  USC00030220  34.1433 -93.0589  2021-01-31  HPCP\n",
              "1013568  USC00030220  34.1433 -93.0589  2021-02-01  HPCP\n",
              "1013569  USC00030220  34.1433 -93.0589  2021-02-02  HPCP\n",
              "1013570  USC00030220  34.1433 -93.0589  2021-02-03  HPCP\n",
              "1013571  USC00030220  34.1433 -93.0589  2021-02-04  HPCP\n",
              "\n",
              "[1013572 rows x 5 columns]"
            ]
          },
          "execution_count": 4,
          "metadata": {},
          "output_type": "execute_result"
        }
      ],
      "source": [
        "df_cpu"
      ]
    },
    {
      "cell_type": "markdown",
      "metadata": {
        "id": "3--I_2-NI5HT"
      },
      "source": [
        "Since Dask is made to be parallel, we do not need a for loop. It can read multiple files natively.\n",
        "\n",
        "The below code shows how to read data in parallel. This only sets up the process to read the files. we need to force Dask to *compute*"
      ]
    },
    {
      "cell_type": "code",
      "execution_count": null,
      "metadata": {
        "id": "rdDTYcsyI5HT",
        "outputId": "f30b1a8e-99a7-458a-a396-c833a05efaa2"
      },
      "outputs": [
        {
          "data": {
            "text/html": [
              "<div>\n",
              "<style scoped>\n",
              "    .dataframe tbody tr th:only-of-type {\n",
              "        vertical-align: middle;\n",
              "    }\n",
              "\n",
              "    .dataframe tbody tr th {\n",
              "        vertical-align: top;\n",
              "    }\n",
              "\n",
              "    .dataframe thead th {\n",
              "        text-align: right;\n",
              "    }\n",
              "</style>\n",
              "<table border=\"1\" class=\"dataframe\">\n",
              "  <thead>\n",
              "    <tr style=\"text-align: right;\">\n",
              "      <th></th>\n",
              "      <th>STATION</th>\n",
              "      <th>LATITUDE</th>\n",
              "      <th>LONGITUDE</th>\n",
              "      <th>DATE</th>\n",
              "      <th>ELEMENT</th>\n",
              "    </tr>\n",
              "  </thead>\n",
              "  <tbody>\n",
              "    <tr>\n",
              "      <th>0</th>\n",
              "      <td>RQC00666514</td>\n",
              "      <td>18.2886</td>\n",
              "      <td>-66.3433</td>\n",
              "      <td>1973-06-19</td>\n",
              "      <td>HPCP</td>\n",
              "    </tr>\n",
              "    <tr>\n",
              "      <th>1</th>\n",
              "      <td>RQC00666514</td>\n",
              "      <td>18.2886</td>\n",
              "      <td>-66.3433</td>\n",
              "      <td>1973-06-20</td>\n",
              "      <td>HPCP</td>\n",
              "    </tr>\n",
              "    <tr>\n",
              "      <th>2</th>\n",
              "      <td>RQC00666514</td>\n",
              "      <td>18.2886</td>\n",
              "      <td>-66.3433</td>\n",
              "      <td>1973-06-21</td>\n",
              "      <td>HPCP</td>\n",
              "    </tr>\n",
              "    <tr>\n",
              "      <th>3</th>\n",
              "      <td>RQC00666514</td>\n",
              "      <td>18.2886</td>\n",
              "      <td>-66.3433</td>\n",
              "      <td>1973-06-22</td>\n",
              "      <td>HPCP</td>\n",
              "    </tr>\n",
              "    <tr>\n",
              "      <th>4</th>\n",
              "      <td>RQC00666514</td>\n",
              "      <td>18.2886</td>\n",
              "      <td>-66.3433</td>\n",
              "      <td>1973-06-23</td>\n",
              "      <td>HPCP</td>\n",
              "    </tr>\n",
              "    <tr>\n",
              "      <th>...</th>\n",
              "      <td>...</td>\n",
              "      <td>...</td>\n",
              "      <td>...</td>\n",
              "      <td>...</td>\n",
              "      <td>...</td>\n",
              "    </tr>\n",
              "    <tr>\n",
              "      <th>24418</th>\n",
              "      <td>USC00030220</td>\n",
              "      <td>34.1433</td>\n",
              "      <td>-93.0589</td>\n",
              "      <td>2021-01-31</td>\n",
              "      <td>HPCP</td>\n",
              "    </tr>\n",
              "    <tr>\n",
              "      <th>24419</th>\n",
              "      <td>USC00030220</td>\n",
              "      <td>34.1433</td>\n",
              "      <td>-93.0589</td>\n",
              "      <td>2021-02-01</td>\n",
              "      <td>HPCP</td>\n",
              "    </tr>\n",
              "    <tr>\n",
              "      <th>24420</th>\n",
              "      <td>USC00030220</td>\n",
              "      <td>34.1433</td>\n",
              "      <td>-93.0589</td>\n",
              "      <td>2021-02-02</td>\n",
              "      <td>HPCP</td>\n",
              "    </tr>\n",
              "    <tr>\n",
              "      <th>24421</th>\n",
              "      <td>USC00030220</td>\n",
              "      <td>34.1433</td>\n",
              "      <td>-93.0589</td>\n",
              "      <td>2021-02-03</td>\n",
              "      <td>HPCP</td>\n",
              "    </tr>\n",
              "    <tr>\n",
              "      <th>24422</th>\n",
              "      <td>USC00030220</td>\n",
              "      <td>34.1433</td>\n",
              "      <td>-93.0589</td>\n",
              "      <td>2021-02-04</td>\n",
              "      <td>HPCP</td>\n",
              "    </tr>\n",
              "  </tbody>\n",
              "</table>\n",
              "<p>1013572 rows × 5 columns</p>\n",
              "</div>"
            ],
            "text/plain": [
              "           STATION  LATITUDE  LONGITUDE        DATE ELEMENT\n",
              "0      RQC00666514   18.2886   -66.3433  1973-06-19    HPCP\n",
              "1      RQC00666514   18.2886   -66.3433  1973-06-20    HPCP\n",
              "2      RQC00666514   18.2886   -66.3433  1973-06-21    HPCP\n",
              "3      RQC00666514   18.2886   -66.3433  1973-06-22    HPCP\n",
              "4      RQC00666514   18.2886   -66.3433  1973-06-23    HPCP\n",
              "...            ...       ...        ...         ...     ...\n",
              "24418  USC00030220   34.1433   -93.0589  2021-01-31    HPCP\n",
              "24419  USC00030220   34.1433   -93.0589  2021-02-01    HPCP\n",
              "24420  USC00030220   34.1433   -93.0589  2021-02-02    HPCP\n",
              "24421  USC00030220   34.1433   -93.0589  2021-02-03    HPCP\n",
              "24422  USC00030220   34.1433   -93.0589  2021-02-04    HPCP\n",
              "\n",
              "[1013572 rows x 5 columns]"
            ]
          },
          "execution_count": 5,
          "metadata": {},
          "output_type": "execute_result"
        }
      ],
      "source": [
        "ddf_cpu = dd.read_csv(file_paths, usecols=usecols, header=0, skipinitialspace=True)\n",
        "\n",
        "ddf_cpu.compute()"
      ]
    },
    {
      "cell_type": "markdown",
      "metadata": {
        "id": "SDdf_SOiI5HT"
      },
      "source": [
        "Let's sample our data to confirm it had been read correctly. This time, we will only be working with the first three columns of data."
      ]
    },
    {
      "cell_type": "code",
      "execution_count": null,
      "metadata": {
        "id": "bU2-oSrjI5HT",
        "outputId": "d0fd6a0e-75f6-43dc-91dd-48b72f9bdf62"
      },
      "outputs": [
        {
          "name": "stdout",
          "output_type": "stream",
          "text": [
            "Wall time: 85.6 ms\n"
          ]
        },
        {
          "data": {
            "text/html": [
              "<div>\n",
              "<style scoped>\n",
              "    .dataframe tbody tr th:only-of-type {\n",
              "        vertical-align: middle;\n",
              "    }\n",
              "\n",
              "    .dataframe tbody tr th {\n",
              "        vertical-align: top;\n",
              "    }\n",
              "\n",
              "    .dataframe thead th {\n",
              "        text-align: right;\n",
              "    }\n",
              "</style>\n",
              "<table border=\"1\" class=\"dataframe\">\n",
              "  <thead>\n",
              "    <tr style=\"text-align: right;\">\n",
              "      <th></th>\n",
              "      <th>STATION</th>\n",
              "      <th>LATITUDE</th>\n",
              "      <th>LONGITUDE</th>\n",
              "      <th>DATE</th>\n",
              "      <th>ELEMENT</th>\n",
              "    </tr>\n",
              "  </thead>\n",
              "  <tbody>\n",
              "    <tr>\n",
              "      <th>0</th>\n",
              "      <td>RQC00666514</td>\n",
              "      <td>18.2886</td>\n",
              "      <td>-66.3433</td>\n",
              "      <td>1973-06-19</td>\n",
              "      <td>HPCP</td>\n",
              "    </tr>\n",
              "    <tr>\n",
              "      <th>1</th>\n",
              "      <td>RQC00666514</td>\n",
              "      <td>18.2886</td>\n",
              "      <td>-66.3433</td>\n",
              "      <td>1973-06-20</td>\n",
              "      <td>HPCP</td>\n",
              "    </tr>\n",
              "    <tr>\n",
              "      <th>2</th>\n",
              "      <td>RQC00666514</td>\n",
              "      <td>18.2886</td>\n",
              "      <td>-66.3433</td>\n",
              "      <td>1973-06-21</td>\n",
              "      <td>HPCP</td>\n",
              "    </tr>\n",
              "    <tr>\n",
              "      <th>3</th>\n",
              "      <td>RQC00666514</td>\n",
              "      <td>18.2886</td>\n",
              "      <td>-66.3433</td>\n",
              "      <td>1973-06-22</td>\n",
              "      <td>HPCP</td>\n",
              "    </tr>\n",
              "    <tr>\n",
              "      <th>4</th>\n",
              "      <td>RQC00666514</td>\n",
              "      <td>18.2886</td>\n",
              "      <td>-66.3433</td>\n",
              "      <td>1973-06-23</td>\n",
              "      <td>HPCP</td>\n",
              "    </tr>\n",
              "  </tbody>\n",
              "</table>\n",
              "</div>"
            ],
            "text/plain": [
              "       STATION  LATITUDE  LONGITUDE        DATE ELEMENT\n",
              "0  RQC00666514   18.2886   -66.3433  1973-06-19    HPCP\n",
              "1  RQC00666514   18.2886   -66.3433  1973-06-20    HPCP\n",
              "2  RQC00666514   18.2886   -66.3433  1973-06-21    HPCP\n",
              "3  RQC00666514   18.2886   -66.3433  1973-06-22    HPCP\n",
              "4  RQC00666514   18.2886   -66.3433  1973-06-23    HPCP"
            ]
          },
          "execution_count": 6,
          "metadata": {},
          "output_type": "execute_result"
        }
      ],
      "source": [
        "%%time\n",
        "ddf_cpu.head()"
      ]
    },
    {
      "cell_type": "markdown",
      "metadata": {
        "id": "JCxtSvtQI5HT"
      },
      "source": [
        "How can Dask do this faster than regular pandas or cuDF? Under the hood, Dask is building a system of operations called a DAG. We can view this DAG with the [visualize](https://docs.dask.org/en/latest/graphviz.html) method."
      ]
    },
    {
      "cell_type": "code",
      "execution_count": null,
      "metadata": {
        "id": "A0Qax_ELI5HU",
        "outputId": "f19fa62c-f1ab-49e0-a136-3badaef9dbfe"
      },
      "outputs": [
        {
          "data": {
            "image/png": "[encoded data removed]",
            "text/plain": [
              "<IPython.core.display.Image object>"
            ]
          },
          "execution_count": 7,
          "metadata": {},
          "output_type": "execute_result"
        }
      ],
      "source": [
        "ddf_cpu.visualize()"
      ]
    },
    {
      "cell_type": "code",
      "execution_count": null,
      "metadata": {
        "id": "c_i0FAsCI5HU"
      },
      "outputs": [],
      "source": []
    }
  ],
  "metadata": {
    "kernelspec": {
      "display_name": "Python 3 (ipykernel)",
      "language": "python",
      "name": "python3"
    },
    "language_info": {
      "codemirror_mode": {
        "name": "ipython",
        "version": 3
      },
      "file_extension": ".py",
      "mimetype": "text/x-python",
      "name": "python",
      "nbconvert_exporter": "python",
      "pygments_lexer": "ipython3",
      "version": "3.7.0"
    },
    "colab": {
      "provenance": [],
      "include_colab_link": true
    }
  },
  "nbformat": 4,
  "nbformat_minor": 0
}