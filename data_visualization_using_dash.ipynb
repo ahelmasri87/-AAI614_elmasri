{
  "nbformat": 4,
  "nbformat_minor": 0,
  "metadata": {
    "colab": {
      "provenance": [],
      "authorship_tag": "ABX9TyOfMqKQdBg9M2XIAU0OCNgK",
      "include_colab_link": true
    },
    "kernelspec": {
      "name": "python3",
      "display_name": "Python 3"
    },
    "language_info": {
      "name": "python"
    }
  },
  "cells": [
    {
      "cell_type": "markdown",
      "metadata": {
        "id": "view-in-github",
        "colab_type": "text"
      },
      "source": [
        "<a href=\"https://colab.research.google.com/github/ahelmasri87/-AAI614_elmasri/blob/main/data_visualization_using_dash.ipynb\" target=\"_parent\"><img src=\"https://colab.research.google.com/assets/colab-badge.svg\" alt=\"Open In Colab\"/></a>"
      ]
    },
    {
      "cell_type": "code",
      "execution_count": null,
      "metadata": {
        "colab": {
          "base_uri": "https://localhost:8080/"
        },
        "id": "8NauYSJGjaz8",
        "outputId": "e13ce452-455a-4839-c60a-2e8d36f60258"
      },
      "outputs": [
        {
          "output_type": "stream",
          "name": "stdout",
          "text": [
            "Requirement already satisfied: dash in /usr/local/lib/python3.11/dist-packages (2.18.2)\n",
            "Requirement already satisfied: dash-bootstrap-components in /usr/local/lib/python3.11/dist-packages (1.7.1)\n",
            "Requirement already satisfied: pandas in /usr/local/lib/python3.11/dist-packages (2.2.2)\n",
            "Requirement already satisfied: plotly in /usr/local/lib/python3.11/dist-packages (5.24.1)\n",
            "Requirement already satisfied: Flask<3.1,>=1.0.4 in /usr/local/lib/python3.11/dist-packages (from dash) (3.0.3)\n",
            "Requirement already satisfied: Werkzeug<3.1 in /usr/local/lib/python3.11/dist-packages (from dash) (3.0.6)\n",
            "Requirement already satisfied: dash-html-components==2.0.0 in /usr/local/lib/python3.11/dist-packages (from dash) (2.0.0)\n",
            "Requirement already satisfied: dash-core-components==2.0.0 in /usr/local/lib/python3.11/dist-packages (from dash) (2.0.0)\n",
            "Requirement already satisfied: dash-table==5.0.0 in /usr/local/lib/python3.11/dist-packages (from dash) (5.0.0)\n",
            "Requirement already satisfied: importlib-metadata in /usr/local/lib/python3.11/dist-packages (from dash) (8.5.0)\n",
            "Requirement already satisfied: typing-extensions>=4.1.1 in /usr/local/lib/python3.11/dist-packages (from dash) (4.12.2)\n",
            "Requirement already satisfied: requests in /usr/local/lib/python3.11/dist-packages (from dash) (2.32.3)\n",
            "Requirement already satisfied: retrying in /usr/local/lib/python3.11/dist-packages (from dash) (1.3.4)\n",
            "Requirement already satisfied: nest-asyncio in /usr/local/lib/python3.11/dist-packages (from dash) (1.6.0)\n",
            "Requirement already satisfied: setuptools in /usr/local/lib/python3.11/dist-packages (from dash) (75.1.0)\n",
            "Requirement already satisfied: numpy>=1.23.2 in /usr/local/lib/python3.11/dist-packages (from pandas) (1.26.4)\n",
            "Requirement already satisfied: python-dateutil>=2.8.2 in /usr/local/lib/python3.11/dist-packages (from pandas) (2.8.2)\n",
            "Requirement already satisfied: pytz>=2020.1 in /usr/local/lib/python3.11/dist-packages (from pandas) (2024.2)\n",
            "Requirement already satisfied: tzdata>=2022.7 in /usr/local/lib/python3.11/dist-packages (from pandas) (2024.2)\n",
            "Requirement already satisfied: tenacity>=6.2.0 in /usr/local/lib/python3.11/dist-packages (from plotly) (9.0.0)\n",
            "Requirement already satisfied: packaging in /usr/local/lib/python3.11/dist-packages (from plotly) (24.2)\n",
            "Requirement already satisfied: Jinja2>=3.1.2 in /usr/local/lib/python3.11/dist-packages (from Flask<3.1,>=1.0.4->dash) (3.1.5)\n",
            "Requirement already satisfied: itsdangerous>=2.1.2 in /usr/local/lib/python3.11/dist-packages (from Flask<3.1,>=1.0.4->dash) (2.2.0)\n",
            "Requirement already satisfied: click>=8.1.3 in /usr/local/lib/python3.11/dist-packages (from Flask<3.1,>=1.0.4->dash) (8.1.8)\n",
            "Requirement already satisfied: blinker>=1.6.2 in /usr/local/lib/python3.11/dist-packages (from Flask<3.1,>=1.0.4->dash) (1.9.0)\n",
            "Requirement already satisfied: six>=1.5 in /usr/local/lib/python3.11/dist-packages (from python-dateutil>=2.8.2->pandas) (1.17.0)\n",
            "Requirement already satisfied: MarkupSafe>=2.1.1 in /usr/local/lib/python3.11/dist-packages (from Werkzeug<3.1->dash) (3.0.2)\n",
            "Requirement already satisfied: zipp>=3.20 in /usr/local/lib/python3.11/dist-packages (from importlib-metadata->dash) (3.21.0)\n",
            "Requirement already satisfied: charset-normalizer<4,>=2 in /usr/local/lib/python3.11/dist-packages (from requests->dash) (3.4.1)\n",
            "Requirement already satisfied: idna<4,>=2.5 in /usr/local/lib/python3.11/dist-packages (from requests->dash) (3.10)\n",
            "Requirement already satisfied: urllib3<3,>=1.21.1 in /usr/local/lib/python3.11/dist-packages (from requests->dash) (2.3.0)\n",
            "Requirement already satisfied: certifi>=2017.4.17 in /usr/local/lib/python3.11/dist-packages (from requests->dash) (2024.12.14)\n"
          ]
        }
      ],
      "source": [
        "\n",
        "!pip install dash dash-bootstrap-components pandas plotly"
      ]
    },
    {
      "cell_type": "code",
      "source": [
        "import dash\n",
        "from dash import html, dcc, Input, Output\n",
        "import plotly.express as px\n",
        "import pandas as pd\n"
      ],
      "metadata": {
        "id": "Newt6tbDjnST"
      },
      "execution_count": null,
      "outputs": []
    },
    {
      "cell_type": "code",
      "source": [
        "# Load the dataset\n",
        "data = pd.read_excel('/content/hos110-test.xlsx')"
      ],
      "metadata": {
        "id": "hShy2Q77jq6c"
      },
      "execution_count": null,
      "outputs": []
    },
    {
      "cell_type": "code",
      "source": [
        "# Initialize the Dash app\n",
        "app = dash.Dash(__name__)"
      ],
      "metadata": {
        "id": "8LaMrk4kj08Z"
      },
      "execution_count": null,
      "outputs": []
    },
    {
      "cell_type": "code",
      "source": [
        "app.layout = html.Div([\n",
        "    html.H1('Providers Claims Analysis Dashboard'),\n",
        "    dcc.Dropdown(\n",
        "        id='provider-dropdown',\n",
        "        options=[{'label': i, 'value': i} for i in data['Provider_name'].unique()],\n",
        "        value=data['Provider_name'].unique()[0],\n",
        "        clearable=False\n",
        "    ),\n",
        "    dcc.Graph(id='claims-time-series'),\n",
        "    dcc.Graph(id='net-vs-dedc-scatter'),\n",
        "    dcc.Graph(id='benefit-type-distribution-providers')\n",
        "])\n"
      ],
      "metadata": {
        "id": "IKC3cOTnj5og"
      },
      "execution_count": null,
      "outputs": []
    },
    {
      "cell_type": "code",
      "source": [
        "@app.callback(\n",
        "    Output('claims-time-series', 'figure'),\n",
        "    Input('provider-dropdown', 'value'))\n",
        "def update_time_series(selected_provider):\n",
        "    # Filter data for the selected provider\n",
        "    filtered_data = data[data['Provider_name'] == selected_provider]\n",
        "\n",
        "    # Aggregate data by date\n",
        "    aggregated_data = filtered_data.groupby('InvoiceDate').agg({'total_claim1':'sum'}).reset_index()\n",
        "\n",
        "    # Apply a rolling average for smoothing (optional)\n",
        "    aggregated_data['smoothed_claims'] = aggregated_data['total_claim1'].rolling(window=7, center=True).mean()\n",
        "\n",
        "    # Create the figure using the aggregated and optionally smoothed data\n",
        "    fig = px.line(aggregated_data, x='InvoiceDate', y='smoothed_claims',\n",
        "                  title='Total Claims Over Time - Smoothed',\n",
        "                  labels={'smoothed_claims': 'Total Claims ($)', 'InvoiceDate': 'Date'},\n",
        "                  markers=True)  # Add markers for individual data points\n",
        "\n",
        "    fig.update_layout(\n",
        "        xaxis_title=\"Date\",\n",
        "        yaxis_title=\"Total Claims ($)\",\n",
        "        xaxis=dict(\n",
        "            rangeselector=dict(\n",
        "                buttons=list([\n",
        "                    dict(count=1, label=\"1m\", step=\"month\", stepmode=\"backward\"),\n",
        "                    dict(count=6, label=\"6m\", step=\"month\", stepmode=\"backward\"),\n",
        "                    dict(step=\"all\")\n",
        "                ])\n",
        "            ),\n",
        "            rangeslider=dict(\n",
        "                visible=True\n",
        "            ),\n",
        "            type=\"date\"\n",
        "        )\n",
        "    )\n",
        "\n",
        "    return fig"
      ],
      "metadata": {
        "id": "EjW8wygFkCOl"
      },
      "execution_count": null,
      "outputs": []
    },
    {
      "cell_type": "code",
      "source": [
        "# Callback to update the scatter plot based on selected provider\n",
        "@app.callback(\n",
        "    Output('net-vs-dedc-scatter', 'figure'),\n",
        "    Input('provider-dropdown', 'value'))\n",
        "def update_scatter_plot(selected_provider):\n",
        "    filtered_data = data[data['Provider_name'] == selected_provider]\n",
        "    fig = px.scatter(filtered_data, x='net_app', y='dedc_app', color='insured_class',\n",
        "                     title='Net Amount vs. Deductible by Insured Class')\n",
        "    return fig"
      ],
      "metadata": {
        "id": "PmDE0ZN4kDwC"
      },
      "execution_count": null,
      "outputs": []
    },
    {
      "cell_type": "code",
      "source": [
        "@app.callback(\n",
        "    Output('benefit-type-distribution-providers', 'figure'),\n",
        "    Input('provider-dropdown', 'value'))\n",
        "def update_bar_chart(selected_provider):\n",
        "    # Filter data for the selected provider\n",
        "    filtered_data = data[data['Provider_name'] == selected_provider]\n",
        "\n",
        "    # Group and aggregate data\n",
        "    aggregated_data = filtered_data.groupby(['admission_type', 'benfit_type']).size().reset_index(name='counts')\n",
        "\n",
        "    # Create a bar chart\n",
        "    fig = px.bar(aggregated_data, x='admission_type', y='counts', color='benfit_type',\n",
        "                 title='Distribution of Benefit Types by Admission Type',\n",
        "                 labels={'counts': 'Count of Claims', 'admission_type': 'Admission Type', 'benfit_type': 'benfit_type'})\n",
        "\n",
        "    return fig\n",
        "\n"
      ],
      "metadata": {
        "id": "8zwCWNDdmPsm"
      },
      "execution_count": null,
      "outputs": []
    },
    {
      "cell_type": "code",
      "source": [
        "# Run the app\n",
        "if __name__ == '__main__':\n",
        "    app.run_server(debug=True)"
      ],
      "metadata": {
        "colab": {
          "base_uri": "https://localhost:8080/",
          "height": 671
        },
        "id": "3e3HAGIQkHeq",
        "outputId": "592005a7-8bfa-46da-b953-f7e010135f98"
      },
      "execution_count": null,
      "outputs": [
        {
          "output_type": "display_data",
          "data": {
            "text/plain": [
              "<IPython.core.display.Javascript object>"
            ],
            "application/javascript": [
              "(async (port, path, width, height, cache, element) => {\n",
              "    if (!google.colab.kernel.accessAllowed && !cache) {\n",
              "      return;\n",
              "    }\n",
              "    element.appendChild(document.createTextNode(''));\n",
              "    const url = await google.colab.kernel.proxyPort(port, {cache});\n",
              "    const iframe = document.createElement('iframe');\n",
              "    iframe.src = new URL(path, url).toString();\n",
              "    iframe.height = height;\n",
              "    iframe.width = width;\n",
              "    iframe.style.border = 0;\n",
              "    iframe.allow = [\n",
              "        'accelerometer',\n",
              "        'autoplay',\n",
              "        'camera',\n",
              "        'clipboard-read',\n",
              "        'clipboard-write',\n",
              "        'gyroscope',\n",
              "        'magnetometer',\n",
              "        'microphone',\n",
              "        'serial',\n",
              "        'usb',\n",
              "        'xr-spatial-tracking',\n",
              "    ].join('; ');\n",
              "    element.appendChild(iframe);\n",
              "  })(8050, \"/\", \"100%\", 650, false, window.element)"
            ]
          },
          "metadata": {}
        }
      ]
    }
  ]
}