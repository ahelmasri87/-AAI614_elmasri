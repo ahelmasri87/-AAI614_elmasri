{
  "nbformat": 4,
  "nbformat_minor": 0,
  "metadata": {
    "colab": {
      "provenance": [],
      "authorship_tag": "ABX9TyOfMqKQdBg9M2XIAU0OCNgK",
      "include_colab_link": true
    },
    "kernelspec": {
      "name": "python3",
      "display_name": "Python 3"
    },
    "language_info": {
      "name": "python"
    }
  },
  "cells": [
    {
      "cell_type": "markdown",
      "metadata": {
        "id": "view-in-github",
        "colab_type": "text"
      },
      "source": [
        "<a href=\"https://colab.research.google.com/github/ahelmasri87/-AAI614_elmasri/blob/main/data_visualization_using_dash.ipynb\" target=\"_parent\"><img src=\"https://colab.research.google.com/assets/colab-badge.svg\" alt=\"Open In Colab\"/></a>"
      ]
    },
    {
      "cell_type": "code",
      "execution_count": 4,
      "metadata": {
        "colab": {
          "base_uri": "https://localhost:8080/"
        },
        "id": "8NauYSJGjaz8",
        "outputId": "991520f4-6ca5-4da7-e9ca-3fd6cea20c1a"
      },
      "outputs": [
        {
          "output_type": "stream",
          "name": "stdout",
          "text": [
            "Collecting dash\n",
            "  Downloading dash-2.18.2-py3-none-any.whl.metadata (10 kB)\n",
            "Collecting dash-bootstrap-components\n",
            "  Downloading dash_bootstrap_components-1.7.1-py3-none-any.whl.metadata (17 kB)\n",
            "Requirement already satisfied: pandas in /usr/local/lib/python3.11/dist-packages (2.2.2)\n",
            "Requirement already satisfied: plotly in /usr/local/lib/python3.11/dist-packages (5.24.1)\n",
            "Collecting Flask<3.1,>=1.0.4 (from dash)\n",
            "  Downloading flask-3.0.3-py3-none-any.whl.metadata (3.2 kB)\n",
            "Collecting Werkzeug<3.1 (from dash)\n",
            "  Downloading werkzeug-3.0.6-py3-none-any.whl.metadata (3.7 kB)\n",
            "Collecting dash-html-components==2.0.0 (from dash)\n",
            "  Downloading dash_html_components-2.0.0-py3-none-any.whl.metadata (3.8 kB)\n",
            "Collecting dash-core-components==2.0.0 (from dash)\n",
            "  Downloading dash_core_components-2.0.0-py3-none-any.whl.metadata (2.9 kB)\n",
            "Collecting dash-table==5.0.0 (from dash)\n",
            "  Downloading dash_table-5.0.0-py3-none-any.whl.metadata (2.4 kB)\n",
            "Requirement already satisfied: importlib-metadata in /usr/local/lib/python3.11/dist-packages (from dash) (8.5.0)\n",
            "Requirement already satisfied: typing-extensions>=4.1.1 in /usr/local/lib/python3.11/dist-packages (from dash) (4.12.2)\n",
            "Requirement already satisfied: requests in /usr/local/lib/python3.11/dist-packages (from dash) (2.32.3)\n",
            "Collecting retrying (from dash)\n",
            "  Downloading retrying-1.3.4-py3-none-any.whl.metadata (6.9 kB)\n",
            "Requirement already satisfied: nest-asyncio in /usr/local/lib/python3.11/dist-packages (from dash) (1.6.0)\n",
            "Requirement already satisfied: setuptools in /usr/local/lib/python3.11/dist-packages (from dash) (75.1.0)\n",
            "Requirement already satisfied: numpy>=1.23.2 in /usr/local/lib/python3.11/dist-packages (from pandas) (1.26.4)\n",
            "Requirement already satisfied: python-dateutil>=2.8.2 in /usr/local/lib/python3.11/dist-packages (from pandas) (2.8.2)\n",
            "Requirement already satisfied: pytz>=2020.1 in /usr/local/lib/python3.11/dist-packages (from pandas) (2024.2)\n",
            "Requirement already satisfied: tzdata>=2022.7 in /usr/local/lib/python3.11/dist-packages (from pandas) (2024.2)\n",
            "Requirement already satisfied: tenacity>=6.2.0 in /usr/local/lib/python3.11/dist-packages (from plotly) (9.0.0)\n",
            "Requirement already satisfied: packaging in /usr/local/lib/python3.11/dist-packages (from plotly) (24.2)\n",
            "Requirement already satisfied: Jinja2>=3.1.2 in /usr/local/lib/python3.11/dist-packages (from Flask<3.1,>=1.0.4->dash) (3.1.5)\n",
            "Requirement already satisfied: itsdangerous>=2.1.2 in /usr/local/lib/python3.11/dist-packages (from Flask<3.1,>=1.0.4->dash) (2.2.0)\n",
            "Requirement already satisfied: click>=8.1.3 in /usr/local/lib/python3.11/dist-packages (from Flask<3.1,>=1.0.4->dash) (8.1.8)\n",
            "Requirement already satisfied: blinker>=1.6.2 in /usr/local/lib/python3.11/dist-packages (from Flask<3.1,>=1.0.4->dash) (1.9.0)\n",
            "Requirement already satisfied: six>=1.5 in /usr/local/lib/python3.11/dist-packages (from python-dateutil>=2.8.2->pandas) (1.17.0)\n",
            "Requirement already satisfied: MarkupSafe>=2.1.1 in /usr/local/lib/python3.11/dist-packages (from Werkzeug<3.1->dash) (3.0.2)\n",
            "Requirement already satisfied: zipp>=3.20 in /usr/local/lib/python3.11/dist-packages (from importlib-metadata->dash) (3.21.0)\n",
            "Requirement already satisfied: charset-normalizer<4,>=2 in /usr/local/lib/python3.11/dist-packages (from requests->dash) (3.4.1)\n",
            "Requirement already satisfied: idna<4,>=2.5 in /usr/local/lib/python3.11/dist-packages (from requests->dash) (3.10)\n",
            "Requirement already satisfied: urllib3<3,>=1.21.1 in /usr/local/lib/python3.11/dist-packages (from requests->dash) (2.3.0)\n",
            "Requirement already satisfied: certifi>=2017.4.17 in /usr/local/lib/python3.11/dist-packages (from requests->dash) (2024.12.14)\n",
            "Downloading dash-2.18.2-py3-none-any.whl (7.8 MB)\n",
            "\u001b[2K   \u001b[90m━━━━━━━━━━━━━━━━━━━━━━━━━━━━━━━━━━━━━━━━\u001b[0m \u001b[32m7.8/7.8 MB\u001b[0m \u001b[31m31.3 MB/s\u001b[0m eta \u001b[36m0:00:00\u001b[0m\n",
            "\u001b[?25hDownloading dash_core_components-2.0.0-py3-none-any.whl (3.8 kB)\n",
            "Downloading dash_html_components-2.0.0-py3-none-any.whl (4.1 kB)\n",
            "Downloading dash_table-5.0.0-py3-none-any.whl (3.9 kB)\n",
            "Downloading dash_bootstrap_components-1.7.1-py3-none-any.whl (229 kB)\n",
            "\u001b[2K   \u001b[90m━━━━━━━━━━━━━━━━━━━━━━━━━━━━━━━━━━━━━━━━\u001b[0m \u001b[32m229.3/229.3 kB\u001b[0m \u001b[31m13.3 MB/s\u001b[0m eta \u001b[36m0:00:00\u001b[0m\n",
            "\u001b[?25hDownloading flask-3.0.3-py3-none-any.whl (101 kB)\n",
            "\u001b[2K   \u001b[90m━━━━━━━━━━━━━━━━━━━━━━━━━━━━━━━━━━━━━━━━\u001b[0m \u001b[32m101.7/101.7 kB\u001b[0m \u001b[31m6.3 MB/s\u001b[0m eta \u001b[36m0:00:00\u001b[0m\n",
            "\u001b[?25hDownloading werkzeug-3.0.6-py3-none-any.whl (227 kB)\n",
            "\u001b[2K   \u001b[90m━━━━━━━━━━━━━━━━━━━━━━━━━━━━━━━━━━━━━━━━\u001b[0m \u001b[32m228.0/228.0 kB\u001b[0m \u001b[31m6.1 MB/s\u001b[0m eta \u001b[36m0:00:00\u001b[0m\n",
            "\u001b[?25hDownloading retrying-1.3.4-py3-none-any.whl (11 kB)\n",
            "Installing collected packages: dash-table, dash-html-components, dash-core-components, Werkzeug, retrying, Flask, dash, dash-bootstrap-components\n",
            "  Attempting uninstall: Werkzeug\n",
            "    Found existing installation: Werkzeug 3.1.3\n",
            "    Uninstalling Werkzeug-3.1.3:\n",
            "      Successfully uninstalled Werkzeug-3.1.3\n",
            "  Attempting uninstall: Flask\n",
            "    Found existing installation: Flask 3.1.0\n",
            "    Uninstalling Flask-3.1.0:\n",
            "      Successfully uninstalled Flask-3.1.0\n",
            "Successfully installed Flask-3.0.3 Werkzeug-3.0.6 dash-2.18.2 dash-bootstrap-components-1.7.1 dash-core-components-2.0.0 dash-html-components-2.0.0 dash-table-5.0.0 retrying-1.3.4\n"
          ]
        }
      ],
      "source": [
        "\n",
        "!pip install dash dash-bootstrap-components pandas plotly"
      ]
    },
    {
      "cell_type": "code",
      "source": [
        "import dash\n",
        "from dash import html, dcc, Input, Output\n",
        "import plotly.express as px\n",
        "import pandas as pd\n"
      ],
      "metadata": {
        "id": "Newt6tbDjnST"
      },
      "execution_count": 5,
      "outputs": []
    },
    {
      "cell_type": "code",
      "source": [
        "# Load the dataset\n",
        "data = pd.read_excel('/content/hos110-test.xlsx')"
      ],
      "metadata": {
        "id": "hShy2Q77jq6c"
      },
      "execution_count": 6,
      "outputs": []
    },
    {
      "cell_type": "code",
      "source": [
        "# Initialize the Dash app\n",
        "app = dash.Dash(__name__)"
      ],
      "metadata": {
        "id": "8LaMrk4kj08Z"
      },
      "execution_count": 7,
      "outputs": []
    },
    {
      "cell_type": "code",
      "source": [
        "app.layout = html.Div([\n",
        "    html.H1('Providers Claims Analysis Dashboard'),\n",
        "    dcc.Dropdown(\n",
        "        id='provider-dropdown',\n",
        "        options=[{'label': i, 'value': i} for i in data['Provider_name'].unique()],\n",
        "        value=data['Provider_name'].unique()[0],\n",
        "        clearable=False\n",
        "    ),\n",
        "    dcc.Graph(id='claims-time-series'),\n",
        "    dcc.Graph(id='net-vs-dedc-scatter'),\n",
        "    dcc.Graph(id='benefit-type-distribution-providers')\n",
        "])\n"
      ],
      "metadata": {
        "id": "IKC3cOTnj5og"
      },
      "execution_count": 8,
      "outputs": []
    },
    {
      "cell_type": "code",
      "source": [
        "@app.callback(\n",
        "    Output('claims-time-series', 'figure'),\n",
        "    Input('provider-dropdown', 'value'))\n",
        "def update_time_series(selected_provider):\n",
        "    # Filter data for the selected provider\n",
        "    filtered_data = data[data['Provider_name'] == selected_provider]\n",
        "\n",
        "    # Aggregate data by date\n",
        "    aggregated_data = filtered_data.groupby('InvoiceDate').agg({'total_claim1':'sum'}).reset_index()\n",
        "\n",
        "    # Apply a rolling average for smoothing (optional)\n",
        "    aggregated_data['smoothed_claims'] = aggregated_data['total_claim1'].rolling(window=7, center=True).mean()\n",
        "\n",
        "    # Create the figure using the aggregated and optionally smoothed data\n",
        "    fig = px.line(aggregated_data, x='InvoiceDate', y='smoothed_claims',\n",
        "                  title='Total Claims Over Time - Smoothed',\n",
        "                  labels={'smoothed_claims': 'Total Claims ($)', 'InvoiceDate': 'Date'},\n",
        "                  markers=True)  # Add markers for individual data points\n",
        "\n",
        "    fig.update_layout(\n",
        "        xaxis_title=\"Date\",\n",
        "        yaxis_title=\"Total Claims ($)\",\n",
        "        xaxis=dict(\n",
        "            rangeselector=dict(\n",
        "                buttons=list([\n",
        "                    dict(count=1, label=\"1m\", step=\"month\", stepmode=\"backward\"),\n",
        "                    dict(count=6, label=\"6m\", step=\"month\", stepmode=\"backward\"),\n",
        "                    dict(step=\"all\")\n",
        "                ])\n",
        "            ),\n",
        "            rangeslider=dict(\n",
        "                visible=True\n",
        "            ),\n",
        "            type=\"date\"\n",
        "        )\n",
        "    )\n",
        "\n",
        "    return fig"
      ],
      "metadata": {
        "id": "EjW8wygFkCOl"
      },
      "execution_count": 9,
      "outputs": []
    },
    {
      "cell_type": "code",
      "source": [
        "# Callback to update the scatter plot based on selected provider\n",
        "@app.callback(\n",
        "    Output('net-vs-dedc-scatter', 'figure'),\n",
        "    Input('provider-dropdown', 'value'))\n",
        "def update_scatter_plot(selected_provider):\n",
        "    filtered_data = data[data['Provider_name'] == selected_provider]\n",
        "    fig = px.scatter(filtered_data, x='net_app', y='dedc_app', color='insured_class',\n",
        "                     title='Net Amount vs. Deductible by Insured Class')\n",
        "    return fig"
      ],
      "metadata": {
        "id": "PmDE0ZN4kDwC"
      },
      "execution_count": 10,
      "outputs": []
    },
    {
      "cell_type": "code",
      "source": [
        "@app.callback(\n",
        "    Output('benefit-type-distribution-providers', 'figure'),\n",
        "    Input('provider-dropdown', 'value'))\n",
        "def update_bar_chart(selected_provider):\n",
        "    # Filter data for the selected provider\n",
        "    filtered_data = data[data['Provider_name'] == selected_provider]\n",
        "\n",
        "    # Group and aggregate data\n",
        "    aggregated_data = filtered_data.groupby(['admission_type', 'benfit_type']).size().reset_index(name='counts')\n",
        "\n",
        "    # Create a bar chart\n",
        "    fig = px.bar(aggregated_data, x='admission_type', y='counts', color='benfit_type',\n",
        "                 title='Distribution of Benefit Types by Admission Type',\n",
        "                 labels={'counts': 'Count of Claims', 'admission_type': 'Admission Type', 'benfit_type': 'benfit_type'})\n",
        "\n",
        "    return fig\n",
        "\n"
      ],
      "metadata": {
        "id": "8zwCWNDdmPsm"
      },
      "execution_count": 11,
      "outputs": []
    },
    {
      "cell_type": "code",
      "source": [
        "# Run the app\n",
        "if __name__ == '__main__':\n",
        "    app.run_server(debug=True)"
      ],
      "metadata": {
        "colab": {
          "base_uri": "https://localhost:8080/",
          "height": 671
        },
        "id": "3e3HAGIQkHeq",
        "outputId": "e5c92c2b-078d-4a6b-a327-4a4ac81dc2a7"
      },
      "execution_count": 12,
      "outputs": [
        {
          "output_type": "display_data",
          "data": {
            "text/plain": [
              "<IPython.core.display.Javascript object>"
            ],
            "application/javascript": [
              "(async (port, path, width, height, cache, element) => {\n",
              "    if (!google.colab.kernel.accessAllowed && !cache) {\n",
              "      return;\n",
              "    }\n",
              "    element.appendChild(document.createTextNode(''));\n",
              "    const url = await google.colab.kernel.proxyPort(port, {cache});\n",
              "    const iframe = document.createElement('iframe');\n",
              "    iframe.src = new URL(path, url).toString();\n",
              "    iframe.height = height;\n",
              "    iframe.width = width;\n",
              "    iframe.style.border = 0;\n",
              "    iframe.allow = [\n",
              "        'accelerometer',\n",
              "        'autoplay',\n",
              "        'camera',\n",
              "        'clipboard-read',\n",
              "        'clipboard-write',\n",
              "        'gyroscope',\n",
              "        'magnetometer',\n",
              "        'microphone',\n",
              "        'serial',\n",
              "        'usb',\n",
              "        'xr-spatial-tracking',\n",
              "    ].join('; ');\n",
              "    element.appendChild(iframe);\n",
              "  })(8050, \"/\", \"100%\", 650, false, window.element)"
            ]
          },
          "metadata": {}
        }
      ]
    }
  ]
}