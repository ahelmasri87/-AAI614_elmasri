{
  "cells": [
    {
      "cell_type": "markdown",
      "id": "61ea5f6e-6458-4301-85d3-76062b1922a6",
      "metadata": {
        "id": "61ea5f6e-6458-4301-85d3-76062b1922a6"
      },
      "source": [
        "# AAI614: Data Science & its Applications\n",
        "\n",
        "*Notebook 3.2: Practice with Data Cleaning*\n",
        "\n",
        "<a href=\"https://colab.research.google.com/github/harmanani/AAI614/blob/main/Week%203/Notebook3.2.ipynb\" target=\"_parent\"><img src=\"https://colab.research.google.com/assets/colab-badge.svg\" alt=\"Open In Colab\"/></a>"
      ]
    },
    {
      "cell_type": "code",
      "execution_count": 1,
      "id": "c94dc240",
      "metadata": {
        "id": "c94dc240"
      },
      "outputs": [],
      "source": [
        "import pandas as pd\n",
        "import ssl\n",
        "\n",
        "ssl._create_default_https_context = ssl._create_unverified_context"
      ]
    },
    {
      "cell_type": "markdown",
      "id": "eb53db49",
      "metadata": {
        "id": "eb53db49"
      },
      "source": [
        "Exercise I. Load the following datafile from GitHub"
      ]
    },
    {
      "cell_type": "code",
      "execution_count": 2,
      "id": "dfd04802",
      "metadata": {
        "id": "dfd04802"
      },
      "outputs": [],
      "source": [
        "grads = pd.read_csv(\"https://raw.githubusercontent.com/harmanani/AAI614/main/Week%203/grads.csv\")"
      ]
    },
    {
      "cell_type": "code",
      "execution_count": 3,
      "id": "674715ec",
      "metadata": {
        "id": "674715ec",
        "outputId": "be21a4f8-29bd-4db8-9fe4-aff605b25e8f",
        "colab": {
          "base_uri": "https://localhost:8080/",
          "height": 332
        }
      },
      "outputs": [
        {
          "output_type": "execute_result",
          "data": {
            "text/plain": [
              "  Student Name  Avg Hours Studies per Week  GPA     University  \\\n",
              "0       George                          20  NaN            NYU   \n",
              "1        Jerry                          35  3.5       Columbia   \n",
              "2       Elaine                          55  4.0       Columbia   \n",
              "3        Cosmo                           5  2.0   City College   \n",
              "4       Newman                          25  2.8   City College   \n",
              "5        Frank                          35  3.0   Festivus Uni   \n",
              "6      Estelle                         100  3.2  Festivus Uni    \n",
              "7          Leo                          15  2.4   Festivus Uni   \n",
              "8       Rachel                          50  4.0       Columbia   \n",
              "\n",
              "   Sense of Humour (0-5) Salary  \n",
              "0                    3.0   $40k  \n",
              "1                    5.0   $80k  \n",
              "2                    4.2   $60k  \n",
              "3                    2.0   $25k  \n",
              "4                    0.0   $50k  \n",
              "5                    NaN   $40k  \n",
              "6                    1.7    $0k  \n",
              "7                    0.0   $35k  \n",
              "8                    NaN   $75k  "
            ],
            "text/html": [
              "\n",
              "  <div id=\"df-cffe8d0e-44db-432b-9bf3-b0d99307745d\" class=\"colab-df-container\">\n",
              "    <div>\n",
              "<style scoped>\n",
              "    .dataframe tbody tr th:only-of-type {\n",
              "        vertical-align: middle;\n",
              "    }\n",
              "\n",
              "    .dataframe tbody tr th {\n",
              "        vertical-align: top;\n",
              "    }\n",
              "\n",
              "    .dataframe thead th {\n",
              "        text-align: right;\n",
              "    }\n",
              "</style>\n",
              "<table border=\"1\" class=\"dataframe\">\n",
              "  <thead>\n",
              "    <tr style=\"text-align: right;\">\n",
              "      <th></th>\n",
              "      <th>Student Name</th>\n",
              "      <th>Avg Hours Studies per Week</th>\n",
              "      <th>GPA</th>\n",
              "      <th>University</th>\n",
              "      <th>Sense of Humour (0-5)</th>\n",
              "      <th>Salary</th>\n",
              "    </tr>\n",
              "  </thead>\n",
              "  <tbody>\n",
              "    <tr>\n",
              "      <th>0</th>\n",
              "      <td>George</td>\n",
              "      <td>20</td>\n",
              "      <td>NaN</td>\n",
              "      <td>NYU</td>\n",
              "      <td>3.0</td>\n",
              "      <td>$40k</td>\n",
              "    </tr>\n",
              "    <tr>\n",
              "      <th>1</th>\n",
              "      <td>Jerry</td>\n",
              "      <td>35</td>\n",
              "      <td>3.5</td>\n",
              "      <td>Columbia</td>\n",
              "      <td>5.0</td>\n",
              "      <td>$80k</td>\n",
              "    </tr>\n",
              "    <tr>\n",
              "      <th>2</th>\n",
              "      <td>Elaine</td>\n",
              "      <td>55</td>\n",
              "      <td>4.0</td>\n",
              "      <td>Columbia</td>\n",
              "      <td>4.2</td>\n",
              "      <td>$60k</td>\n",
              "    </tr>\n",
              "    <tr>\n",
              "      <th>3</th>\n",
              "      <td>Cosmo</td>\n",
              "      <td>5</td>\n",
              "      <td>2.0</td>\n",
              "      <td>City College</td>\n",
              "      <td>2.0</td>\n",
              "      <td>$25k</td>\n",
              "    </tr>\n",
              "    <tr>\n",
              "      <th>4</th>\n",
              "      <td>Newman</td>\n",
              "      <td>25</td>\n",
              "      <td>2.8</td>\n",
              "      <td>City College</td>\n",
              "      <td>0.0</td>\n",
              "      <td>$50k</td>\n",
              "    </tr>\n",
              "    <tr>\n",
              "      <th>5</th>\n",
              "      <td>Frank</td>\n",
              "      <td>35</td>\n",
              "      <td>3.0</td>\n",
              "      <td>Festivus Uni</td>\n",
              "      <td>NaN</td>\n",
              "      <td>$40k</td>\n",
              "    </tr>\n",
              "    <tr>\n",
              "      <th>6</th>\n",
              "      <td>Estelle</td>\n",
              "      <td>100</td>\n",
              "      <td>3.2</td>\n",
              "      <td>Festivus Uni</td>\n",
              "      <td>1.7</td>\n",
              "      <td>$0k</td>\n",
              "    </tr>\n",
              "    <tr>\n",
              "      <th>7</th>\n",
              "      <td>Leo</td>\n",
              "      <td>15</td>\n",
              "      <td>2.4</td>\n",
              "      <td>Festivus Uni</td>\n",
              "      <td>0.0</td>\n",
              "      <td>$35k</td>\n",
              "    </tr>\n",
              "    <tr>\n",
              "      <th>8</th>\n",
              "      <td>Rachel</td>\n",
              "      <td>50</td>\n",
              "      <td>4.0</td>\n",
              "      <td>Columbia</td>\n",
              "      <td>NaN</td>\n",
              "      <td>$75k</td>\n",
              "    </tr>\n",
              "  </tbody>\n",
              "</table>\n",
              "</div>\n",
              "    <div class=\"colab-df-buttons\">\n",
              "\n",
              "  <div class=\"colab-df-container\">\n",
              "    <button class=\"colab-df-convert\" onclick=\"convertToInteractive('df-cffe8d0e-44db-432b-9bf3-b0d99307745d')\"\n",
              "            title=\"Convert this dataframe to an interactive table.\"\n",
              "            style=\"display:none;\">\n",
              "\n",
              "  <svg xmlns=\"http://www.w3.org/2000/svg\" height=\"24px\" viewBox=\"0 -960 960 960\">\n",
              "    <path d=\"M120-120v-720h720v720H120Zm60-500h600v-160H180v160Zm220 220h160v-160H400v160Zm0 220h160v-160H400v160ZM180-400h160v-160H180v160Zm440 0h160v-160H620v160ZM180-180h160v-160H180v160Zm440 0h160v-160H620v160Z\"/>\n",
              "  </svg>\n",
              "    </button>\n",
              "\n",
              "  <style>\n",
              "    .colab-df-container {\n",
              "      display:flex;\n",
              "      gap: 12px;\n",
              "    }\n",
              "\n",
              "    .colab-df-convert {\n",
              "      background-color: #E8F0FE;\n",
              "      border: none;\n",
              "      border-radius: 50%;\n",
              "      cursor: pointer;\n",
              "      display: none;\n",
              "      fill: #1967D2;\n",
              "      height: 32px;\n",
              "      padding: 0 0 0 0;\n",
              "      width: 32px;\n",
              "    }\n",
              "\n",
              "    .colab-df-convert:hover {\n",
              "      background-color: #E2EBFA;\n",
              "      box-shadow: 0px 1px 2px rgba(60, 64, 67, 0.3), 0px 1px 3px 1px rgba(60, 64, 67, 0.15);\n",
              "      fill: #174EA6;\n",
              "    }\n",
              "\n",
              "    .colab-df-buttons div {\n",
              "      margin-bottom: 4px;\n",
              "    }\n",
              "\n",
              "    [theme=dark] .colab-df-convert {\n",
              "      background-color: #3B4455;\n",
              "      fill: #D2E3FC;\n",
              "    }\n",
              "\n",
              "    [theme=dark] .colab-df-convert:hover {\n",
              "      background-color: #434B5C;\n",
              "      box-shadow: 0px 1px 3px 1px rgba(0, 0, 0, 0.15);\n",
              "      filter: drop-shadow(0px 1px 2px rgba(0, 0, 0, 0.3));\n",
              "      fill: #FFFFFF;\n",
              "    }\n",
              "  </style>\n",
              "\n",
              "    <script>\n",
              "      const buttonEl =\n",
              "        document.querySelector('#df-cffe8d0e-44db-432b-9bf3-b0d99307745d button.colab-df-convert');\n",
              "      buttonEl.style.display =\n",
              "        google.colab.kernel.accessAllowed ? 'block' : 'none';\n",
              "\n",
              "      async function convertToInteractive(key) {\n",
              "        const element = document.querySelector('#df-cffe8d0e-44db-432b-9bf3-b0d99307745d');\n",
              "        const dataTable =\n",
              "          await google.colab.kernel.invokeFunction('convertToInteractive',\n",
              "                                                    [key], {});\n",
              "        if (!dataTable) return;\n",
              "\n",
              "        const docLinkHtml = 'Like what you see? Visit the ' +\n",
              "          '<a target=\"_blank\" href=https://colab.research.google.com/notebooks/data_table.ipynb>data table notebook</a>'\n",
              "          + ' to learn more about interactive tables.';\n",
              "        element.innerHTML = '';\n",
              "        dataTable['output_type'] = 'display_data';\n",
              "        await google.colab.output.renderOutput(dataTable, element);\n",
              "        const docLink = document.createElement('div');\n",
              "        docLink.innerHTML = docLinkHtml;\n",
              "        element.appendChild(docLink);\n",
              "      }\n",
              "    </script>\n",
              "  </div>\n",
              "\n",
              "\n",
              "<div id=\"df-2c5d9f60-8471-4463-bc2d-dfdbc2e9e242\">\n",
              "  <button class=\"colab-df-quickchart\" onclick=\"quickchart('df-2c5d9f60-8471-4463-bc2d-dfdbc2e9e242')\"\n",
              "            title=\"Suggest charts\"\n",
              "            style=\"display:none;\">\n",
              "\n",
              "<svg xmlns=\"http://www.w3.org/2000/svg\" height=\"24px\"viewBox=\"0 0 24 24\"\n",
              "     width=\"24px\">\n",
              "    <g>\n",
              "        <path d=\"M19 3H5c-1.1 0-2 .9-2 2v14c0 1.1.9 2 2 2h14c1.1 0 2-.9 2-2V5c0-1.1-.9-2-2-2zM9 17H7v-7h2v7zm4 0h-2V7h2v10zm4 0h-2v-4h2v4z\"/>\n",
              "    </g>\n",
              "</svg>\n",
              "  </button>\n",
              "\n",
              "<style>\n",
              "  .colab-df-quickchart {\n",
              "      --bg-color: #E8F0FE;\n",
              "      --fill-color: #1967D2;\n",
              "      --hover-bg-color: #E2EBFA;\n",
              "      --hover-fill-color: #174EA6;\n",
              "      --disabled-fill-color: #AAA;\n",
              "      --disabled-bg-color: #DDD;\n",
              "  }\n",
              "\n",
              "  [theme=dark] .colab-df-quickchart {\n",
              "      --bg-color: #3B4455;\n",
              "      --fill-color: #D2E3FC;\n",
              "      --hover-bg-color: #434B5C;\n",
              "      --hover-fill-color: #FFFFFF;\n",
              "      --disabled-bg-color: #3B4455;\n",
              "      --disabled-fill-color: #666;\n",
              "  }\n",
              "\n",
              "  .colab-df-quickchart {\n",
              "    background-color: var(--bg-color);\n",
              "    border: none;\n",
              "    border-radius: 50%;\n",
              "    cursor: pointer;\n",
              "    display: none;\n",
              "    fill: var(--fill-color);\n",
              "    height: 32px;\n",
              "    padding: 0;\n",
              "    width: 32px;\n",
              "  }\n",
              "\n",
              "  .colab-df-quickchart:hover {\n",
              "    background-color: var(--hover-bg-color);\n",
              "    box-shadow: 0 1px 2px rgba(60, 64, 67, 0.3), 0 1px 3px 1px rgba(60, 64, 67, 0.15);\n",
              "    fill: var(--button-hover-fill-color);\n",
              "  }\n",
              "\n",
              "  .colab-df-quickchart-complete:disabled,\n",
              "  .colab-df-quickchart-complete:disabled:hover {\n",
              "    background-color: var(--disabled-bg-color);\n",
              "    fill: var(--disabled-fill-color);\n",
              "    box-shadow: none;\n",
              "  }\n",
              "\n",
              "  .colab-df-spinner {\n",
              "    border: 2px solid var(--fill-color);\n",
              "    border-color: transparent;\n",
              "    border-bottom-color: var(--fill-color);\n",
              "    animation:\n",
              "      spin 1s steps(1) infinite;\n",
              "  }\n",
              "\n",
              "  @keyframes spin {\n",
              "    0% {\n",
              "      border-color: transparent;\n",
              "      border-bottom-color: var(--fill-color);\n",
              "      border-left-color: var(--fill-color);\n",
              "    }\n",
              "    20% {\n",
              "      border-color: transparent;\n",
              "      border-left-color: var(--fill-color);\n",
              "      border-top-color: var(--fill-color);\n",
              "    }\n",
              "    30% {\n",
              "      border-color: transparent;\n",
              "      border-left-color: var(--fill-color);\n",
              "      border-top-color: var(--fill-color);\n",
              "      border-right-color: var(--fill-color);\n",
              "    }\n",
              "    40% {\n",
              "      border-color: transparent;\n",
              "      border-right-color: var(--fill-color);\n",
              "      border-top-color: var(--fill-color);\n",
              "    }\n",
              "    60% {\n",
              "      border-color: transparent;\n",
              "      border-right-color: var(--fill-color);\n",
              "    }\n",
              "    80% {\n",
              "      border-color: transparent;\n",
              "      border-right-color: var(--fill-color);\n",
              "      border-bottom-color: var(--fill-color);\n",
              "    }\n",
              "    90% {\n",
              "      border-color: transparent;\n",
              "      border-bottom-color: var(--fill-color);\n",
              "    }\n",
              "  }\n",
              "</style>\n",
              "\n",
              "  <script>\n",
              "    async function quickchart(key) {\n",
              "      const quickchartButtonEl =\n",
              "        document.querySelector('#' + key + ' button');\n",
              "      quickchartButtonEl.disabled = true;  // To prevent multiple clicks.\n",
              "      quickchartButtonEl.classList.add('colab-df-spinner');\n",
              "      try {\n",
              "        const charts = await google.colab.kernel.invokeFunction(\n",
              "            'suggestCharts', [key], {});\n",
              "      } catch (error) {\n",
              "        console.error('Error during call to suggestCharts:', error);\n",
              "      }\n",
              "      quickchartButtonEl.classList.remove('colab-df-spinner');\n",
              "      quickchartButtonEl.classList.add('colab-df-quickchart-complete');\n",
              "    }\n",
              "    (() => {\n",
              "      let quickchartButtonEl =\n",
              "        document.querySelector('#df-2c5d9f60-8471-4463-bc2d-dfdbc2e9e242 button');\n",
              "      quickchartButtonEl.style.display =\n",
              "        google.colab.kernel.accessAllowed ? 'block' : 'none';\n",
              "    })();\n",
              "  </script>\n",
              "</div>\n",
              "\n",
              "  <div id=\"id_9413b4f6-3650-4e47-8d3e-21d7836a2572\">\n",
              "    <style>\n",
              "      .colab-df-generate {\n",
              "        background-color: #E8F0FE;\n",
              "        border: none;\n",
              "        border-radius: 50%;\n",
              "        cursor: pointer;\n",
              "        display: none;\n",
              "        fill: #1967D2;\n",
              "        height: 32px;\n",
              "        padding: 0 0 0 0;\n",
              "        width: 32px;\n",
              "      }\n",
              "\n",
              "      .colab-df-generate:hover {\n",
              "        background-color: #E2EBFA;\n",
              "        box-shadow: 0px 1px 2px rgba(60, 64, 67, 0.3), 0px 1px 3px 1px rgba(60, 64, 67, 0.15);\n",
              "        fill: #174EA6;\n",
              "      }\n",
              "\n",
              "      [theme=dark] .colab-df-generate {\n",
              "        background-color: #3B4455;\n",
              "        fill: #D2E3FC;\n",
              "      }\n",
              "\n",
              "      [theme=dark] .colab-df-generate:hover {\n",
              "        background-color: #434B5C;\n",
              "        box-shadow: 0px 1px 3px 1px rgba(0, 0, 0, 0.15);\n",
              "        filter: drop-shadow(0px 1px 2px rgba(0, 0, 0, 0.3));\n",
              "        fill: #FFFFFF;\n",
              "      }\n",
              "    </style>\n",
              "    <button class=\"colab-df-generate\" onclick=\"generateWithVariable('grads')\"\n",
              "            title=\"Generate code using this dataframe.\"\n",
              "            style=\"display:none;\">\n",
              "\n",
              "  <svg xmlns=\"http://www.w3.org/2000/svg\" height=\"24px\"viewBox=\"0 0 24 24\"\n",
              "       width=\"24px\">\n",
              "    <path d=\"M7,19H8.4L18.45,9,17,7.55,7,17.6ZM5,21V16.75L18.45,3.32a2,2,0,0,1,2.83,0l1.4,1.43a1.91,1.91,0,0,1,.58,1.4,1.91,1.91,0,0,1-.58,1.4L9.25,21ZM18.45,9,17,7.55Zm-12,3A5.31,5.31,0,0,0,4.9,8.1,5.31,5.31,0,0,0,1,6.5,5.31,5.31,0,0,0,4.9,4.9,5.31,5.31,0,0,0,6.5,1,5.31,5.31,0,0,0,8.1,4.9,5.31,5.31,0,0,0,12,6.5,5.46,5.46,0,0,0,6.5,12Z\"/>\n",
              "  </svg>\n",
              "    </button>\n",
              "    <script>\n",
              "      (() => {\n",
              "      const buttonEl =\n",
              "        document.querySelector('#id_9413b4f6-3650-4e47-8d3e-21d7836a2572 button.colab-df-generate');\n",
              "      buttonEl.style.display =\n",
              "        google.colab.kernel.accessAllowed ? 'block' : 'none';\n",
              "\n",
              "      buttonEl.onclick = () => {\n",
              "        google.colab.notebook.generateWithVariable('grads');\n",
              "      }\n",
              "      })();\n",
              "    </script>\n",
              "  </div>\n",
              "\n",
              "    </div>\n",
              "  </div>\n"
            ],
            "application/vnd.google.colaboratory.intrinsic+json": {
              "type": "dataframe",
              "variable_name": "grads",
              "summary": "{\n  \"name\": \"grads\",\n  \"rows\": 9,\n  \"fields\": [\n    {\n      \"column\": \"Student Name\",\n      \"properties\": {\n        \"dtype\": \"string\",\n        \"num_unique_values\": 9,\n        \"samples\": [\n          \"Leo\",\n          \"Jerry\",\n          \"Frank\"\n        ],\n        \"semantic_type\": \"\",\n        \"description\": \"\"\n      }\n    },\n    {\n      \"column\": \"Avg Hours Studies per Week\",\n      \"properties\": {\n        \"dtype\": \"number\",\n        \"std\": 28,\n        \"min\": 5,\n        \"max\": 100,\n        \"num_unique_values\": 8,\n        \"samples\": [\n          35,\n          100,\n          20\n        ],\n        \"semantic_type\": \"\",\n        \"description\": \"\"\n      }\n    },\n    {\n      \"column\": \"GPA\",\n      \"properties\": {\n        \"dtype\": \"number\",\n        \"std\": 0.7160157619972982,\n        \"min\": 2.0,\n        \"max\": 4.0,\n        \"num_unique_values\": 7,\n        \"samples\": [\n          3.5,\n          4.0,\n          3.2\n        ],\n        \"semantic_type\": \"\",\n        \"description\": \"\"\n      }\n    },\n    {\n      \"column\": \"University\",\n      \"properties\": {\n        \"dtype\": \"string\",\n        \"num_unique_values\": 6,\n        \"samples\": [\n          \" NYU\",\n          \"Columbia\",\n          \"Festivus Uni \"\n        ],\n        \"semantic_type\": \"\",\n        \"description\": \"\"\n      }\n    },\n    {\n      \"column\": \"Sense of Humour (0-5)\",\n      \"properties\": {\n        \"dtype\": \"number\",\n        \"std\": 1.932799597918596,\n        \"min\": 0.0,\n        \"max\": 5.0,\n        \"num_unique_values\": 6,\n        \"samples\": [\n          3.0,\n          5.0,\n          1.7\n        ],\n        \"semantic_type\": \"\",\n        \"description\": \"\"\n      }\n    },\n    {\n      \"column\": \"Salary\",\n      \"properties\": {\n        \"dtype\": \"string\",\n        \"num_unique_values\": 9,\n        \"samples\": [\n          \" $35k\",\n          \"$80k\",\n          \"$40k\"\n        ],\n        \"semantic_type\": \"\",\n        \"description\": \"\"\n      }\n    }\n  ]\n}"
            }
          },
          "metadata": {},
          "execution_count": 3
        }
      ],
      "source": [
        "grads"
      ]
    },
    {
      "cell_type": "code",
      "execution_count": 4,
      "id": "7330b38a",
      "metadata": {
        "id": "7330b38a",
        "outputId": "c2047e40-8963-49b0-ce2d-7c0186e99abb",
        "colab": {
          "base_uri": "https://localhost:8080/"
        }
      },
      "outputs": [
        {
          "output_type": "stream",
          "name": "stdout",
          "text": [
            "       Avg Hours Studies per Week       GPA  Sense of Humour (0-5)\n",
            "count                    9.000000  8.000000               7.000000\n",
            "mean                    37.777778  3.112500               2.271429\n",
            "std                     28.296545  0.716016               1.932800\n",
            "min                      5.000000  2.000000               0.000000\n",
            "25%                     20.000000  2.700000               0.850000\n",
            "50%                     35.000000  3.100000               2.000000\n",
            "75%                     50.000000  3.625000               3.600000\n",
            "max                    100.000000  4.000000               5.000000\n"
          ]
        }
      ],
      "source": [
        "print(grads.describe())\n"
      ]
    },
    {
      "cell_type": "code",
      "source": [
        "import matplotlib.pyplot as plt\n",
        "\n",
        "grads.boxplot(figsize=(10, 6))\n",
        "plt.show()\n",
        "\n"
      ],
      "metadata": {
        "id": "Tz4Rd_8NwclV",
        "outputId": "092251a2-3ccb-4f19-ada2-6a06c9b32b65",
        "colab": {
          "base_uri": "https://localhost:8080/",
          "height": 522
        }
      },
      "id": "Tz4Rd_8NwclV",
      "execution_count": 8,
      "outputs": [
        {
          "output_type": "display_data",
          "data": {
            "text/plain": [
              "<Figure size 1000x600 with 1 Axes>"
            ],
            "image/png": "[encoded data removed]"
          },
          "metadata": {}
        }
      ]
    },
    {
      "cell_type": "markdown",
      "id": "9283d451",
      "metadata": {
        "id": "9283d451"
      },
      "source": [
        "Question 1: Identify all the outliers in the above data.  Justify your answers using objective measures."
      ]
    },
    {
      "cell_type": "code",
      "execution_count": 11,
      "id": "e0cd6711",
      "metadata": {
        "id": "e0cd6711",
        "outputId": "3b36797c-e1a6-417e-b400-09dc11e8b3f4",
        "colab": {
          "base_uri": "https://localhost:8080/"
        }
      },
      "outputs": [
        {
          "output_type": "stream",
          "name": "stdout",
          "text": [
            "  Student Name  Avg Hours Studies per Week  GPA     University  \\\n",
            "6      Estelle                         100  3.2  Festivus Uni    \n",
            "\n",
            "   Sense of Humour (0-5) Salary  \n",
            "6                    1.7    $0k  \n"
          ]
        }
      ],
      "source": [
        "# Calculating Q1, Q3, and IQR for \"Avg Hours Studies per Week\"\n",
        "Q1 = grads['Avg Hours Studies per Week'].quantile(0.25)\n",
        "Q3 = grads['Avg Hours Studies per Week'].quantile(0.75)\n",
        "IQR = Q3 - Q1\n",
        "\n",
        "# Define outlier criteria\n",
        "lower_bound = Q1 - 1.5 * IQR\n",
        "upper_bound = Q3 + 1.5 * IQR\n",
        "\n",
        "# Identifying outliers in \"Avg Hours Studies per Week\"\n",
        "outliers = grads[(grads['Avg Hours Studies per Week'] < lower_bound) | (grads['Avg Hours Studies per Week'] > upper_bound)]\n",
        "print(outliers)\n"
      ]
    },
    {
      "cell_type": "markdown",
      "id": "0bb699a0",
      "metadata": {
        "id": "0bb699a0"
      },
      "source": [
        "Question 2: There are various data that are missing.  Fill-in the missing data or delete the rows/columns that you think you should delete.  Justify your answer"
      ]
    },
    {
      "cell_type": "code",
      "execution_count": 13,
      "id": "9b63bbc0",
      "metadata": {
        "id": "9b63bbc0",
        "outputId": "456202a2-6f85-4ffd-adf9-1b51cabbf7a3",
        "colab": {
          "base_uri": "https://localhost:8080/",
          "height": 848
        }
      },
      "outputs": [
        {
          "output_type": "stream",
          "name": "stdout",
          "text": [
            "Student Name                  0\n",
            "Avg Hours Studies per Week    0\n",
            "GPA                           1\n",
            "University                    0\n",
            "Sense of Humour (0-5)         2\n",
            "Salary                        0\n",
            "dtype: int64\n"
          ]
        },
        {
          "output_type": "display_data",
          "data": {
            "text/plain": [
              "<Figure size 1000x600 with 1 Axes>"
            ],
            "image/png": "[encoded data removed]"
          },
          "metadata": {}
        }
      ],
      "source": [
        "# Check for missing values in each column\n",
        "print(grads.isnull().sum())\n",
        "\n",
        "# Alternatively, visualize the missing values\n",
        "import seaborn as sns\n",
        "import matplotlib.pyplot as plt\n",
        "\n",
        "plt.figure(figsize=(10, 6))\n",
        "sns.heatmap(grads.isnull(), cbar=False, cmap='viridis')\n",
        "plt.title(\"Missing Values in Dataset\")\n",
        "plt.show()\n"
      ]
    },
    {
      "cell_type": "code",
      "source": [
        "# Fill missing GPA with median\n",
        "#Since there is only one missing value in \"GPA\", imputation is a reasonable choice.\n",
        "#Imputing with the median is generally preferred for numerical data if you want to minimize the effect of outliers, especially if the data is not symmetrically distributed.\n",
        "\n",
        "grads['GPA'].fillna(grads['GPA'].median(), inplace=True)\n",
        "\n",
        "# Fill missing University with mode\n",
        "#University\" appears to be a categorical column. Since it has only 1 missing value, the best approach is to fill it with the mode (the most frequent value).\n",
        "#This ensures consistency by filling in the missing value with the most common university.\n",
        "grads['University'].fillna(grads['University'].mode()[0], inplace=True)\n",
        "\n",
        "# Fill missing Sense of Humour (0-5) with median\n",
        "#\"Sense of Humour (0-5)\" is also numerical, but it has an ordinal nature (on a scale of 0-5).\n",
        "#The missing values can be filled using the median to retain the middle-ground, especially since there are only two missing values.\n",
        "grads['Sense of Humour (0-5)'].fillna(grads['Sense of Humour (0-5)'].median(), inplace=True)\n",
        "\n",
        "\n",
        "# Check again for missing values\n",
        "print(grads.isnull().sum())\n"
      ],
      "metadata": {
        "id": "Y_OlEq5iyI_6",
        "outputId": "0d151275-4107-4f59-8537-e2a80de7494f",
        "colab": {
          "base_uri": "https://localhost:8080/"
        }
      },
      "id": "Y_OlEq5iyI_6",
      "execution_count": 14,
      "outputs": [
        {
          "output_type": "stream",
          "name": "stdout",
          "text": [
            "Student Name                  0\n",
            "Avg Hours Studies per Week    0\n",
            "GPA                           0\n",
            "University                    0\n",
            "Sense of Humour (0-5)         0\n",
            "Salary                        0\n",
            "dtype: int64\n"
          ]
        },
        {
          "output_type": "stream",
          "name": "stderr",
          "text": [
            "<ipython-input-14-e53b5e279287>:5: FutureWarning: A value is trying to be set on a copy of a DataFrame or Series through chained assignment using an inplace method.\n",
            "The behavior will change in pandas 3.0. This inplace method will never work because the intermediate object on which we are setting values always behaves as a copy.\n",
            "\n",
            "For example, when doing 'df[col].method(value, inplace=True)', try using 'df.method({col: value}, inplace=True)' or df[col] = df[col].method(value) instead, to perform the operation inplace on the original object.\n",
            "\n",
            "\n",
            "  grads['GPA'].fillna(grads['GPA'].median(), inplace=True)\n",
            "<ipython-input-14-e53b5e279287>:10: FutureWarning: A value is trying to be set on a copy of a DataFrame or Series through chained assignment using an inplace method.\n",
            "The behavior will change in pandas 3.0. This inplace method will never work because the intermediate object on which we are setting values always behaves as a copy.\n",
            "\n",
            "For example, when doing 'df[col].method(value, inplace=True)', try using 'df.method({col: value}, inplace=True)' or df[col] = df[col].method(value) instead, to perform the operation inplace on the original object.\n",
            "\n",
            "\n",
            "  grads['University'].fillna(grads['University'].mode()[0], inplace=True)\n",
            "<ipython-input-14-e53b5e279287>:15: FutureWarning: A value is trying to be set on a copy of a DataFrame or Series through chained assignment using an inplace method.\n",
            "The behavior will change in pandas 3.0. This inplace method will never work because the intermediate object on which we are setting values always behaves as a copy.\n",
            "\n",
            "For example, when doing 'df[col].method(value, inplace=True)', try using 'df.method({col: value}, inplace=True)' or df[col] = df[col].method(value) instead, to perform the operation inplace on the original object.\n",
            "\n",
            "\n",
            "  grads['Sense of Humour (0-5)'].fillna(grads['Sense of Humour (0-5)'].median(), inplace=True)\n"
          ]
        }
      ]
    },
    {
      "cell_type": "markdown",
      "id": "bfa5a43f",
      "metadata": {
        "id": "bfa5a43f"
      },
      "source": [
        "Question 3: Reload the data and fill-in the data using mean method as well as the frequent method."
      ]
    },
    {
      "cell_type": "code",
      "source": [
        "grads = pd.read_csv(\"https://raw.githubusercontent.com/harmanani/AAI614/main/Week%203/grads.csv\")"
      ],
      "metadata": {
        "id": "PcKQHVX_zOO-"
      },
      "id": "PcKQHVX_zOO-",
      "execution_count": 17,
      "outputs": []
    },
    {
      "cell_type": "code",
      "source": [
        "# Fill numerical columns with the mean\n",
        "numerical_columns = grads.select_dtypes(include='number').columns\n",
        "for column in numerical_columns:\n",
        "    grads[column].fillna(grads[column].mean(), inplace=True)\n",
        "\n",
        "# Fill categorical columns with the mode (frequent value)\n",
        "categorical_columns = grads.select_dtypes(include='object').columns\n",
        "for column in categorical_columns:\n",
        "    grads[column].fillna(grads[column].mode()[0], inplace=True)\n",
        "\n",
        "# Print the updated dataframe to check if missing values are handled\n",
        "print(grads.isnull().sum())\n"
      ],
      "metadata": {
        "id": "Y2dkQl-0zgbH",
        "outputId": "b7e870fc-0723-47fc-e210-012400b9fb01",
        "colab": {
          "base_uri": "https://localhost:8080/"
        }
      },
      "id": "Y2dkQl-0zgbH",
      "execution_count": 18,
      "outputs": [
        {
          "output_type": "stream",
          "name": "stdout",
          "text": [
            "Student Name                  0\n",
            "Avg Hours Studies per Week    0\n",
            "GPA                           0\n",
            "University                    0\n",
            "Sense of Humour (0-5)         0\n",
            "Salary                        0\n",
            "dtype: int64\n"
          ]
        },
        {
          "output_type": "stream",
          "name": "stderr",
          "text": [
            "<ipython-input-18-59df8c8d9a3b>:4: FutureWarning: A value is trying to be set on a copy of a DataFrame or Series through chained assignment using an inplace method.\n",
            "The behavior will change in pandas 3.0. This inplace method will never work because the intermediate object on which we are setting values always behaves as a copy.\n",
            "\n",
            "For example, when doing 'df[col].method(value, inplace=True)', try using 'df.method({col: value}, inplace=True)' or df[col] = df[col].method(value) instead, to perform the operation inplace on the original object.\n",
            "\n",
            "\n",
            "  grads[column].fillna(grads[column].mean(), inplace=True)\n",
            "<ipython-input-18-59df8c8d9a3b>:9: FutureWarning: A value is trying to be set on a copy of a DataFrame or Series through chained assignment using an inplace method.\n",
            "The behavior will change in pandas 3.0. This inplace method will never work because the intermediate object on which we are setting values always behaves as a copy.\n",
            "\n",
            "For example, when doing 'df[col].method(value, inplace=True)', try using 'df.method({col: value}, inplace=True)' or df[col] = df[col].method(value) instead, to perform the operation inplace on the original object.\n",
            "\n",
            "\n",
            "  grads[column].fillna(grads[column].mode()[0], inplace=True)\n"
          ]
        }
      ]
    },
    {
      "cell_type": "markdown",
      "id": "26a4657e",
      "metadata": {
        "id": "26a4657e"
      },
      "source": [
        "Exercise II. Run the cell below to create a new dataframe called `df_miss`.  Its first column will contain some missing values."
      ]
    },
    {
      "cell_type": "code",
      "execution_count": 19,
      "id": "4565ad8c",
      "metadata": {
        "id": "4565ad8c",
        "outputId": "f68bed31-571b-44ba-b289-aeccf0a6bb24",
        "colab": {
          "base_uri": "https://localhost:8080/"
        }
      },
      "outputs": [
        {
          "output_type": "stream",
          "name": "stdout",
          "text": [
            "      col_0     col_1     col_2     col_3     col_4\n",
            "0       NaN       NaN  0.265048  0.783205  0.918001\n",
            "1  0.827355       NaN  0.260480  0.911763  0.260757\n",
            "2  0.766376  0.261531  0.122291  0.386006  0.840081\n",
            "3       NaN       NaN  0.633110  0.584766  0.581232\n",
            "4  0.677205  0.687155  0.438927  0.320927  0.570552\n",
            "5       NaN  0.861074  0.834805  0.105766  0.060408\n",
            "6  0.596882  0.792395  0.226356  0.535201  0.136066\n",
            "7  0.372244  0.151977  0.429822  0.792706  0.406957\n",
            "8  0.177850  0.909252  0.545331  0.100497  0.718721\n",
            "9  0.978429  0.309776  0.260126  0.662900  0.139720\n"
          ]
        },
        {
          "output_type": "stream",
          "name": "stderr",
          "text": [
            "<ipython-input-19-a77e6ba6a8cb>:21: FutureWarning: ChainedAssignmentError: behaviour will change in pandas 3.0!\n",
            "You are setting values through chained assignment. Currently this works in certain cases, but when using Copy-on-Write (which will become the default behaviour in pandas 3.0) this will never work to update the original DataFrame or Series, because the intermediate object on which we are setting values will behave as a copy.\n",
            "A typical example is when you are setting values in a column of a DataFrame, like:\n",
            "\n",
            "df[\"col\"][row_indexer] = value\n",
            "\n",
            "Use `df.loc[row_indexer, \"col\"] = values` instead, to perform the assignment in a single step and ensure this keeps updating the original `df`.\n",
            "\n",
            "See the caveats in the documentation: https://pandas.pydata.org/pandas-docs/stable/user_guide/indexing.html#returning-a-view-versus-a-copy\n",
            "\n",
            "  df_miss['col_0'][ix0] = np.nan\n",
            "<ipython-input-19-a77e6ba6a8cb>:22: FutureWarning: ChainedAssignmentError: behaviour will change in pandas 3.0!\n",
            "You are setting values through chained assignment. Currently this works in certain cases, but when using Copy-on-Write (which will become the default behaviour in pandas 3.0) this will never work to update the original DataFrame or Series, because the intermediate object on which we are setting values will behave as a copy.\n",
            "A typical example is when you are setting values in a column of a DataFrame, like:\n",
            "\n",
            "df[\"col\"][row_indexer] = value\n",
            "\n",
            "Use `df.loc[row_indexer, \"col\"] = values` instead, to perform the assignment in a single step and ensure this keeps updating the original `df`.\n",
            "\n",
            "See the caveats in the documentation: https://pandas.pydata.org/pandas-docs/stable/user_guide/indexing.html#returning-a-view-versus-a-copy\n",
            "\n",
            "  df_miss['col_1'][ix1] = np.nan\n"
          ]
        }
      ],
      "source": [
        "import pandas as pd\n",
        "import numpy as np\n",
        "import random\n",
        "\n",
        "nrows = 10\n",
        "ncols = 5\n",
        "\n",
        "# set a seed for random number generation\n",
        "np.random.seed(314)\n",
        "# create an array filled with random data\n",
        "data = np.array(np.random.rand(nrows, ncols))\n",
        "# put the data to a pandas dataframe\n",
        "df_miss = pd.DataFrame(data)\n",
        "# rename the columns\n",
        "df_miss.columns = ['col_'+str(ii) for ii in range(ncols)]\n",
        "\n",
        "# randomly set some values to missing\n",
        "ix0 = np.random.randint(nrows, size=3)\n",
        "ix1 = np.random.randint(nrows, size=3)\n",
        "\n",
        "df_miss['col_0'][ix0] = np.nan\n",
        "df_miss['col_1'][ix1] = np.nan\n",
        "\n",
        "print(df_miss)"
      ]
    },
    {
      "cell_type": "markdown",
      "id": "5c6e0c64",
      "metadata": {
        "id": "5c6e0c64"
      },
      "source": [
        "Impute the missing values (NaN) in `col_0` (but not `col_1`) with the median.  Store the values in the dataframe by using the parameter `inplace`.  Print the dataframe."
      ]
    },
    {
      "cell_type": "code",
      "execution_count": 20,
      "id": "253efe31",
      "metadata": {
        "id": "253efe31",
        "outputId": "25dfcdf7-71f5-4c37-ead9-5b9c343328b5",
        "colab": {
          "base_uri": "https://localhost:8080/"
        }
      },
      "outputs": [
        {
          "output_type": "stream",
          "name": "stdout",
          "text": [
            "      col_0     col_1     col_2     col_3     col_4\n",
            "0       NaN       NaN  0.265048  0.783205  0.918001\n",
            "1  0.827355       NaN  0.260480  0.911763  0.260757\n",
            "2  0.766376  0.261531  0.122291  0.386006  0.840081\n",
            "3       NaN       NaN  0.633110  0.584766  0.581232\n",
            "4  0.677205  0.687155  0.438927  0.320927  0.570552\n",
            "5       NaN  0.861074  0.834805  0.105766  0.060408\n",
            "6  0.596882  0.792395  0.226356  0.535201  0.136066\n",
            "7  0.372244  0.151977  0.429822  0.792706  0.406957\n",
            "8  0.177850  0.909252  0.545331  0.100497  0.718721\n",
            "9  0.978429  0.309776  0.260126  0.662900  0.139720\n",
            "col_0    3\n",
            "col_1    3\n",
            "col_2    0\n",
            "col_3    0\n",
            "col_4    0\n",
            "dtype: int64\n"
          ]
        }
      ],
      "source": [
        "print(df_miss)\n",
        "print(df_miss.isnull().sum())  # To see the count of missing values in each column\n"
      ]
    },
    {
      "cell_type": "code",
      "source": [
        "# Impute missing values in 'col_0' with the median\n",
        "median_value = df_miss['col_0'].median()  # Calculate the median of col_0\n",
        "df_miss['col_0'].fillna(median_value, inplace=True)  # Fill NaN values with the median\n",
        "\n",
        "# Print the updated dataframe\n",
        "print(df_miss)\n"
      ],
      "metadata": {
        "id": "D6CUvEOfzvO0",
        "outputId": "628579f0-0f25-4f94-c63c-6bff513f3590",
        "colab": {
          "base_uri": "https://localhost:8080/"
        }
      },
      "id": "D6CUvEOfzvO0",
      "execution_count": 21,
      "outputs": [
        {
          "output_type": "stream",
          "name": "stdout",
          "text": [
            "      col_0     col_1     col_2     col_3     col_4\n",
            "0  0.677205       NaN  0.265048  0.783205  0.918001\n",
            "1  0.827355       NaN  0.260480  0.911763  0.260757\n",
            "2  0.766376  0.261531  0.122291  0.386006  0.840081\n",
            "3  0.677205       NaN  0.633110  0.584766  0.581232\n",
            "4  0.677205  0.687155  0.438927  0.320927  0.570552\n",
            "5  0.677205  0.861074  0.834805  0.105766  0.060408\n",
            "6  0.596882  0.792395  0.226356  0.535201  0.136066\n",
            "7  0.372244  0.151977  0.429822  0.792706  0.406957\n",
            "8  0.177850  0.909252  0.545331  0.100497  0.718721\n",
            "9  0.978429  0.309776  0.260126  0.662900  0.139720\n"
          ]
        },
        {
          "output_type": "stream",
          "name": "stderr",
          "text": [
            "<ipython-input-21-20dea53a7053>:3: FutureWarning: A value is trying to be set on a copy of a DataFrame or Series through chained assignment using an inplace method.\n",
            "The behavior will change in pandas 3.0. This inplace method will never work because the intermediate object on which we are setting values always behaves as a copy.\n",
            "\n",
            "For example, when doing 'df[col].method(value, inplace=True)', try using 'df.method({col: value}, inplace=True)' or df[col] = df[col].method(value) instead, to perform the operation inplace on the original object.\n",
            "\n",
            "\n",
            "  df_miss['col_0'].fillna(median_value, inplace=True)  # Fill NaN values with the median\n"
          ]
        }
      ]
    },
    {
      "cell_type": "markdown",
      "id": "e2e43725",
      "metadata": {
        "id": "e2e43725"
      },
      "source": [
        "Impute the missing values in `col_1` with value 0.  Store the values in the dataframe by using the parameter `inplace`.  Print the dataframe."
      ]
    },
    {
      "cell_type": "code",
      "execution_count": 22,
      "id": "d3c600ba",
      "metadata": {
        "id": "d3c600ba",
        "outputId": "2cc3854e-a1cf-411c-813b-7d2a9c809fd8",
        "colab": {
          "base_uri": "https://localhost:8080/"
        }
      },
      "outputs": [
        {
          "output_type": "stream",
          "name": "stdout",
          "text": [
            "      col_0     col_1     col_2     col_3     col_4\n",
            "0  0.677205  0.000000  0.265048  0.783205  0.918001\n",
            "1  0.827355  0.000000  0.260480  0.911763  0.260757\n",
            "2  0.766376  0.261531  0.122291  0.386006  0.840081\n",
            "3  0.677205  0.000000  0.633110  0.584766  0.581232\n",
            "4  0.677205  0.687155  0.438927  0.320927  0.570552\n",
            "5  0.677205  0.861074  0.834805  0.105766  0.060408\n",
            "6  0.596882  0.792395  0.226356  0.535201  0.136066\n",
            "7  0.372244  0.151977  0.429822  0.792706  0.406957\n",
            "8  0.177850  0.909252  0.545331  0.100497  0.718721\n",
            "9  0.978429  0.309776  0.260126  0.662900  0.139720\n"
          ]
        },
        {
          "output_type": "stream",
          "name": "stderr",
          "text": [
            "<ipython-input-22-7d6f72a86337>:2: FutureWarning: A value is trying to be set on a copy of a DataFrame or Series through chained assignment using an inplace method.\n",
            "The behavior will change in pandas 3.0. This inplace method will never work because the intermediate object on which we are setting values always behaves as a copy.\n",
            "\n",
            "For example, when doing 'df[col].method(value, inplace=True)', try using 'df.method({col: value}, inplace=True)' or df[col] = df[col].method(value) instead, to perform the operation inplace on the original object.\n",
            "\n",
            "\n",
            "  df_miss['col_1'].fillna(0, inplace=True)\n"
          ]
        }
      ],
      "source": [
        "# Impute missing values in 'col_1' with the value 0\n",
        "df_miss['col_1'].fillna(0, inplace=True)\n",
        "\n",
        "# Print the updated dataframe\n",
        "print(df_miss)\n"
      ]
    }
  ],
  "metadata": {
    "kernelspec": {
      "display_name": "Python 3 (ipykernel)",
      "language": "python",
      "name": "python3"
    },
    "language_info": {
      "codemirror_mode": {
        "name": "ipython",
        "version": 3
      },
      "file_extension": ".py",
      "mimetype": "text/x-python",
      "name": "python",
      "nbconvert_exporter": "python",
      "pygments_lexer": "ipython3",
      "version": "3.10.11"
    },
    "colab": {
      "provenance": []
    }
  },
  "nbformat": 4,
  "nbformat_minor": 5
}