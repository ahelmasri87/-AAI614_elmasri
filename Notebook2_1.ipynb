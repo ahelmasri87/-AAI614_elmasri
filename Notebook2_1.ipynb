{
  "cells": [
    {
      "cell_type": "markdown",
      "metadata": {
        "id": "TmX7gLFCzrtn"
      },
      "source": [
        "\n",
        "# AAI612: Deep Learning & its Applications\n",
        "\n",
        "\n",
        "*Notebook 2.1: Learning the XOR Functions*\n",
        "\n",
        "<a href=\"https://colab.research.google.com/github/harmanani/AAI612/blob/main/Week2/Notebook2.1.ipynb\" target=\"_parent\"><img src=\"https://colab.research.google.com/assets/colab-badge.svg\" alt=\"Open In Colab\"/></a>"
      ]
    },
    {
      "cell_type": "code",
      "execution_count": null,
      "metadata": {
        "id": "KxP6NGl4zrtq"
      },
      "outputs": [],
      "source": [
        "\"\"\"\n",
        "The MIT License (MIT)\n",
        "\n",
        "Copyright (c) 2021 NVIDIA\n",
        "\n",
        "Permission is hereby granted, free of charge, to any person obtaining a copy of\n",
        "this software and associated documentation files (the \"Software\"), to deal in\n",
        "the Software without restriction, including without limitation the rights to\n",
        "use, copy, modify, merge, publish, distribute, sublicense, and/or sell copies of\n",
        "the Software, and to permit persons to whom the Software is furnished to do so,\n",
        "subject to the following conditions:\n",
        "\n",
        "The above copyright notice and this permission notice shall be included in all\n",
        "copies or substantial portions of the Software.\n",
        "\n",
        "THE SOFTWARE IS PROVIDED \"AS IS\", WITHOUT WARRANTY OF ANY KIND, EXPRESS OR\n",
        "IMPLIED, INCLUDING BUT NOT LIMITED TO THE WARRANTIES OF MERCHANTABILITY, FITNESS\n",
        "FOR A PARTICULAR PURPOSE AND NONINFRINGEMENT. IN NO EVENT SHALL THE AUTHORS OR\n",
        "COPYRIGHT HOLDERS BE LIABLE FOR ANY CLAIM, DAMAGES OR OTHER LIABILITY, WHETHER\n",
        "IN AN ACTION OF CONTRACT, TORT OR OTHERWISE, ARISING FROM, OUT OF OR IN\n",
        "CONNECTION WITH THE SOFTWARE OR THE USE OR OTHER DEALINGS IN THE SOFTWARE.\n",
        "\"\"\""
      ]
    },
    {
      "cell_type": "markdown",
      "metadata": {
        "id": "KHfFaGP8zrtr"
      },
      "source": [
        "### XOR Gate"
      ]
    },
    {
      "cell_type": "markdown",
      "metadata": {
        "id": "nHD_5oGwzrtr"
      },
      "source": [
        "This lab illustrates how the learning algorithm for multilevel feedforward networks works in practice using a simple XOR problem.  We use a the following three-neuron network:"
      ]
    },
    {
      "cell_type": "markdown",
      "metadata": {
        "id": "0Q_AJZJWzrtr"
      },
      "source": [
        "<img src=\"https://github.com/harmanani/AAI612/blob/main/Week2/images/xor_neural_network.png?raw=1\" style=\"width: 400px;\">"
      ]
    },
    {
      "cell_type": "markdown",
      "metadata": {
        "id": "W0TgohrBzrtr"
      },
      "source": [
        "The above network shows neurons N0, N1, and N2 with the bias inputs omitted.  We do not also show the weights in the figure. We use tanh as an activation function for N0 and N1 and the logistic sigmoid function as an activation function for the output neuron N2, and we use MSE as the loss function."
      ]
    },
    {
      "cell_type": "markdown",
      "metadata": {
        "id": "KOF6WXBEzrts"
      },
      "source": [
        "The XOR gates are the basis of computation and are often called in \"half-adders\", the foundation of being able to add numbers together. Here's the truth table for XOR:\n",
        "\n",
        "### XOR (Exclusive Or) Gate\n",
        "\n",
        "<table>\n",
        "\n",
        "<tr>\n",
        "<th colspan=\"3\">XOR gate truth table</th>\n",
        "</tr>\n",
        "\n",
        "<tr>\n",
        "<th colspan=\"2\">Input</th>\n",
        "<th>Output</th>\n",
        "</tr>\n",
        "\n",
        "<tr>\n",
        "<td>0</td>\n",
        "<td>0</td>\n",
        "<td>0</td>\n",
        "</tr>\n",
        "\n",
        "<tr>\n",
        "<td>0</td>\n",
        "<td>1</td>\n",
        "<td>1</td>\n",
        "</tr>\n",
        "\n",
        "<tr>\n",
        "<td>1</td>\n",
        "<td>0</td>\n",
        "<td>1</td>\n",
        "</tr>\n",
        "\n",
        "<tr>\n",
        "<td>1</td>\n",
        "<td>1</td>\n",
        "<td>0</td>\n",
        "</tr>\n",
        "\n",
        "</table>"
      ]
    },
    {
      "cell_type": "markdown",
      "metadata": {
        "id": "ZiYXuTzMzrts"
      },
      "source": [
        "### Init Code for XOR Learning Example"
      ]
    },
    {
      "cell_type": "code",
      "execution_count": 1,
      "metadata": {
        "id": "8Eb_tKF7zrts"
      },
      "outputs": [],
      "source": [
        "import numpy as np\n",
        "\n",
        "# Training data for XOR function\n",
        "x_train_xor = [np.array([1.0, -1.0, -1.0]),  # Input: [1, 0, 0]\n",
        "               np.array([1.0, -1.0, 1.0]),   # Input: [1, 0, 1]\n",
        "               np.array([1.0, 1.0, -1.0]),   # Input: [1, 1, 0]\n",
        "               np.array([1.0, 1.0, 1.0])]    # Input: [1, 1, 1]\n",
        "y_train_xor = [0.0, 1.0, 1.0, 0.0]  # Output for XOR function\n"
      ]
    },
    {
      "cell_type": "markdown",
      "metadata": {
        "id": "94V1cBo3zrts"
      },
      "source": [
        "### Variables Needed to Track State of Neurons"
      ]
    },
    {
      "cell_type": "code",
      "execution_count": 3,
      "metadata": {
        "id": "sxZint55zrtt"
      },
      "outputs": [],
      "source": [
        "# Neuron weight initialization function\n",
        "def neuron_w(input_count):\n",
        "    weights = np.zeros(input_count+1)\n",
        "    for i in range(1, (input_count+1)):\n",
        "        weights[i] = np.random.uniform(-1.0, 1.0)\n",
        "    return weights\n",
        "\n",
        "# Initialize weights for each neuron\n",
        "n_w = [neuron_w(2), neuron_w(2), neuron_w(2)]  # Weights for 3 neurons\n",
        "n_y = [0, 0, 0]  # Output of each neuron\n",
        "n_error = [0, 0, 0]  # Error of each neuron\n"
      ]
    },
    {
      "cell_type": "markdown",
      "metadata": {
        "id": "S7Q2WAD9zrtt"
      },
      "source": [
        "### Helper Functions for Backpropagation:"
      ]
    },
    {
      "cell_type": "code",
      "execution_count": 4,
      "metadata": {
        "id": "3iiEuFcszrtt"
      },
      "outputs": [],
      "source": [
        "# Forward pass function\n",
        "def forward_pass(x):\n",
        "    global n_y, n_w\n",
        "    n_y[0] = np.tanh(np.dot(n_w[0], x))  # Neuron 0\n",
        "    n_y[1] = np.tanh(np.dot(n_w[1], x))  # Neuron 1\n",
        "    n2_inputs = np.array([1.0, n_y[0], n_y[1]])  # Bias\n",
        "    z2 = np.dot(n_w[2], n2_inputs)\n",
        "    n_y[2] = 1.0 / (1.0 + np.exp(-z2))  # Logistic function\n",
        "\n",
        "# Backward pass function\n",
        "def backward_pass(y_truth):\n",
        "    global n_error, n_y, n_w\n",
        "    error_prime = -(y_truth - n_y[2])  # Derivative of loss function\n",
        "    derivative = n_y[2] * (1.0 - n_y[2])  # Logistic derivative\n",
        "    n_error[2] = error_prime * derivative\n",
        "    derivative = 1.0 - n_y[0]**2  # tanh derivative\n",
        "    n_error[0] = n_w[2][1] * n_error[2] * derivative\n",
        "    derivative = 1.0 - n_y[1]**2  # tanh derivative\n",
        "    n_error[1] = n_w[2][2] * n_error[2] * derivative\n",
        "\n",
        "# Weight adjustment function\n",
        "def adjust_weights(x):\n",
        "    global n_w, n_y, n_error\n",
        "    LEARNING_RATE = 0.1\n",
        "    n_w[0] -= (x * LEARNING_RATE * n_error[0])\n",
        "    n_w[1] -= (x * LEARNING_RATE * n_error[1])\n",
        "    n2_inputs = np.array([1.0, n_y[0], n_y[1]])  # Bias\n",
        "    n_w[2] -= (n2_inputs * LEARNING_RATE * n_error[2])\n"
      ]
    },
    {
      "cell_type": "markdown",
      "metadata": {
        "id": "PTkkTAmnzrtt"
      },
      "source": [
        "### Training Loop to Learn the XOR Function with Backpropagation"
      ]
    },
    {
      "cell_type": "code",
      "execution_count": 6,
      "metadata": {
        "id": "yZxj7Hs_zrtt",
        "outputId": "2a60af23-9924-4d59-967c-3436f2d35fa8",
        "colab": {
          "base_uri": "https://localhost:8080/"
        }
      },
      "outputs": [
        {
          "output_type": "stream",
          "name": "stdout",
          "text": [
            "Final Weights: [array([ 1.49115431, -1.24173489, -1.47550377]), array([0.17240125, 0.53326428, 0.90115118]), array([-0.77883979,  1.70326004,  1.08808986])]\n",
            "Iterations: 348\n"
          ]
        }
      ],
      "source": [
        "# Training loop\n",
        "index_list = [0, 1, 2, 3]  # For randomizing training order\n",
        "\n",
        "all_correct = False\n",
        "iterations = 0\n",
        "while not all_correct and iterations < 10000:  # Limit iterations\n",
        "    all_correct = True\n",
        "    np.random.shuffle(index_list)  # Randomize order\n",
        "    for i in index_list:  # Train on all examples\n",
        "        forward_pass(x_train_xor[i])\n",
        "        backward_pass(y_train_xor[i])\n",
        "        adjust_weights(x_train_xor[i])\n",
        "\n",
        "    for i in range(len(x_train_xor)):  # Check if converged\n",
        "        forward_pass(x_train_xor[i])\n",
        "        # Check if output matches expected value\n",
        "        if (((y_train_xor[i] < 0.5) and (n_y[2] >= 0.5)) or ((y_train_xor[i] >= 0.5) and (n_y[2] < 0.5))):\n",
        "            all_correct = False\n",
        "    iterations += 1\n",
        "\n",
        "# Displaying the final weights and number of iterations\n",
        "print(\"Final Weights:\", n_w)\n",
        "print(\"Iterations:\", iterations)\n"
      ]
    },
    {
      "cell_type": "markdown",
      "metadata": {
        "id": "tAynudhWzrtt"
      },
      "source": []
    }
  ],
  "metadata": {
    "colab": {
      "name": "Notebook2.1.ipynb",
      "provenance": []
    },
    "kernelspec": {
      "display_name": "Python 3",
      "language": "python",
      "name": "python3"
    },
    "language_info": {
      "codemirror_mode": {
        "name": "ipython",
        "version": 3
      },
      "file_extension": ".py",
      "mimetype": "text/x-python",
      "name": "python",
      "nbconvert_exporter": "python",
      "pygments_lexer": "ipython3",
      "version": "3.10.11"
    }
  },
  "nbformat": 4,
  "nbformat_minor": 0
}