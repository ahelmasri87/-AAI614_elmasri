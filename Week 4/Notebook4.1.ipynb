{
  "cells": [
    {
      "cell_type": "markdown",
      "metadata": {
        "id": "DY6r9WXybbYn"
      },
      "source": [
        "# AAI614: Data Science & its Applications\n",
        "\n",
        "*Notebook 4.1: Graph Analytics with cuGraph and TIGER*\n",
        "\n",
        "<a href=\"https://colab.research.google.com/github/harmanani/AAI614/blob/main/Week%204/Notebook4.1.ipynb\" target=\"_parent\"><img src=\"https://colab.research.google.com/assets/colab-badge.svg\" alt=\"Open In Colab\"/></a>\n",
        "\n",
        "\n",
        "\n",
        "\n",
        "The study of network robustness is critical to the understanding of complex interconnected systems. For example, consider an example of a power grid network that is susceptible to both natural failures and targeted attacks. A natural failure occurs when a single power substation fails due to erosion of parts or natural disasters. However, when one substation fails, additional load is routed to alternative substations, potentially causing a series of cascading failures. Not all failures originate from natural causes, some come from targeted attacks, such as enemy states hacking into the grid to sabotage key equipment to maximally damage the operations of the electrical grid. A natural counterpart to network robustness is vulnerability, defined as measure of a network’s susceptibility to the dissemination of entities across the network, such as how quickly a virus spreads across a computer network.\n",
        "\n",
        "In this lab, we show how to use [cuGraph](https://github.com/rapidsai/cugraph) and [TIGER](https://github.com/safreita1/TIGER) to conduct state-of-the-art GPU accelerated graph vulnerability and robustness analysis. Specifically, we will look at how to:\n",
        "\n",
        "- *Quantify network vulnerability and robustness* (**Part 1**),\n",
        "- *Simulate network attacks and cascading failures on networks* (**Part 2**)\n",
        "- *Regulate the dissemination of computer virues on a network* (**Part 3**)\n",
        "\n",
        "Lab Source: **NVIDIA**"
      ]
    },
    {
      "cell_type": "markdown",
      "metadata": {
        "id": "m07IHxfBuBp7"
      },
      "source": [
        "## Setup\n",
        "Lets begin by installing the following 2 libraries:\n",
        "\n",
        "1.   Graph vulnerability and robustness analysis library: [TIGER](https://github.com/safreita1/TIGER)\n",
        "2.   GPU acceleration library: [CuPy](https://github.com/cupy/cupy)\n"
      ]
    },
    {
      "cell_type": "code",
      "execution_count": 5,
      "metadata": {
        "colab": {
          "base_uri": "https://localhost:8080/"
        },
        "id": "0w_bThcZtlX3",
        "outputId": "3b4788cc-b734-4505-8eca-0e74c1dc5780"
      },
      "outputs": [
        {
          "output_type": "stream",
          "name": "stdout",
          "text": [
            "Requirement already satisfied: graph-tiger in /usr/local/lib/python3.10/dist-packages (0.2.5)\n"
          ]
        }
      ],
      "source": [
        "pip install graph-tiger"
      ]
    },
    {
      "cell_type": "code",
      "source": [
        "# This gets the RAPIDS-Colab install files and checks your GPU compatibility.\n",
        "!git clone https://github.com/rapidsai/rapidsai-csp-utils.git\n",
        "!python rapidsai-csp-utils/colab/env-check.py\n"
      ],
      "metadata": {
        "id": "4rqYi9oWduVX",
        "outputId": "7144351d-3abf-45b1-ffe3-ea23952e147b",
        "colab": {
          "base_uri": "https://localhost:8080/"
        }
      },
      "execution_count": 7,
      "outputs": [
        {
          "output_type": "stream",
          "name": "stdout",
          "text": [
            "fatal: destination path 'rapidsai-csp-utils' already exists and is not an empty directory.\n",
            "Collecting pynvml\n",
            "  Downloading pynvml-11.5.3-py3-none-any.whl.metadata (8.8 kB)\n",
            "Downloading pynvml-11.5.3-py3-none-any.whl (53 kB)\n",
            "   ━━━━━━━━━━━━━━━━━━━━━━━━━━━━━━━━━━━━━━━━ 53.1/53.1 kB 2.8 MB/s eta 0:00:00\n",
            "Installing collected packages: pynvml\n",
            "Successfully installed pynvml-11.5.3\n",
            "***********************************************************************\n",
            "Woo! Your instance has the right kind of GPU, a Tesla T4!\n",
            "We will now install RAPIDS via pip!  Please stand by, should be quick...\n",
            "***********************************************************************\n",
            "\n"
          ]
        }
      ]
    },
    {
      "cell_type": "code",
      "source": [
        "# This updates the Colab environment and restarts the kernel.\n",
        "!bash rapidsai-csp-utils/colab/update_gcc.sh\n",
        "import os\n",
        "os._exit(00)\n"
      ],
      "metadata": {
        "id": "6B0KxsWCdxIP",
        "outputId": "bce6c0c2-03bb-4e7a-a0fa-838146d70305",
        "colab": {
          "base_uri": "https://localhost:8080/"
        }
      },
      "execution_count": null,
      "outputs": [
        {
          "output_type": "stream",
          "name": "stdout",
          "text": [
            "Updating your Colab environment.  This will restart your kernel.  Don't Panic!\n",
            "Found existing installation: cupy-cuda12x 12.2.0\n",
            "Uninstalling cupy-cuda12x-12.2.0:\n",
            "  Successfully uninstalled cupy-cuda12x-12.2.0\n",
            "restarting Colab...\n"
          ]
        }
      ]
    },
    {
      "cell_type": "code",
      "source": [
        "# Installing CondaColab.  (will restart your kernel again.)\n",
        "import condacolab\n",
        "condacolab.install()\n"
      ],
      "metadata": {
        "id": "0-LsZO1Jd4hd",
        "outputId": "5cc4dbef-774c-44d9-878f-3312a578b3e2",
        "colab": {
          "base_uri": "https://localhost:8080/"
        }
      },
      "execution_count": 1,
      "outputs": [
        {
          "output_type": "stream",
          "name": "stdout",
          "text": [
            "⏬ Downloading https://github.com/conda-forge/miniforge/releases/download/23.11.0-0/Mambaforge-23.11.0-0-Linux-x86_64.sh...\n",
            "📦 Installing...\n",
            "📌 Adjusting configuration...\n",
            "🩹 Patching environment...\n",
            "⏲ Done in 0:00:08\n",
            "🔁 Restarting kernel...\n"
          ]
        }
      ]
    },
    {
      "cell_type": "code",
      "source": [
        "# Checking Conda installation.\n",
        "import condacolab\n",
        "condacolab.check()\n"
      ],
      "metadata": {
        "id": "1MSS6RW4eAuG",
        "outputId": "2a9476e9-23ca-442d-bf4f-ec73381b009a",
        "colab": {
          "base_uri": "https://localhost:8080/"
        }
      },
      "execution_count": 1,
      "outputs": [
        {
          "output_type": "stream",
          "name": "stdout",
          "text": [
            "✨🍰✨ Everything looks OK!\n"
          ]
        }
      ]
    },
    {
      "cell_type": "code",
      "source": [
        "# Installing RAPIDS. Replace \"nightly\" with \"stable\" if you prefer.\n",
        "!python rapidsai-csp-utils/colab/install_rapids.py stable\n",
        "import os\n",
        "os.environ['NUMBAPRO_NVVM'] = '/usr/local/cuda/nvvm/lib64/libnvvm.so'\n",
        "os.environ['NUMBAPRO_LIBDEVICE'] = '/usr/local/cuda/nvvm/libdevice/'\n",
        "os.environ['CONDA_PREFIX'] = '/usr/local'\n"
      ],
      "metadata": {
        "id": "01ujVOKzeDlg",
        "outputId": "fe26d963-0061-4bd8-edc7-eaccc0b4aa17",
        "colab": {
          "base_uri": "https://localhost:8080/"
        }
      },
      "execution_count": 2,
      "outputs": [
        {
          "output_type": "stream",
          "name": "stdout",
          "text": [
            "Collecting pynvml\n",
            "  Using cached pynvml-11.5.3-py3-none-any.whl.metadata (8.8 kB)\n",
            "Using cached pynvml-11.5.3-py3-none-any.whl (53 kB)\n",
            "Installing collected packages: pynvml\n",
            "Successfully installed pynvml-11.5.3\n",
            "Found existing installation: cffi 1.16.0\n",
            "Uninstalling cffi-1.16.0:\n",
            "  Successfully uninstalled cffi-1.16.0\n",
            "WARNING: Skipping cryptography as it is not installed.\n",
            "Collecting cffi==1.15.0\n",
            "  Downloading cffi-1.15.0-cp310-cp310-manylinux_2_12_x86_64.manylinux2010_x86_64.whl.metadata (1.2 kB)\n",
            "Requirement already satisfied: pycparser in /usr/local/lib/python3.10/site-packages (from cffi==1.15.0) (2.21)\n",
            "Downloading cffi-1.15.0-cp310-cp310-manylinux_2_12_x86_64.manylinux2010_x86_64.whl (446 kB)\n",
            "   ━━━━━━━━━━━━━━━━━━━━━━━━━━━━━━━━━━━━━━━━ 446.3/446.3 kB 11.6 MB/s eta 0:00:00\n",
            "Installing collected packages: cffi\n",
            "Successfully installed cffi-1.15.0\n",
            "Installing RAPIDS Stable 23.12\n",
            "Starting the RAPIDS install on Colab.  This will take about 15 minutes.\n",
            "Channels:\n",
            " - conda-forge\n",
            "Platform: linux-64\n",
            "Collecting package metadata (repodata.json): ...working... done\n",
            "Solving environment: ...working... done\n",
            "\n",
            "## Package Plan ##\n",
            "\n",
            "  environment location: /usr/local\n",
            "\n",
            "  added / updated specs:\n",
            "    - mamba\n",
            "\n",
            "\n",
            "The following packages will be downloaded:\n",
            "\n",
            "    package                    |            build\n",
            "    ---------------------------|-----------------\n",
            "    archspec-0.2.3             |     pyhd8ed1ab_0          48 KB  conda-forge\n",
            "    ca-certificates-2024.8.30  |       hbcca054_0         155 KB  conda-forge\n",
            "    certifi-2024.8.30          |     pyhd8ed1ab_0         160 KB  conda-forge\n",
            "    conda-24.7.1               |  py310hff52083_0         940 KB  conda-forge\n",
            "    fmt-10.2.1                 |       h00ab1b0_0         189 KB  conda-forge\n",
            "    frozendict-2.4.6           |  py310ha75aee5_0          48 KB  conda-forge\n",
            "    libcurl-8.8.0              |       hca28451_0         396 KB  conda-forge\n",
            "    libgcc-14.2.0              |       h77fa898_1         829 KB  conda-forge\n",
            "    libgcc-ng-14.2.0           |       h69a702a_1          53 KB  conda-forge\n",
            "    libgomp-14.2.0             |       h77fa898_1         450 KB  conda-forge\n",
            "    libmamba-1.5.8             |       had39da4_0         1.6 MB  conda-forge\n",
            "    libmambapy-1.5.8           |  py310h39ff949_0         302 KB  conda-forge\n",
            "    mamba-1.5.8                |  py310h51d5547_0          51 KB  conda-forge\n",
            "    openssl-3.4.0              |       hb9d3cd8_0         2.8 MB  conda-forge\n",
            "    zstandard-0.23.0           |  py310ha39cb0e_1         399 KB  conda-forge\n",
            "    zstd-1.5.6                 |       ha6fb4c9_0         542 KB  conda-forge\n",
            "    ------------------------------------------------------------\n",
            "                                           Total:         8.9 MB\n",
            "\n",
            "The following NEW packages will be INSTALLED:\n",
            "\n",
            "  frozendict         conda-forge/linux-64::frozendict-2.4.6-py310ha75aee5_0\n",
            "  libgcc             conda-forge/linux-64::libgcc-14.2.0-h77fa898_1\n",
            "\n",
            "The following packages will be UPDATED:\n",
            "\n",
            "  archspec                               0.2.2-pyhd8ed1ab_0 --> 0.2.3-pyhd8ed1ab_0\n",
            "  ca-certificates                     2023.11.17-hbcca054_0 --> 2024.8.30-hbcca054_0\n",
            "  certifi                           2023.11.17-pyhd8ed1ab_0 --> 2024.8.30-pyhd8ed1ab_0\n",
            "  conda                             23.11.0-py310hff52083_1 --> 24.7.1-py310hff52083_0\n",
            "  fmt                                     10.1.1-h00ab1b0_1 --> 10.2.1-h00ab1b0_0\n",
            "  libcurl                                  8.5.0-hca28451_0 --> 8.8.0-hca28451_0\n",
            "  libgcc-ng                               13.2.0-h807b86a_3 --> 14.2.0-h69a702a_1\n",
            "  libgomp                                 13.2.0-h807b86a_3 --> 14.2.0-h77fa898_1\n",
            "  libmamba                                 1.5.5-had39da4_0 --> 1.5.8-had39da4_0\n",
            "  libmambapy                          1.5.5-py310h39ff949_0 --> 1.5.8-py310h39ff949_0\n",
            "  mamba                               1.5.5-py310h51d5547_0 --> 1.5.8-py310h51d5547_0\n",
            "  openssl                                  3.2.0-hd590300_1 --> 3.4.0-hb9d3cd8_0\n",
            "  zstandard                          0.22.0-py310h1275a96_0 --> 0.23.0-py310ha39cb0e_1\n",
            "  zstd                                     1.5.5-hfc55251_0 --> 1.5.6-ha6fb4c9_0\n",
            "\n",
            "\n",
            "\n",
            "Downloading and Extracting Packages: ...working... done\n",
            "Preparing transaction: ...working... done\n",
            "Verifying transaction: ...working... done\n",
            "Executing transaction: ...working... done\n",
            "warning  libmamba Could not parse mod/etag header\n",
            "warning  libmamba Could not parse mod/etag header\n",
            "Transaction\n",
            "\n",
            "  Prefix: /usr/local\n",
            "\n",
            "  Updating specs:\n",
            "\n",
            "   - python=3.10\n",
            "   - cuda-version=12.0\n",
            "   - rapids=23.12\n",
            "   - llvmlite\n",
            "   - gcsfs\n",
            "   - openssl\n",
            "   - dask-sql\n",
            "   - ca-certificates\n",
            "   - certifi\n",
            "   - openssl\n",
            "\n",
            "\n",
            "  Package                                 Version  Build                              Channel           Size\n",
            "──────────────────────────────────────────────────────────────────────────────────────────────────────────────\n",
            "  Install:\n",
            "──────────────────────────────────────────────────────────────────────────────────────────────────────────────\n",
            "\n",
            "  + libstdcxx                              14.2.0  hc0a3c3a_1                         conda-forge        4MB\n",
            "  + psutil                                  6.1.0  py310ha75aee5_0                    conda-forge      369kB\n",
            "  + tornado                                 6.4.1  py310ha75aee5_1                    conda-forge      651kB\n",
            "  + libutf8proc                             2.8.0  h166bdaf_0                         conda-forge      101kB\n",
            "  + libabseil                          20230802.1  cxx17_h59595ed_0                   conda-forge        1MB\n",
            "  + libbrotlicommon                         1.1.0  hd590300_1                         conda-forge       69kB\n",
            "  + libcrc32c                               1.1.2  h9c3ff4c_0                         conda-forge       20kB\n",
            "  + lz4                                     4.3.3  py310hb259640_1                    conda-forge       37kB\n",
            "  + libpng                                 1.6.43  h2797004_0                         conda-forge      288kB\n",
            "  + websockets                               10.4  py310h5764c6d_1                    conda-forge      129kB\n",
            "  + libgfortran5                           14.2.0  hd5240d6_1                         conda-forge        1MB\n",
            "  + yaml                                    0.2.5  h7f98852_2                         conda-forge       89kB\n",
            "  + libjpeg-turbo                           3.0.0  hd590300_1                         conda-forge      619kB\n",
            "  + libdeflate                               1.19  hd590300_0                         conda-forge       67kB\n",
            "  + lerc                                    4.0.0  h27087fc_0                         conda-forge      282kB\n",
            "  + libwebp-base                            1.3.2  hd590300_1                         conda-forge      435kB\n",
            "  + snappy                                 1.1.10  hdb0a2a9_1                         conda-forge       40kB\n",
            "  + libllvm14                              14.0.6  hcd5def8_4                         conda-forge       31MB\n",
            "  + pthread-stubs                             0.4  hb9d3cd8_1002                      conda-forge        8kB\n",
            "  + xorg-libxau                            1.0.11  hb9d3cd8_1                         conda-forge       15kB\n",
            "  + xorg-libxdmcp                           1.1.5  hb9d3cd8_0                         conda-forge       20kB\n",
            "  + giflib                                  5.2.2  hd590300_0                         conda-forge       77kB\n",
            "  + libllvm15                              15.0.7  hb3ce162_4                         conda-forge       33MB\n",
            "  + aws-c-common                           0.9.12  hd590300_0                         conda-forge      225kB\n",
            "  + s2n                                     1.4.1  h06160fa_0                         conda-forge      331kB\n",
            "  + tzlocal                                   5.2  py310hff52083_1                    conda-forge       35kB\n",
            "  + frozenlist                              1.5.0  py310ha75aee5_0                    conda-forge       60kB\n",
            "  + propcache                               0.2.0  py310ha75aee5_2                    conda-forge       53kB\n",
            "  + dlpack                                    0.5  h9c3ff4c_0                         conda-forge       13kB\n",
            "  + zlib                                   1.2.13  hd590300_5                         conda-forge       93kB\n",
            "  + libuv                                  1.48.0  hd590300_0                         conda-forge      900kB\n",
            "  + geos                                   3.12.0  h59595ed_0                         conda-forge        2MB\n",
            "  + nvtx                                   0.2.10  py310ha75aee5_2                    conda-forge      109kB\n",
            "  + sqlite                                 3.44.2  h2c6b66d_0                         conda-forge      836kB\n",
            "  + gtest                                  1.15.2  h434a139_0                         conda-forge      408kB\n",
            "  + httptools                               0.6.1  py310ha75aee5_1                    conda-forge       90kB\n",
            "  + cryptography                           43.0.3  py310h6c63255_0                    conda-forge        1MB\n",
            "  + markupsafe                              3.0.2  py310h89163eb_0                    conda-forge       23kB\n",
            "  + libspatialindex                         2.0.0  he02047a_0                         conda-forge      391kB\n",
            "  + libnl                                  3.11.0  hb9d3cd8_0                         conda-forge      741kB\n",
            "  + qhull                                  2020.2  h434a139_5                         conda-forge      553kB\n",
            "  + libevent                               2.1.12  hf998b51_1                         conda-forge      427kB\n",
            "  + attr                                    2.5.1  h166bdaf_1                         conda-forge       71kB\n",
            "  + unicodedata2                           15.1.0  py310ha75aee5_1                    conda-forge      368kB\n",
            "  + pcre2                                   10.40  hc3806b6_0                         conda-forge        2MB\n",
            "  + libaec                                  1.1.3  h59595ed_0                         conda-forge       35kB\n",
            "  + libexpat                                2.6.4  h5888daf_0                         conda-forge       73kB\n",
            "  + minizip                                 4.0.6  h9d307f2_0                         conda-forge       91kB\n",
            "  + fastrlock                               0.8.2  py310hc6cd4ac_2                    conda-forge       38kB\n",
            "  + pixman                                 0.43.2  h59595ed_0                         conda-forge      387kB\n",
            "  + xorg-libice                             1.1.1  hb9d3cd8_1                         conda-forge       58kB\n",
            "  + jbig                                      2.1  h7f98852_2003                      conda-forge       44kB\n",
            "  + rpds-py                                0.21.0  py310h505e2c1_0                    conda-forge      334kB\n",
            "  + argon2-cffi-bindings                   21.2.0  py310ha75aee5_5                    conda-forge       34kB\n",
            "  + xorg-renderproto                       0.11.1  hb9d3cd8_1003                      conda-forge       12kB\n",
            "  + xorg-xextproto                          7.3.0  hb9d3cd8_1004                      conda-forge       31kB\n",
            "  + xorg-kbproto                            1.0.7  hb9d3cd8_1003                      conda-forge       30kB\n",
            "  + xorg-xproto                            7.0.31  hb9d3cd8_1008                      conda-forge       73kB\n",
            "  + gettext-tools                          0.22.5  he02047a_3                         conda-forge        3MB\n",
            "  + libasprintf                            0.22.5  he8f35ee_3                         conda-forge       43kB\n",
            "  + libgettextpo                           0.22.5  he02047a_3                         conda-forge      171kB\n",
            "  + xerces-c                                3.2.5  hac6953d_0                         conda-forge        2MB\n",
            "  + json-c                                   0.17  h1220068_1                         conda-forge       84kB\n",
            "  + libpq                                    16.1  h33b98f1_7                         conda-forge        2MB\n",
            "  + charls                                  2.4.2  h59595ed_0                         conda-forge      150kB\n",
            "  + libzip                                 1.10.1  h2629f0a_3                         conda-forge      107kB\n",
            "  + libboost-headers                       1.86.0  ha770c72_2                         conda-forge       14MB\n",
            "  + uriparser                               0.9.8  hac33072_0                         conda-forge       48kB\n",
            "  + jxrlib                                    1.1  hd590300_3                         conda-forge      239kB\n",
            "  + zlib-ng                                 2.0.7  h0b41bf4_0                         conda-forge       95kB\n",
            "  + aom                                     3.9.1  hac33072_0                         conda-forge        3MB\n",
            "  + dav1d                                   1.2.1  hd590300_0                         conda-forge      760kB\n",
            "  + libhwy                                  1.1.0  h00ab1b0_0                         conda-forge        1MB\n",
            "  + rav1e                                   0.6.6  he8a937b_2                         conda-forge       15MB\n",
            "  + libsodium                              1.0.18  h36c2ea0_1                         conda-forge      375kB\n",
            "  + libzopfli                               1.0.3  h9c3ff4c_0                         conda-forge      168kB\n",
            "  + libntlm                                   1.4  h7f98852_1002                      conda-forge       33kB\n",
            "  + tzcode                                  2024b  hb9d3cd8_0                         conda-forge       69kB\n",
            "  + spdlog                                 1.11.0  h9b3ece8_1                         conda-forge      221kB\n",
            "  + zfp                                     1.0.1  h5888daf_2                         conda-forge      279kB\n",
            "  + svt-av1                                 2.3.0  h5888daf_0                         conda-forge        3MB\n",
            "  + nspr                                     4.36  h5888daf_0                         conda-forge      230kB\n",
            "  + libgpg-error                             1.51  hbd13f7d_1                         conda-forge      269kB\n",
            "  + kiwisolver                              1.4.7  py310h3788b33_0                    conda-forge       72kB\n",
            "  + gflags                                  2.2.2  h5888daf_1005                      conda-forge      120kB\n",
            "  + msgpack-python                          1.1.0  py310h3788b33_0                    conda-forge       98kB\n",
            "  + libre2-11                          2023.09.01  h7a70373_1                         conda-forge      233kB\n",
            "  + libprotobuf                            4.24.4  hf27288f_0                         conda-forge        3MB\n",
            "  + libbrotlienc                            1.1.0  hd590300_1                         conda-forge      283kB\n",
            "  + libbrotlidec                            1.1.0  hd590300_1                         conda-forge       33kB\n",
            "  + google-crc32c                           1.1.2  py310hd027165_6                    conda-forge       24kB\n",
            "  + freetype                               2.12.1  h267a509_2                         conda-forge      635kB\n",
            "  + libgfortran                            14.2.0  h69a702a_1                         conda-forge       54kB\n",
            "  + pyyaml                                  6.0.2  py310ha75aee5_1                    conda-forge      183kB\n",
            "  + hdf4                                   4.2.15  h2a13503_7                         conda-forge      757kB\n",
            "  + libtiff                                 4.6.0  ha9c0a0a_2                         conda-forge      283kB\n",
            "  + blosc                                  1.21.5  h0f2a231_0                         conda-forge       49kB\n",
            "  + llvmlite                               0.40.1  py310h1b8f574_0                    conda-forge        3MB\n",
            "  + libxcb                                   1.15  h0b41bf4_0                         conda-forge      384kB\n",
            "  + aws-c-compression                      0.2.17  h572eabf_8                         conda-forge       19kB\n",
            "  + aws-c-sdkutils                         0.1.13  h572eabf_1                         conda-forge       53kB\n",
            "  + aws-c-cal                               0.6.9  h14ec70c_3                         conda-forge       55kB\n",
            "  + aws-checksums                          0.1.17  h572eabf_7                         conda-forge       50kB\n",
            "  + uvloop                                 0.20.0  py310ha75aee5_0                    conda-forge      923kB\n",
            "  + nodejs                                20.12.2  hb753e55_0                         conda-forge       17MB\n",
            "  + librttopo                               1.1.0  hb58d41b_14                        conda-forge      233kB\n",
            "  + gmock                                  1.15.2  ha770c72_0                         conda-forge        7kB\n",
            "  + rtree                                   1.3.0  py310h8dc1cec_2                    conda-forge       58kB\n",
            "  + libthrift                              0.19.0  hb90f79a_1                         conda-forge      409kB\n",
            "  + libcap                                   2.69  h0f662aa_0                         conda-forge      101kB\n",
            "  + expat                                   2.6.4  h5888daf_0                         conda-forge      138kB\n",
            "  + freexl                                  2.0.0  h743c826_0                         conda-forge       60kB\n",
            "  + xorg-libsm                              1.2.4  he73a12e_1                         conda-forge       28kB\n",
            "  + libasprintf-devel                      0.22.5  he8f35ee_3                         conda-forge       34kB\n",
            "  + libgettextpo-devel                     0.22.5  he02047a_3                         conda-forge       37kB\n",
            "  + libkml                                  1.3.0  h01aab08_1018                      conda-forge      514kB\n",
            "  + c-blosc2                               2.14.3  hb4ffafa_0                         conda-forge      337kB\n",
            "  + zeromq                                  4.3.5  h75354e8_4                         conda-forge      353kB\n",
            "  + cyrus-sasl                             2.1.27  h54b06d7_7                         conda-forge      220kB\n",
            "  + postgresql                               16.1  h7387d8b_7                         conda-forge        5MB\n",
            "  + libavif16                               1.1.1  h1909e37_2                         conda-forge      116kB\n",
            "  + nss                                      3.97  h1d7d5a4_0                         conda-forge        2MB\n",
            "  + libgcrypt                              1.11.0  h4ab18f5_1                         conda-forge      684kB\n",
            "  + glog                                    0.6.0  h6f12383_0                         conda-forge      114kB\n",
            "  + re2                                2023.09.01  h7f4b329_1                         conda-forge       27kB\n",
            "  + protobuf                               4.24.4  py310h620c231_0                    conda-forge      329kB\n",
            "  + orc                                     1.9.2  h4b38347_0                         conda-forge        1MB\n",
            "  + libjxl                                 0.10.3  h66b40c8_0                         conda-forge        2MB\n",
            "  + brotli-bin                              1.1.0  hd590300_1                         conda-forge       19kB\n",
            "  + libgfortran-ng                         14.2.0  h69a702a_1                         conda-forge       54kB\n",
            "  + libopenblas                            0.3.28  pthreads_h94d23a6_1                conda-forge        6MB\n",
            "  + proj                                    9.3.0  h1d62c97_2                         conda-forge        3MB\n",
            "  + libwebp                                 1.3.2  h658648e_1                         conda-forge       85kB\n",
            "  + openjpeg                                2.5.2  h488ebb8_0                         conda-forge      342kB\n",
            "  + lcms2                                    2.16  hb7c19ff_0                         conda-forge      245kB\n",
            "  + xorg-libx11                             1.8.9  h8ee46fc_0                         conda-forge      828kB\n",
            "  + aws-c-io                               0.14.0  hf8f278a_1                         conda-forge      157kB\n",
            "  + libudev1                                256.7  hb9d3cd8_1                         conda-forge      142kB\n",
            "  + fontconfig                             2.14.2  h14ed4e7_0                         conda-forge      272kB\n",
            "  + gettext                                0.22.5  he02047a_3                         conda-forge      479kB\n",
            "  + pyzmq                                  26.2.0  py310h71f11fc_1                    conda-forge      338kB\n",
            "  + librdkafka                              1.9.2  ha5a0de0_2                         conda-forge       14MB\n",
            "  + libsystemd0                             256.7  h2774228_1                         conda-forge      412kB\n",
            "  + libgrpc                                1.59.3  hd6c4280_0                         conda-forge        7MB\n",
            "  + brotli                                  1.1.0  hd590300_1                         conda-forge       19kB\n",
            "  + hdf5                                   1.14.3  nompi_hdf9ad27_105                 conda-forge        4MB\n",
            "  + cfitsio                                 4.2.0  hd9d235c_0                         conda-forge      848kB\n",
            "  + libblas                                 3.9.0  25_linux64_openblas                conda-forge       16kB\n",
            "  + geotiff                                 1.7.1  hf074850_14                        conda-forge      133kB\n",
            "  + libspatialite                           5.0.1  h090f1da_29                        conda-forge        3MB\n",
            "  + pyproj                                  3.6.1  py310h32c33b7_4                    conda-forge      527kB\n",
            "  + pillow                                 10.3.0  py310hf73ecf8_0                    conda-forge       42MB\n",
            "  + xorg-libxext                            1.3.4  h0b41bf4_2                         conda-forge       50kB\n",
            "  + xorg-libxrender                        0.9.11  hd590300_0                         conda-forge       38kB\n",
            "  + aws-c-http                              0.8.0  h9129f04_2                         conda-forge      195kB\n",
            "  + aws-c-event-stream                      0.4.1  h97bb272_2                         conda-forge       54kB\n",
            "  + libglib                                2.78.1  hebfc3b9_0                         conda-forge        3MB\n",
            "  + python-confluent-kafka                  1.9.2  py310h5764c6d_2                    conda-forge      149kB\n",
            "  + rdma-core                                54.0  h5888daf_1                         conda-forge        1MB\n",
            "  + grpcio                                 1.59.3  py310h1b8f574_0                    conda-forge      991kB\n",
            "  + libgoogle-cloud                        2.12.0  h5206363_4                         conda-forge       43MB\n",
            "  + brunsli                                   0.1  h9c3ff4c_0                         conda-forge      205kB\n",
            "  + libnetcdf                               4.9.2  nompi_h9612171_113                 conda-forge      849kB\n",
            "  + kealib                                  1.5.3  hf8d3e68_2                         conda-forge      180kB\n",
            "  + libcblas                                3.9.0  25_linux64_openblas                conda-forge       16kB\n",
            "  + liblapack                               3.9.0  25_linux64_openblas                conda-forge       16kB\n",
            "  + aws-c-mqtt                             0.10.1  h2b97f5f_0                         conda-forge      164kB\n",
            "  + aws-c-auth                             0.7.11  h0b4cabd_1                         conda-forge      103kB\n",
            "  + gdk-pixbuf                            2.42.10  h829c605_4                         conda-forge      572kB\n",
            "  + tiledb                                 2.16.3  h8c794c1_3                         conda-forge        6MB\n",
            "  + numpy                                  1.24.4  py310ha4c1d20_0                    conda-forge        7MB\n",
            "  + aws-c-s3                                0.4.9  hca09fc5_0                         conda-forge      106kB\n",
            "  + imagecodecs                          2024.1.1  py310h0c5f7e8_2                    conda-forge        2MB\n",
            "  + pywavelets                              1.7.0  py310hf462985_2                    conda-forge        4MB\n",
            "  + shapely                                 2.0.2  py310h7dcad9a_0                    conda-forge      482kB\n",
            "  + numba                                  0.57.1  py310h0f6aa51_0                    conda-forge        4MB\n",
            "  + cupy-core                              13.3.0  py310h8de46e0_2                    conda-forge       41MB\n",
            "  + scipy                                  1.14.1  py310hfcf56fc_1                    conda-forge       17MB\n",
            "  + contourpy                               1.3.1  py310h3788b33_0                    conda-forge      261kB\n",
            "  + aws-crt-cpp                            0.26.0  h04327c0_8                         conda-forge      334kB\n",
            "  + treelite                                3.9.1  py310h4a6579d_0                    conda-forge      765kB\n",
            "  + aws-sdk-cpp                          1.11.210  hba3e011_10                        conda-forge        4MB\n",
            "  + libarrow                               14.0.2  h84dd17c_3_cpu                     conda-forge       23MB\n",
            "  + libparquet                             14.0.2  h352af49_3_cpu                     conda-forge        1MB\n",
            "  + libarrow-gandiva                       14.0.2  hacb8726_3_cpu                     conda-forge      895kB\n",
            "  + libarrow-acero                         14.0.2  h59595ed_3_cpu                     conda-forge      577kB\n",
            "  + libarrow-dataset                       14.0.2  h59595ed_3_cpu                     conda-forge      582kB\n",
            "  + libarrow-substrait                     14.0.2  h61ff412_3_cpu                     conda-forge      509kB\n",
            "  + locket                                  1.0.0  pyhd8ed1ab_0                       conda-forge        8kB\n",
            "  + zict                                    3.0.0  pyhd8ed1ab_0                       conda-forge       36kB\n",
            "  + pynvml                                 11.4.1  pyhd8ed1ab_0                       conda-forge       41kB\n",
            "  + cuda-version                             12.0  hffde075_3                         conda-forge       21kB\n",
            "  + fsspec                              2024.10.0  pyhff2d567_0                       conda-forge      135kB\n",
            "  + decorator                               5.1.1  pyhd8ed1ab_0                       conda-forge       12kB\n",
            "  + click                                   8.1.7  unix_pyh707e725_0                  conda-forge       84kB\n",
            "  + cloudpickle                             3.1.0  pyhd8ed1ab_1                       conda-forge       26kB\n",
            "  + sortedcontainers                        2.4.0  pyhd8ed1ab_0                       conda-forge       26kB\n",
            "  + tblib                                   3.0.0  pyhd8ed1ab_0                       conda-forge       17kB\n",
            "  + toolz                                   1.0.0  pyhd8ed1ab_0                       conda-forge       53kB\n",
            "  + xyzservices                          2024.9.0  pyhd8ed1ab_0                       conda-forge       47kB\n",
            "  + six                                    1.16.0  pyh6c4a22f_0                       conda-forge       14kB\n",
            "  + appdirs                                 1.4.4  pyh9f0ad1d_0                       conda-forge       13kB\n",
            "  + pytz                                   2024.2  pyhd8ed1ab_0                       conda-forge      187kB\n",
            "  + tabulate                                0.9.0  pyhd8ed1ab_1                       conda-forge       36kB\n",
            "  + pygments                               2.18.0  pyhd8ed1ab_0                       conda-forge      879kB\n",
            "  + async-timeout                           5.0.1  pyhd8ed1ab_0                       conda-forge       12kB\n",
            "  + attrs                                  24.2.0  pyh71513ae_0                       conda-forge       56kB\n",
            "  + aiohappyeyeballs                        2.4.3  pyhd8ed1ab_0                       conda-forge       19kB\n",
            "  + joblib                                  1.4.2  pyhd8ed1ab_0                       conda-forge      220kB\n",
            "  + simpervisor                             1.0.0  pyhd8ed1ab_0                       conda-forge       13kB\n",
            "  + networkx                                  3.4  pyhd8ed1ab_0                       conda-forge        1MB\n",
            "  + cachetools                              5.5.0  pyhd8ed1ab_0                       conda-forge       15kB\n",
            "  + typing_extensions                      4.12.2  pyha770c72_0                       conda-forge       40kB\n",
            "  + python-dotenv                           1.0.1  pyhd8ed1ab_0                       conda-forge       24kB\n",
            "  + wcwidth                                0.2.13  pyhd8ed1ab_0                       conda-forge       33kB\n",
            "  + param                                   2.1.1  pyhff2d567_0                       conda-forge      103kB\n",
            "  + mdurl                                   0.1.2  pyhd8ed1ab_0                       conda-forge       15kB\n",
            "  + uc-micro-py                             1.0.3  pyhd8ed1ab_0                       conda-forge       11kB\n",
            "  + traitlets                              5.14.3  pyhd8ed1ab_0                       conda-forge      110kB\n",
            "  + zipp                                   3.21.0  pyhd8ed1ab_0                       conda-forge       22kB\n",
            "  + sniffio                                 1.3.1  pyhd8ed1ab_0                       conda-forge       15kB\n",
            "  + hpack                                   4.0.0  pyh9f0ad1d_0                       conda-forge       25kB\n",
            "  + colorcet                                3.1.0  pyhd8ed1ab_0                       conda-forge      174kB\n",
            "  + python-multipart                       0.0.17  pyhff2d567_0                       conda-forge       28kB\n",
            "  + webencodings                            0.5.1  pyhd8ed1ab_2                       conda-forge       16kB\n",
            "  + exceptiongroup                          1.2.2  pyhd8ed1ab_0                       conda-forge       20kB\n",
            "  + pyasn1                                  0.6.1  pyhd8ed1ab_1                       conda-forge       62kB\n",
            "  + hyperframe                              6.0.1  pyhd8ed1ab_0                       conda-forge       15kB\n",
            "  + cycler                                 0.12.1  pyhd8ed1ab_0                       conda-forge       13kB\n",
            "  + pyparsing                               3.2.0  pyhd8ed1ab_1                       conda-forge       92kB\n",
            "  + munkres                                 1.1.4  pyh9f0ad1d_0                       conda-forge       12kB\n",
            "  + font-ttf-dejavu-sans-mono                2.37  hab24e00_0                         conda-forge      397kB\n",
            "  + munch                                   4.0.0  pyhd8ed1ab_0                       conda-forge       15kB\n",
            "  + typing_utils                            0.1.0  pyhd8ed1ab_0                       conda-forge       14kB\n",
            "  + prometheus_client                      0.21.0  pyhd8ed1ab_0                       conda-forge       49kB\n",
            "  + rfc3986-validator                       0.1.1  pyh9f0ad1d_0                       conda-forge        8kB\n",
            "  + send2trash                              1.8.3  pyh0d859eb_0                       conda-forge       23kB\n",
            "  + websocket-client                        1.8.0  pyhd8ed1ab_0                       conda-forge       47kB\n",
            "  + python-json-logger                      2.0.7  pyhd8ed1ab_0                       conda-forge       13kB\n",
            "  + uri-template                            1.3.0  pyhd8ed1ab_0                       conda-forge       24kB\n",
            "  + webcolors                              24.8.0  pyhd8ed1ab_0                       conda-forge       18kB\n",
            "  + pkgutil-resolve-name                   1.3.10  pyhd8ed1ab_1                       conda-forge       11kB\n",
            "  + pyjwt                                  2.10.0  pyhff2d567_0                       conda-forge       25kB\n",
            "  + blinker                                 1.9.0  pyhff2d567_0                       conda-forge       14kB\n",
            "  + font-ttf-inconsolata                    3.000  h77eed37_0                         conda-forge       97kB\n",
            "  + font-ttf-source-code-pro                2.038  h77eed37_0                         conda-forge      701kB\n",
            "  + font-ttf-ubuntu                          0.83  h77eed37_3                         conda-forge        2MB\n",
            "  + cached_property                         1.5.2  pyha770c72_1                       conda-forge       11kB\n",
            "  + threadpoolctl                           3.5.0  pyhc1e730c_0                       conda-forge       24kB\n",
            "  + poppler-data                           0.4.12  hd8ed1ab_0                         conda-forge        2MB\n",
            "  + shellingham                             1.5.4  pyhd8ed1ab_0                       conda-forge       15kB\n",
            "  + ptyprocess                              0.7.0  pyhd3deb0d_0                       conda-forge       17kB\n",
            "  + python-fastjsonschema                  2.20.0  pyhd8ed1ab_0                       conda-forge      226kB\n",
            "  + defusedxml                              0.7.1  pyhd8ed1ab_0                       conda-forge       24kB\n",
            "  + entrypoints                               0.4  pyhd8ed1ab_0                       conda-forge        9kB\n",
            "  + pandocfilters                           1.5.0  pyhd8ed1ab_0                       conda-forge       12kB\n",
            "  + mistune                                 3.0.2  pyhd8ed1ab_0                       conda-forge       66kB\n",
            "  + soupsieve                                 2.5  pyhd8ed1ab_1                       conda-forge       37kB\n",
            "  + types-python-dateutil          2.9.0.20241003  pyhff2d567_0                       conda-forge       22kB\n",
            "  + pyee                                    8.1.0  pyhd8ed1ab_0                       conda-forge       14kB\n",
            "  + aiosignal                               1.3.1  pyhd8ed1ab_0                       conda-forge       13kB\n",
            "  + pyopenssl                              24.2.1  pyhd8ed1ab_2                       conda-forge      128kB\n",
            "  + jinja2                                  3.1.4  pyhd8ed1ab_0                       conda-forge      112kB\n",
            "  + google-resumable-media                  2.7.2  pyhd8ed1ab_1                       conda-forge       46kB\n",
            "  + googleapis-common-protos               1.66.0  pyhff2d567_0                       conda-forge      117kB\n",
            "  + proto-plus                             1.25.0  pyhd8ed1ab_0                       conda-forge       42kB\n",
            "  + imageio                                2.36.0  pyh12aca89_1                       conda-forge      292kB\n",
            "  + tifffile                            2024.9.20  pyhd8ed1ab_0                       conda-forge      181kB\n",
            "  + cuda-cccl_linux-64                    12.0.90  ha770c72_1                         conda-forge        1MB\n",
            "  + cuda-nvcc-dev_linux-64                12.0.76  ha770c72_1                         conda-forge        8MB\n",
            "  + cuda-cudart-static_linux-64          12.0.107  h59595ed_8                         conda-forge      655kB\n",
            "  + cuda-cudart_linux-64                 12.0.107  h59595ed_8                         conda-forge      183kB\n",
            "  + cligj                                   0.7.2  pyhd8ed1ab_1                       conda-forge       10kB\n",
            "  + click-plugins                           1.1.1  py_0                               conda-forge        9kB\n",
            "  + partd                                   1.4.2  pyhd8ed1ab_0                       conda-forge       21kB\n",
            "  + rfc3339-validator                       0.1.4  pyhd8ed1ab_0                       conda-forge        8kB\n",
            "  + multipledispatch                        0.6.0  pyhd8ed1ab_1                       conda-forge       17kB\n",
            "  + streamz                                 0.6.4  pyh6c4a22f_0                       conda-forge       65kB\n",
            "  + python-dateutil                   2.9.0.post0  pyhff2d567_0                       conda-forge      222kB\n",
            "  + pyu2f                                   0.1.5  pyhd8ed1ab_0                       conda-forge       32kB\n",
            "  + jupyterlab_pygments                     0.3.0  pyhd8ed1ab_1                       conda-forge       19kB\n",
            "  + referencing                            0.35.1  pyhd8ed1ab_0                       conda-forge       42kB\n",
            "  + typer-slim                             0.13.0  pyhff2d567_0                       conda-forge       43kB\n",
            "  + h11                                    0.14.0  pyhd8ed1ab_0                       conda-forge       48kB\n",
            "  + typing-extensions                      4.12.2  hd8ed1ab_0                         conda-forge       10kB\n",
            "  + prompt-toolkit                         3.0.48  pyha770c72_0                       conda-forge      270kB\n",
            "  + pyct                                    0.5.0  pyhd8ed1ab_0                       conda-forge       20kB\n",
            "  + pyviz_comms                             3.0.3  pyhd8ed1ab_0                       conda-forge       48kB\n",
            "  + markdown-it-py                          3.0.0  pyhd8ed1ab_0                       conda-forge       64kB\n",
            "  + linkify-it-py                           2.0.3  pyhd8ed1ab_0                       conda-forge       24kB\n",
            "  + jupyter_core                            5.7.2  pyh31011fe_1                       conda-forge       58kB\n",
            "  + importlib_resources                     6.4.5  pyhd8ed1ab_0                       conda-forge       33kB\n",
            "  + importlib-metadata                      8.5.0  pyha770c72_0                       conda-forge       29kB\n",
            "  + dnspython                               2.6.1  pyhd8ed1ab_1                       conda-forge      169kB\n",
            "  + tinycss2                                1.4.0  pyhd8ed1ab_0                       conda-forge       28kB\n",
            "  + bleach                                  6.2.0  pyhd8ed1ab_0                       conda-forge      133kB\n",
            "  + anyio                                   4.4.0  pyhd8ed1ab_0                       conda-forge      104kB\n",
            "  + pyasn1-modules                          0.4.1  pyhd8ed1ab_0                       conda-forge       96kB\n",
            "  + rsa                                       4.9  pyhd8ed1ab_0                       conda-forge       30kB\n",
            "  + h2                                      4.1.0  pyhd8ed1ab_0                       conda-forge       47kB\n",
            "  + overrides                               7.7.0  pyhd8ed1ab_0                       conda-forge       30kB\n",
            "  + oauthlib                                3.2.2  pyhd8ed1ab_0                       conda-forge       92kB\n",
            "  + fonts-conda-forge                           1  0                                  conda-forge        4kB\n",
            "  + cached-property                         1.5.2  hd8ed1ab_1                         conda-forge        4kB\n",
            "  + terminado                              0.18.1  pyh0d859eb_0                       conda-forge       22kB\n",
            "  + beautifulsoup4                         4.12.3  pyha770c72_0                       conda-forge      118kB\n",
            "  + branca                                  0.7.2  pyhd8ed1ab_0                       conda-forge       29kB\n",
            "  + cuda-cudart-dev_linux-64             12.0.107  h59595ed_8                         conda-forge      326kB\n",
            "  + arrow                                   1.3.0  pyhd8ed1ab_0                       conda-forge      100kB\n",
            "  + jsonschema-specifications           2024.10.1  pyhd8ed1ab_0                       conda-forge       16kB\n",
            "  + uvicorn                                0.32.0  pyh31011fe_1                       conda-forge       49kB\n",
            "  + argon2-cffi                            23.1.0  pyhd8ed1ab_0                       conda-forge       19kB\n",
            "  + annotated-types                         0.7.0  pyhd8ed1ab_0                       conda-forge       18kB\n",
            "  + mdit-py-plugins                         0.4.2  pyhd8ed1ab_0                       conda-forge       42kB\n",
            "  + rich                                   13.9.4  pyhd8ed1ab_0                       conda-forge      185kB\n",
            "  + jupyter_client                          8.6.3  pyhd8ed1ab_0                       conda-forge      106kB\n",
            "  + lazy-loader                               0.4  pyhd8ed1ab_1                       conda-forge       16kB\n",
            "  + markdown                                  3.6  pyhd8ed1ab_0                       conda-forge       78kB\n",
            "  + importlib_metadata                      8.5.0  hd8ed1ab_0                         conda-forge        9kB\n",
            "  + pyppeteer                               1.0.2  pyhd8ed1ab_0                       conda-forge       64kB\n",
            "  + email-validator                         2.2.0  pyhd8ed1ab_0                       conda-forge       44kB\n",
            "  + starlette                              0.41.2  pyha770c72_0                       conda-forge       59kB\n",
            "  + httpcore                                1.0.7  pyh29332c3_1                       conda-forge       49kB\n",
            "  + requests-oauthlib                       2.0.0  pyhd8ed1ab_0                       conda-forge       26kB\n",
            "  + fonts-conda-ecosystem                       1  0                                  conda-forge        4kB\n",
            "  + fqdn                                    1.5.1  pyhd8ed1ab_0                       conda-forge       14kB\n",
            "  + jupyter_server_terminals                0.5.3  pyhd8ed1ab_0                       conda-forge       20kB\n",
            "  + folium                                 0.18.0  pyhd8ed1ab_0                       conda-forge       79kB\n",
            "  + isoduration                           20.11.0  pyhd8ed1ab_0                       conda-forge       17kB\n",
            "  + jsonschema                             4.23.0  pyhd8ed1ab_0                       conda-forge       74kB\n",
            "  + typer-slim-standard                    0.13.0  hd8ed1ab_0                         conda-forge       48kB\n",
            "  + lazy_loader                               0.4  pyhd8ed1ab_1                       conda-forge        7kB\n",
            "  + dask-core                           2023.11.0  pyhd8ed1ab_0                       conda-forge      863kB\n",
            "  + email_validator                         2.2.0  hd8ed1ab_0                         conda-forge        7kB\n",
            "  + httpx                                  0.27.2  pyhd8ed1ab_0                       conda-forge       65kB\n",
            "  + jsonschema-with-format-nongpl          4.23.0  hd8ed1ab_0                         conda-forge        7kB\n",
            "  + nbformat                               5.10.4  pyhd8ed1ab_0                       conda-forge      101kB\n",
            "  + typer                                  0.13.0  pyhd8ed1ab_0                       conda-forge       55kB\n",
            "  + jupyter_events                         0.10.0  pyhd8ed1ab_0                       conda-forge       21kB\n",
            "  + nbclient                               0.10.0  pyhd8ed1ab_0                       conda-forge       28kB\n",
            "  + nbconvert-core                         7.16.4  pyhd8ed1ab_1                       conda-forge      190kB\n",
            "  + jupyter_server                         2.14.2  pyhd8ed1ab_0                       conda-forge      324kB\n",
            "  + ucx-proc                                1.0.0  gpu                                rapidsai           9kB\n",
            "  + librmm                               23.12.00  cuda12_231206_g2db5cbb3_0          rapidsai           1MB\n",
            "  + libnvjpeg                           12.0.0.28  h59595ed_1                         conda-forge        2MB\n",
            "  + cuda-nvcc-tools                       12.0.76  h59595ed_1                         conda-forge       31MB\n",
            "  + nvcomp                                  3.0.4  h10b603f_1                         conda-forge        9MB\n",
            "  + libcufile                            1.5.0.59  hd3aeb46_1                         conda-forge      686kB\n",
            "  + libcufft                            11.0.0.21  hd3aeb46_2                         conda-forge       45MB\n",
            "  + cuda-nvrtc                            12.0.76  hd3aeb46_2                         conda-forge       18MB\n",
            "  + libnvjitlink                          12.0.76  hd3aeb46_2                         conda-forge       15MB\n",
            "  + nccl                                 2.23.4.1  h52f6c39_2                         conda-forge      114MB\n",
            "  + libcurand                           10.3.1.50  hd3aeb46_1                         conda-forge       42MB\n",
            "  + cytoolz                                 1.0.0  py310ha75aee5_1                    conda-forge      368kB\n",
            "  + fonttools                              4.55.0  py310h89163eb_0                    conda-forge        2MB\n",
            "  + scikit-learn                            1.5.2  py310h27f47ee_1                    conda-forge        9MB\n",
            "  + cuda-cudart-static                   12.0.107  hd3aeb46_8                         conda-forge       23kB\n",
            "  + cuda-cudart                          12.0.107  hd3aeb46_8                         conda-forge       22kB\n",
            "  + pandas                                  1.5.3  py310h9b08913_1                    conda-forge       12MB\n",
            "  + pydantic-core                          2.23.4  py310h505e2c1_0                    conda-forge        2MB\n",
            "  + multidict                               6.1.0  py310h89163eb_1                    conda-forge       58kB\n",
            "  + watchfiles                             0.24.0  py310h505e2c1_1                    conda-forge      390kB\n",
            "  + cairo                                  1.18.0  h3faef2a_0                         conda-forge      982kB\n",
            "  + scikit-image                           0.21.0  py310hc6cd4ac_0                    conda-forge       11MB\n",
            "  + libcufile-dev                        1.5.0.59  hd3aeb46_1                         conda-forge       33kB\n",
            "  + cuda-python                            12.6.2  py310h521d3fa_1                    conda-forge        6MB\n",
            "  + libcublas                          12.0.1.189  hd3aeb46_3                         conda-forge      234MB\n",
            "  + libcusparse                         12.0.0.76  hd3aeb46_2                         conda-forge       98MB\n",
            "  + libcurand-dev                       10.3.1.50  hd3aeb46_1                         conda-forge      256kB\n",
            "  + matplotlib-base                         3.9.2  py310h68603db_2                    conda-forge        7MB\n",
            "  + cuda-cudart-dev                      12.0.107  hd3aeb46_8                         conda-forge       23kB\n",
            "  + ucx                                    1.15.0  hda83522_8                         conda-forge        7MB\n",
            "  + yarl                                   1.17.2  py310ha75aee5_0                    conda-forge      139kB\n",
            "  + openslide                               3.4.1  h58ba908_12                        conda-forge      112kB\n",
            "  + poppler                               23.10.0  h590f24d_0                         conda-forge        2MB\n",
            "  + libcublas-dev                      12.0.1.189  hd3aeb46_3                         conda-forge       89kB\n",
            "  + libcusolver                         11.4.2.57  hd3aeb46_2                         conda-forge       59MB\n",
            "  + libcusparse-dev                     12.0.0.76  hd3aeb46_2                         conda-forge       51kB\n",
            "  + cuda-nvcc-impl                        12.0.76  h59595ed_1                         conda-forge        9MB\n",
            "  + cuda-profiler-api                     12.0.76  ha770c72_0                         conda-forge       23kB\n",
            "  + libarrow-flight                        14.0.2  h120cb0d_3_cpu                     conda-forge      501kB\n",
            "  + aiohttp                                3.11.4  py310h89163eb_1                    conda-forge      800kB\n",
            "  + libgdal                                 3.6.4  hb454697_22                        conda-forge       10MB\n",
            "  + cupy                                   13.3.0  py310h1b77274_2                    conda-forge      355kB\n",
            "  + libcusolver-dev                     11.4.2.57  hd3aeb46_2                         conda-forge       63kB\n",
            "  + libarrow-flight-sql                    14.0.2  h61ff412_3_cpu                     conda-forge      196kB\n",
            "  + gdal                                    3.6.4  py310h5c4b078_22                   conda-forge        1MB\n",
            "  + pyarrow                                14.0.2  py310hf9e7431_3_cpu                conda-forge        4MB\n",
            "  + fiona                                   1.9.3  py310ha325b7b_0                    conda-forge      902kB\n",
            "  + libxgboost                              1.7.6  rapidsai_h52ede06_7                rapidsai         118MB\n",
            "  + libraft-headers-only                 23.12.00  cuda12_231206_g9e2d6277_0          rapidsai           2MB\n",
            "  + libkvikio                            23.12.00  cuda12_231206_gf90bfbe_0           rapidsai          37kB\n",
            "  + rmm                                  23.12.00  cuda12_py310_231206_g2db5cbb3_0    rapidsai         655kB\n",
            "  + ucx-py                                0.35.00  py310_231206_gb5f60ca_0            rapidsai         457kB\n",
            "  + libcucim                             23.12.01  cuda12_231211_ga3445df_0           rapidsai           5MB\n",
            "  + py-xgboost                              1.7.6  rapidsai_py310h4c2db5f_7           rapidsai         216kB\n",
            "  + libraft-headers                      23.12.00  cuda12_231206_g9e2d6277_0          rapidsai           6kB\n",
            "  + libcudf                              23.12.01  cuda12_231208_g2ce46216b5_0        rapidsai         297MB\n",
            "  + cuproj                               23.12.01  cuda12_py310_231207_g16727064_0    rapidsai         856kB\n",
            "  + cucim                                23.12.01  cuda12_py310_231211_ga3445df_0     rapidsai           4MB\n",
            "  + xgboost                                 1.7.6  rapidsai_py310h4c2db5f_7           rapidsai          16kB\n",
            "  + libraft                              23.12.00  cuda12_231206_g9e2d6277_0          rapidsai         665MB\n",
            "  + libcuspatial                         23.12.01  cuda12_231207_g16727064_0          rapidsai          28MB\n",
            "  + libcudf_kafka                        23.12.01  cuda12_231208_g2ce46216b5_0        rapidsai          38kB\n",
            "  + cudf                                 23.12.01  cuda12_py310_231208_g2ce46216b5_0  rapidsai           8MB\n",
            "  + rapids-xgboost                       23.12.00  cuda12_py310_231206_g1d8bed4_0     rapidsai           5kB\n",
            "  + pylibraft                            23.12.00  cuda12_py310_231206_g9e2d6277_0    rapidsai           2MB\n",
            "  + cudf_kafka                           23.12.01  cuda12_py310_231208_g2ce46216b5_0  rapidsai          81kB\n",
            "  + distributed                         2023.11.0  pyhd8ed1ab_0                       conda-forge      792kB\n",
            "  + xarray                               2024.3.0  pyhd8ed1ab_0                       conda-forge      765kB\n",
            "  + mapclassify                             2.8.1  pyhd8ed1ab_0                       conda-forge       58kB\n",
            "  + geopandas-base                         0.14.4  pyha770c72_0                       conda-forge        1MB\n",
            "  + bokeh                                   3.6.1  pyhd8ed1ab_0                       conda-forge        5MB\n",
            "  + pydantic                                2.9.2  pyhd8ed1ab_0                       conda-forge      301kB\n",
            "  + uvicorn-standard                       0.32.0  h31011fe_1                         conda-forge        7kB\n",
            "  + jupyter-server-proxy                    4.4.0  pyhd8ed1ab_0                       conda-forge       37kB\n",
            "  + google-auth                            2.36.0  pyhff2d567_0                       conda-forge      115kB\n",
            "  + pyarrow-hotfix                            0.6  pyhd8ed1ab_0                       conda-forge       14kB\n",
            "  + datashader                             0.16.3  pyhd8ed1ab_0                       conda-forge       17MB\n",
            "  + geopandas                              0.14.4  pyhd8ed1ab_0                       conda-forge        8kB\n",
            "  + panel                                   1.5.4  pyhd8ed1ab_0                       conda-forge       21MB\n",
            "  + fastapi-cli                             0.0.5  pyhd8ed1ab_1                       conda-forge       14kB\n",
            "  + google-api-core                        2.22.0  pyhd8ed1ab_0                       conda-forge       89kB\n",
            "  + google-auth-oauthlib                    1.2.1  pyhd8ed1ab_0                       conda-forge       25kB\n",
            "  + dask                                2023.11.0  pyhd8ed1ab_0                       conda-forge        7kB\n",
            "  + holoviews                              1.20.0  pyhd8ed1ab_0                       conda-forge        4MB\n",
            "  + fastapi                               0.115.5  pyhff2d567_0                       conda-forge       74kB\n",
            "  + google-cloud-core                       2.4.1  pyhd8ed1ab_0                       conda-forge       28kB\n",
            "  + google-cloud-storage                   2.18.2  pyhff2d567_0                       conda-forge       91kB\n",
            "  + gcsfs                               2024.10.0  pyhd8ed1ab_0                       conda-forge       37kB\n",
            "  + libcumlprims                         23.12.00  cuda12_231206_gc120fe0_0           nvidia             5MB\n",
            "  + libcugraphops                        23.12.00  cuda12_231206_g42d08202_0          nvidia            40MB\n",
            "  + cuspatial                            23.12.01  cuda12_py310_231207_g16727064_0    rapidsai           1MB\n",
            "  + libcuml                              23.12.00  cuda12_231206_gad2bd2b65_0         rapidsai         265MB\n",
            "  + libcugraph                           23.12.00  cuda12_231206_g1309813f_0          rapidsai         638MB\n",
            "  + libcugraph_etl                       23.12.00  cuda12_231206_g1309813f_0          rapidsai         612kB\n",
            "  + pylibcugraph                         23.12.00  cuda12_py310_231206_g1309813f_0    rapidsai         772kB\n",
            "  + rapids-dask-dependency               23.12.01  0                                  rapidsai           8kB\n",
            "  + dask-sql                             2024.1.0  py310hac45122_0                    conda-forge       12MB\n",
            "  + custreamz                            23.12.01  cuda12_py310_231208_g2ce46216b5_0  rapidsai          34kB\n",
            "  + dask-cudf                            23.12.01  cuda12_py310_231208_g2ce46216b5_0  rapidsai         136kB\n",
            "  + dask-cuda                            23.12.00  py310_231206_ge1638ae_0            rapidsai         189kB\n",
            "  + cuxfilter                            23.12.00  cuda12_py310_231206_g63dabeb_0     rapidsai         112kB\n",
            "  + raft-dask                            23.12.00  cuda12_py310_231206_g9e2d6277_0    rapidsai         416kB\n",
            "  + cugraph                              23.12.00  cuda12_py310_231206_g1309813f_0    rapidsai           2MB\n",
            "  + cuml                                 23.12.00  cuda12_py310_231206_gad2bd2b65_0   rapidsai          10MB\n",
            "  + rapids                               23.12.00  cuda12_py310_231206_g1d8bed4_0     rapidsai           6kB\n",
            "\n",
            "  Downgrade:\n",
            "──────────────────────────────────────────────────────────────────────────────────────────────────────────────\n",
            "\n",
            "  - fmt                                    10.2.1  h00ab1b0_0                         conda-forge     Cached\n",
            "  + fmt                                     9.1.0  h924138e_0                         conda-forge      190kB\n",
            "  - libarchive                              3.7.2  h2aa1ff5_1                         conda-forge     Cached\n",
            "  + libarchive                              3.6.2  h039dbb9_1                         conda-forge      844kB\n",
            "  - ruamel.yaml                            0.18.5  py310h2372a71_0                    conda-forge     Cached\n",
            "  + ruamel.yaml                           0.17.40  py310h2372a71_0                    conda-forge      200kB\n",
            "  - yaml-cpp                                0.8.0  h59595ed_0                         conda-forge     Cached\n",
            "  + yaml-cpp                                0.7.0  h59595ed_3                         conda-forge      207kB\n",
            "  - libmamba                                1.5.8  had39da4_0                         conda-forge     Cached\n",
            "  + libmamba                                1.5.0  h658169a_0                         conda-forge        2MB\n",
            "  - libmambapy                              1.5.8  py310h39ff949_0                    conda-forge     Cached\n",
            "  + libmambapy                              1.5.0  py310h8aae740_0                    conda-forge      297kB\n",
            "  - urllib3                                 2.1.0  pyhd8ed1ab_0                       conda-forge     Cached\n",
            "  + urllib3                               1.26.19  pyhd8ed1ab_0                       conda-forge      115kB\n",
            "  - conda                                  24.7.1  py310hff52083_0                    conda-forge     Cached\n",
            "  + conda                                  23.7.4  py310hff52083_0                    conda-forge        1MB\n",
            "  - mamba                                   1.5.8  py310h51d5547_0                    conda-forge     Cached\n",
            "  + mamba                                   1.5.0  py310h51d5547_0                    conda-forge       51kB\n",
            "  - conda-libmamba-solver                 23.12.0  pyhd8ed1ab_0                       conda-forge     Cached\n",
            "  + conda-libmamba-solver                  23.7.0  pyhd8ed1ab_0                       conda-forge       42kB\n",
            "\n",
            "  Summary:\n",
            "\n",
            "  Install: 447 packages\n",
            "  Downgrade: 10 packages\n",
            "\n",
            "  Total download: 3GB\n",
            "\n",
            "──────────────────────────────────────────────────────────────────────────────────────────────────────────────\n",
            "\n",
            "\n",
            "\n",
            "Looking for: ['python=3.10', 'cuda-version=12.0', 'rapids=23.12', 'llvmlite', 'gcsfs', 'openssl', 'dask-sql']\n",
            "\n",
            "\n",
            "Pinned packages:\n",
            "  - python 3.10.*\n",
            "  - python_abi 3.10.* *cp310*\n",
            "  - cuda-version 12.*\n",
            "\n",
            "\n",
            "\n",
            "Downloading and Extracting Packages: ...working... done\n",
            "Preparing transaction: ...working... done\n",
            "Traceback (most recent call last):\n",
            "  File \"/content/rapidsai-csp-utils/colab/install_rapids.py\", line 85, in <module>\n",
            "KeyboardInterrupt\n",
            "^C\n"
          ]
        }
      ]
    },
    {
      "cell_type": "code",
      "execution_count": 4,
      "metadata": {
        "colab": {
          "base_uri": "https://localhost:8080/",
          "height": 1000
        },
        "id": "KkbW2e1JyDLc",
        "outputId": "0e50a741-fa56-4e86-e45b-af28216b0bf8"
      },
      "outputs": [
        {
          "output_type": "stream",
          "name": "stdout",
          "text": [
            "fatal: destination path 'rapidsai-csp-utils' already exists and is not an empty directory.\n",
            "PLEASE READ FOR 21.06\n",
            "********************************************************************************************************\n",
            "Another release, another script change.  We had to revise the script, which now:\n",
            "1. Does a more comprehensive install\n",
            "2. Includes BlazingSQL\n",
            "3. is far easier for everyone to understand and maintain\n",
            "\n",
            "The script will require you to add these 5 cells to your notebook.  We have also created a new startup template: \n",
            "https://colab.research.google.com/drive/1TAAi_szMfWqRfHVfjGSqnGVLr_ztzUM9?usp=sharing\n",
            "\n",
            "CHANGES T\n",
            "CELL 1:\n",
            "    # This get the RAPIDS-Colab install files and test check your GPU.  Run cells 1 and 2 only.\n",
            "    # Please read the output of this cell.  If your Colab Instance is not RAPIDS compatible, it will warn you and give you remediation steps.\n",
            "    !git clone https://github.com/rapidsai/rapidsai-csp-utils.git\n",
            "    !python rapidsai-csp-utils/colab/env-check.py\n",
            "\n",
            "CELL 2:\n",
            "    # This will update the Colab environment and restart the kernel.\n",
            "    !bash rapidsai-csp-utils/colab/update_gcc.sh\n",
            "    import os\n",
            "    os._exit(00)\n",
            "\n",
            "CELL 3:\n",
            "    ## Installing CondaColab.  This will restart your kernel again\n",
            "    import condacolab\n",
            "    condacolab.install()\n",
            "\n",
            "CELL 4:\n",
            "    import condacolab\n",
            "    condacolab.check()\n",
            "\n",
            "CELL 5:\n",
            "    # Installing RAPIDS is now 'python rapidsai-csp-utils/colab/install_rapids.py <release> <packages>'\n",
            "    # The <release> options are 'stable' and 'nightly'.  Leaving it blank or adding any other words will default to stable.\n",
            "    # The <packages> option are default blank or 'core'.  By default, we install RAPIDSAI and BlazingSQL.  The 'core' option will install only RAPIDSAI and not include BlazingSQL, \n",
            "    !python rapidsai-csp-utils/colab/install_rapids.py nightly\n",
            "    import os\n",
            "    os.environ['NUMBAPRO_NVVM'] = '/usr/local/cuda/nvvm/lib64/libnvvm.so'\n",
            "    os.environ['NUMBAPRO_LIBDEVICE'] = '/usr/local/cuda/nvvm/libdevice/'\n",
            "    os.environ['CONDA_PREFIX'] = '/usr/local'\n",
            "\n",
            "********************************************************************************************************\n",
            "\n",
            "Enjoy using RAPIDS!  If you have any issues with or suggestions for RAPIDSAI on Colab, please create a issue on https://github.com/rapidsai/rapidsai-csp-utils/issues/new.\n"
          ]
        },
        {
          "output_type": "error",
          "ename": "ValueError",
          "evalue": "'/usr/local/lib/python3.7/dist-packages' is not in list",
          "traceback": [
            "\u001b[0;31m---------------------------------------------------------------------------\u001b[0m",
            "\u001b[0;31mValueError\u001b[0m                                Traceback (most recent call last)",
            "\u001b[0;32m<ipython-input-4-fb7ed10361b8>\u001b[0m in \u001b[0;36m<cell line: 7>\u001b[0;34m()\u001b[0m\n\u001b[1;32m      5\u001b[0m \u001b[0;32mimport\u001b[0m \u001b[0msys\u001b[0m\u001b[0;34m,\u001b[0m \u001b[0mos\u001b[0m\u001b[0;34m\u001b[0m\u001b[0;34m\u001b[0m\u001b[0m\n\u001b[1;32m      6\u001b[0m \u001b[0;34m\u001b[0m\u001b[0m\n\u001b[0;32m----> 7\u001b[0;31m \u001b[0mdist_package_index\u001b[0m \u001b[0;34m=\u001b[0m \u001b[0msys\u001b[0m\u001b[0;34m.\u001b[0m\u001b[0mpath\u001b[0m\u001b[0;34m.\u001b[0m\u001b[0mindex\u001b[0m\u001b[0;34m(\u001b[0m\u001b[0;34m'/usr/local/lib/python3.7/dist-packages'\u001b[0m\u001b[0;34m)\u001b[0m\u001b[0;34m\u001b[0m\u001b[0;34m\u001b[0m\u001b[0m\n\u001b[0m\u001b[1;32m      8\u001b[0m \u001b[0msys\u001b[0m\u001b[0;34m.\u001b[0m\u001b[0mpath\u001b[0m \u001b[0;34m=\u001b[0m \u001b[0msys\u001b[0m\u001b[0;34m.\u001b[0m\u001b[0mpath\u001b[0m\u001b[0;34m[\u001b[0m\u001b[0;34m:\u001b[0m\u001b[0mdist_package_index\u001b[0m\u001b[0;34m]\u001b[0m \u001b[0;34m+\u001b[0m \u001b[0;34m[\u001b[0m\u001b[0;34m'/usr/local/lib/python3.7/site-packages'\u001b[0m\u001b[0;34m]\u001b[0m \u001b[0;34m+\u001b[0m \u001b[0msys\u001b[0m\u001b[0;34m.\u001b[0m\u001b[0mpath\u001b[0m\u001b[0;34m[\u001b[0m\u001b[0mdist_package_index\u001b[0m\u001b[0;34m:\u001b[0m\u001b[0;34m]\u001b[0m\u001b[0;34m\u001b[0m\u001b[0;34m\u001b[0m\u001b[0m\n\u001b[1;32m      9\u001b[0m \u001b[0msys\u001b[0m\u001b[0;34m.\u001b[0m\u001b[0mpath\u001b[0m\u001b[0;34m\u001b[0m\u001b[0;34m\u001b[0m\u001b[0m\n",
            "\u001b[0;31mValueError\u001b[0m: '/usr/local/lib/python3.7/dist-packages' is not in list"
          ]
        }
      ],
      "source": [
        "# Install RAPIDS\n",
        "!git clone https://github.com/rapidsai/rapidsai-csp-utils.git\n",
        "!bash rapidsai-csp-utils/colab/rapids-colab.sh stable\n",
        "\n",
        "import sys, os\n",
        "\n",
        "dist_package_index = sys.path.index('/usr/local/lib/python3.7/dist-packages')\n",
        "sys.path = sys.path[:dist_package_index] + ['/usr/local/lib/python3.7/site-packages'] + sys.path[dist_package_index:]\n",
        "sys.path\n",
        "exec(open('rapidsai-csp-utils/colab/update_modules.py').read(), globals())"
      ]
    },
    {
      "cell_type": "markdown",
      "metadata": {
        "id": "fY4Lymv-x7G0"
      },
      "source": [
        "That's it! Now we can run a variety of GPU acclerated graph mining algorithms.\n",
        "\n"
      ]
    },
    {
      "cell_type": "markdown",
      "metadata": {
        "id": "0JBQLhrOCYFn"
      },
      "source": [
        "## Part 1: Quantifing network vulnerability and robustness\n",
        "\n",
        "While CPU calculations work well for sparse graphs, GPU acceleration significantly speeds-up analysis for dense graphs. To see this, lets run the code below that measures the robustness of a Barabási Albert (BA) graph at varying levels of density (i.e., number of edges per node)."
      ]
    },
    {
      "cell_type": "code",
      "source": [
        "!pip install stopit\n"
      ],
      "metadata": {
        "id": "1z7wwgEOgoDa",
        "outputId": "e93fa083-e189-490b-d410-34e42932b84b",
        "colab": {
          "base_uri": "https://localhost:8080/"
        }
      },
      "execution_count": 6,
      "outputs": [
        {
          "output_type": "stream",
          "name": "stdout",
          "text": [
            "Collecting stopit\n",
            "  Downloading stopit-1.1.2.tar.gz (18 kB)\n",
            "  Preparing metadata (setup.py) ... \u001b[?25l\u001b[?25hdone\n",
            "Building wheels for collected packages: stopit\n",
            "  Building wheel for stopit (setup.py) ... \u001b[?25l\u001b[?25hdone\n",
            "  Created wheel for stopit: filename=stopit-1.1.2-py3-none-any.whl size=11937 sha256=f512eddd7470d8ea0b300374a119b3cfcfb7354a93296688338b78160a153459\n",
            "  Stored in directory: /root/.cache/pip/wheels/af/f9/87/bf5b3d565c2a007b4dae9d8142dccc85a9f164e517062dd519\n",
            "Successfully built stopit\n",
            "Installing collected packages: stopit\n",
            "Successfully installed stopit-1.1.2\n"
          ]
        }
      ]
    },
    {
      "cell_type": "code",
      "execution_count": 7,
      "metadata": {
        "id": "QhLLxqeJCV6P",
        "outputId": "9ff18f46-5dcf-4f81-8c64-819f3815ef80",
        "colab": {
          "base_uri": "https://localhost:8080/"
        }
      },
      "outputs": [
        {
          "output_type": "stream",
          "name": "stderr",
          "text": [
            "100%|██████████| 10/10 [00:48<00:00,  4.81s/it]\n"
          ]
        }
      ],
      "source": [
        "import time\n",
        "from tqdm import tqdm\n",
        "\n",
        "from graph_tiger.measures import run_measure\n",
        "from graph_tiger.graphs import graph_loader\n",
        "\n",
        "# controls graph density by varying the number of non-zeroes per row (i.e., number of edges per node in graph)\n",
        "nnz_per_row = list(range(50, 501, 50))\n",
        "\n",
        "cpu_times = []\n",
        "gpu_times = []\n",
        "for nnz in tqdm(nnz_per_row):\n",
        "  graph = graph_loader(graph_type='BA', n=1000, m=nnz, seed=1)\n",
        "\n",
        "  start_cpu = time.time()\n",
        "  robustness_index = run_measure(graph, measure='average_vertex_betweenness', k=int(0.05 * len(graph)))\n",
        "  end_cpu = time.time()\n",
        "\n",
        "  start_gpu = time.time()\n",
        "  robustness_index = run_measure(graph, measure='average_vertex_betweenness', k=12, use_gpu=True)  # ****** Replace with cuGraph version: https://docs.rapids.ai/api/cugraph/stable/api.html#module-cugraph.centrality.betweenness_centrality ******\n",
        "  end_gpu = time.time()\n",
        "\n",
        "\n",
        "  cpu_times.append(round(end_cpu - start_cpu, 2))\n",
        "  gpu_times.append(round(end_gpu - start_gpu, 2))\n",
        "\n",
        "\n"
      ]
    },
    {
      "cell_type": "markdown",
      "metadata": {
        "id": "feSLclFDI4c5"
      },
      "source": [
        "Now lets plot the results (lower is better)."
      ]
    },
    {
      "cell_type": "code",
      "execution_count": 8,
      "metadata": {
        "colab": {
          "base_uri": "https://localhost:8080/",
          "height": 472
        },
        "id": "L00rAHJpCV03",
        "outputId": "4850188c-d367-434e-db3a-f8d2d31b4eb7"
      },
      "outputs": [
        {
          "output_type": "display_data",
          "data": {
            "text/plain": [
              "<Figure size 640x480 with 1 Axes>"
            ],
            "image/png": "[encoded data removed]"
          },
          "metadata": {}
        }
      ],
      "source": [
        "%matplotlib inline\n",
        "import matplotlib.pyplot as plt\n",
        "\n",
        "plt.plot(nnz_per_row, cpu_times, label='CPU')\n",
        "plt.plot(nnz_per_row, gpu_times, label='GPU')\n",
        "plt.xlabel('Number of edges per node (NNZ)')\n",
        "plt.ylabel('Time (seconds)')\n",
        "plt.title('Measuring Graph Robustness Runtime (CPU vs. GPU)')\n",
        "plt.legend()\n",
        "plt.show()"
      ]
    },
    {
      "cell_type": "markdown",
      "metadata": {
        "id": "X58wipWGyaJd"
      },
      "source": [
        "## Part 2. Simulating Cascading Failures in U.S. Electrical Grid\n",
        "Cascading failures often arise as a result of natural failures or targeted attacks in a network. There are 3 main processes governing the network simulation:\n",
        "\n",
        "- the **capacity** of each node (<img src=\"https://render.githubusercontent.com/render/math?math=c_v\">) in the network, e.g., power substation capacity.\n",
        "\n",
        "- the **load** of each node (<img src=\"https://render.githubusercontent.com/render/math?math=l_v\">) in the network, e.g., power substation load level\n",
        "\n",
        "- network **redundancy** (*r*) representing the amount of reserve capacity present in the network i.e., auxiliary support systems.\n",
        "\n",
        "When a node is attacked it becomes \"overloaded\", causing it to fail and requiring the load be distributed to its neighbors. When defending a node, we increase it’s capacity to protect against attacks. With just these 3 parameters, we can setup a cascading failure simulation. Below, we show how to load a graph representing the U.S. electrical grid and setup the simulation parameters."
      ]
    },
    {
      "cell_type": "code",
      "execution_count": 9,
      "metadata": {
        "id": "ZaOR8IqVN78X"
      },
      "outputs": [],
      "source": [
        "from graph_tiger.graphs import graph_loader\n",
        "\n",
        "graph = graph_loader('electrical')\n",
        "\n",
        "params = {\n",
        "   'runs': 1,  # number of times to run the simulation\n",
        "   'steps': 100,  # number of time steps to run each simulation\n",
        "   'seed': 1,  # for repoducibility\n",
        "\n",
        "   'l': 0.8,  # network load [0, 1]\n",
        "   'r': 0.2,  # network redundancey [0, 1]\n",
        "   'c': int(0.1 * len(graph)),  # load capacity approximation\n",
        "\n",
        "   'robust_measure': 'largest_connected_component',  # measure of network health\n",
        "}"
      ]
    },
    {
      "cell_type": "markdown",
      "metadata": {
        "id": "DEUFDjjYPJIX"
      },
      "source": [
        "### Setting up a Targeted Attack\n",
        "To run the attack we just have to modify a few simulation parameters. We set the attack to remove 30 nodes in the graph (e.g., power grid substations) with highest degree centrality \"id_node\". As you can imagine, there are many different strategies that can be used to attack the grid, however, by selecting degree centrality we can find \"central\" nodes in the network with many power lines (edges) connected to the substations (nodes)."
      ]
    },
    {
      "cell_type": "code",
      "execution_count": 10,
      "metadata": {
        "id": "FIxAypOhN3vm"
      },
      "outputs": [],
      "source": [
        "params.update({\n",
        "   'k_a': 30,  # number of nodes to attack\n",
        "   'attack': 'id_node',  # attack strategy\n",
        "})"
      ]
    },
    {
      "cell_type": "markdown",
      "metadata": {
        "id": "DfJ4xq2jPPCX"
      },
      "source": [
        "Now lets run the simulation and plot the results!"
      ]
    },
    {
      "cell_type": "code",
      "source": [
        "!apt-get update\n",
        "!apt-get install -y build-essential python3-dev libatlas-base-dev gfortran\n",
        "\n"
      ],
      "metadata": {
        "id": "Ac2O6tG7hJKV",
        "outputId": "19e18e54-e6a4-457f-faf5-f465958bac5a",
        "colab": {
          "base_uri": "https://localhost:8080/"
        }
      },
      "execution_count": 14,
      "outputs": [
        {
          "output_type": "stream",
          "name": "stdout",
          "text": [
            "\r0% [Working]\r            \rGet:1 https://cloud.r-project.org/bin/linux/ubuntu jammy-cran40/ InRelease [3,626 B]\n",
            "Get:2 https://developer.download.nvidia.com/compute/cuda/repos/ubuntu2204/x86_64  InRelease [1,581 B]\n",
            "Hit:3 http://archive.ubuntu.com/ubuntu jammy InRelease\n",
            "Get:4 https://r2u.stat.illinois.edu/ubuntu jammy InRelease [6,555 B]\n",
            "Get:5 https://developer.download.nvidia.com/compute/cuda/repos/ubuntu2204/x86_64  Packages [1,113 kB]\n",
            "Get:6 http://archive.ubuntu.com/ubuntu jammy-updates InRelease [128 kB]\n",
            "Get:7 http://security.ubuntu.com/ubuntu jammy-security InRelease [129 kB]\n",
            "Get:8 https://r2u.stat.illinois.edu/ubuntu jammy/main amd64 Packages [2,617 kB]\n",
            "Hit:9 https://ppa.launchpadcontent.net/deadsnakes/ppa/ubuntu jammy InRelease\n",
            "Hit:10 https://ppa.launchpadcontent.net/graphics-drivers/ppa/ubuntu jammy InRelease\n",
            "Hit:11 https://ppa.launchpadcontent.net/ubuntugis/ppa/ubuntu jammy InRelease\n",
            "Get:12 http://archive.ubuntu.com/ubuntu jammy-backports InRelease [127 kB]\n",
            "Get:13 https://r2u.stat.illinois.edu/ubuntu jammy/main all Packages [8,486 kB]\n",
            "Get:14 http://archive.ubuntu.com/ubuntu jammy-updates/universe amd64 Packages [1,512 kB]\n",
            "Get:15 http://security.ubuntu.com/ubuntu jammy-security/restricted amd64 Packages [3,298 kB]\n",
            "Get:16 http://archive.ubuntu.com/ubuntu jammy-updates/restricted amd64 Packages [3,383 kB]\n",
            "Get:17 http://archive.ubuntu.com/ubuntu jammy-updates/main amd64 Packages [2,718 kB]\n",
            "Get:18 http://archive.ubuntu.com/ubuntu jammy-updates/multiverse amd64 Packages [52.2 kB]\n",
            "Get:19 http://security.ubuntu.com/ubuntu jammy-security/main amd64 Packages [2,439 kB]\n",
            "Get:20 http://security.ubuntu.com/ubuntu jammy-security/multiverse amd64 Packages [45.2 kB]\n",
            "Get:21 http://security.ubuntu.com/ubuntu jammy-security/universe amd64 Packages [1,223 kB]\n",
            "Fetched 27.3 MB in 3s (9,754 kB/s)\n",
            "Reading package lists... Done\n",
            "W: Skipping acquire of configured file 'main/source/Sources' as repository 'https://r2u.stat.illinois.edu/ubuntu jammy InRelease' does not seem to provide it (sources.list entry misspelt?)\n",
            "Reading package lists... Done\n",
            "Building dependency tree... Done\n",
            "Reading state information... Done\n",
            "build-essential is already the newest version (12.9ubuntu3).\n",
            "gfortran is already the newest version (4:11.2.0-1ubuntu1).\n",
            "libatlas-base-dev is already the newest version (3.10.3-12ubuntu1).\n",
            "python3-dev is already the newest version (3.10.6-1~22.04.1).\n",
            "python3-dev set to manually installed.\n",
            "0 upgraded, 0 newly installed, 0 to remove and 66 not upgraded.\n"
          ]
        }
      ]
    },
    {
      "cell_type": "code",
      "source": [
        "!pip install fa2\n"
      ],
      "metadata": {
        "id": "PYFLDJYDhiBt",
        "outputId": "16419520-faed-48f0-e5dc-df2e51c08d53",
        "colab": {
          "base_uri": "https://localhost:8080/"
        }
      },
      "execution_count": 15,
      "outputs": [
        {
          "output_type": "stream",
          "name": "stdout",
          "text": [
            "Collecting fa2\n",
            "  Using cached fa2-0.3.5.tar.gz (435 kB)\n",
            "  Preparing metadata (setup.py) ... \u001b[?25l\u001b[?25hdone\n",
            "Collecting numpy (from fa2)\n",
            "  Using cached numpy-2.1.3-cp310-cp310-manylinux_2_17_x86_64.manylinux2014_x86_64.whl.metadata (62 kB)\n",
            "Collecting scipy (from fa2)\n",
            "  Using cached scipy-1.14.1-cp310-cp310-manylinux_2_17_x86_64.manylinux2014_x86_64.whl.metadata (60 kB)\n",
            "Requirement already satisfied: tqdm in /usr/local/lib/python3.10/site-packages (from fa2) (4.66.1)\n",
            "Using cached numpy-2.1.3-cp310-cp310-manylinux_2_17_x86_64.manylinux2014_x86_64.whl (16.3 MB)\n",
            "Using cached scipy-1.14.1-cp310-cp310-manylinux_2_17_x86_64.manylinux2014_x86_64.whl (41.2 MB)\n",
            "Building wheels for collected packages: fa2\n",
            "  \u001b[1;31merror\u001b[0m: \u001b[1msubprocess-exited-with-error\u001b[0m\n",
            "  \n",
            "  \u001b[31m×\u001b[0m \u001b[32mpython setup.py bdist_wheel\u001b[0m did not run successfully.\n",
            "  \u001b[31m│\u001b[0m exit code: \u001b[1;36m1\u001b[0m\n",
            "  \u001b[31m╰─>\u001b[0m See above for output.\n",
            "  \n",
            "  \u001b[1;35mnote\u001b[0m: This error originates from a subprocess, and is likely not a problem with pip.\n",
            "  Building wheel for fa2 (setup.py) ... \u001b[?25lerror\n",
            "\u001b[31m  ERROR: Failed building wheel for fa2\u001b[0m\u001b[31m\n",
            "\u001b[0m\u001b[?25h  Running setup.py clean for fa2\n",
            "Failed to build fa2\n",
            "\u001b[31mERROR: Could not build wheels for fa2, which is required to install pyproject.toml-based projects\u001b[0m\u001b[31m\n",
            "\u001b[0m"
          ]
        }
      ]
    },
    {
      "cell_type": "code",
      "execution_count": 18,
      "metadata": {
        "colab": {
          "base_uri": "https://localhost:8080/",
          "height": 530
        },
        "id": "RgfVtPu2PPZj",
        "outputId": "64fb8457-d1b7-4e1e-e1f9-33aac14dfaf0"
      },
      "outputs": [
        {
          "output_type": "error",
          "ename": "ModuleNotFoundError",
          "evalue": "No module named 'fa2'",
          "traceback": [
            "\u001b[0;31m---------------------------------------------------------------------------\u001b[0m",
            "\u001b[0;31mModuleNotFoundError\u001b[0m                       Traceback (most recent call last)",
            "\u001b[0;32m<ipython-input-18-af762fc23a54>\u001b[0m in \u001b[0;36m<cell line: 1>\u001b[0;34m()\u001b[0m\n\u001b[0;32m----> 1\u001b[0;31m \u001b[0;32mfrom\u001b[0m \u001b[0mgraph_tiger\u001b[0m\u001b[0;34m.\u001b[0m\u001b[0mcascading\u001b[0m \u001b[0;32mimport\u001b[0m \u001b[0mCascading\u001b[0m\u001b[0;34m\u001b[0m\u001b[0;34m\u001b[0m\u001b[0m\n\u001b[0m\u001b[1;32m      2\u001b[0m \u001b[0;34m\u001b[0m\u001b[0m\n\u001b[1;32m      3\u001b[0m \u001b[0mcascading\u001b[0m \u001b[0;34m=\u001b[0m \u001b[0mCascading\u001b[0m\u001b[0;34m(\u001b[0m\u001b[0mgraph\u001b[0m\u001b[0;34m,\u001b[0m \u001b[0;34m**\u001b[0m\u001b[0mparams\u001b[0m\u001b[0;34m)\u001b[0m\u001b[0;34m\u001b[0m\u001b[0;34m\u001b[0m\u001b[0m\n\u001b[1;32m      4\u001b[0m \u001b[0mresults\u001b[0m \u001b[0;34m=\u001b[0m \u001b[0mcascading\u001b[0m\u001b[0;34m.\u001b[0m\u001b[0mrun_simulation\u001b[0m\u001b[0;34m(\u001b[0m\u001b[0;34m)\u001b[0m\u001b[0;34m\u001b[0m\u001b[0;34m\u001b[0m\u001b[0m\n\u001b[1;32m      5\u001b[0m \u001b[0;34m\u001b[0m\u001b[0m\n",
            "\u001b[0;32m/usr/local/lib/python3.10/dist-packages/graph_tiger/cascading.py\u001b[0m in \u001b[0;36m<module>\u001b[0;34m\u001b[0m\n\u001b[1;32m      2\u001b[0m \u001b[0;32mfrom\u001b[0m \u001b[0mcollections\u001b[0m \u001b[0;32mimport\u001b[0m \u001b[0mdefaultdict\u001b[0m\u001b[0;34m\u001b[0m\u001b[0;34m\u001b[0m\u001b[0m\n\u001b[1;32m      3\u001b[0m \u001b[0;34m\u001b[0m\u001b[0m\n\u001b[0;32m----> 4\u001b[0;31m \u001b[0;32mfrom\u001b[0m \u001b[0mgraph_tiger\u001b[0m\u001b[0;34m.\u001b[0m\u001b[0msimulations\u001b[0m \u001b[0;32mimport\u001b[0m \u001b[0mSimulation\u001b[0m\u001b[0;34m\u001b[0m\u001b[0;34m\u001b[0m\u001b[0m\n\u001b[0m\u001b[1;32m      5\u001b[0m \u001b[0;32mfrom\u001b[0m \u001b[0mgraph_tiger\u001b[0m\u001b[0;34m.\u001b[0m\u001b[0mgraphs\u001b[0m \u001b[0;32mimport\u001b[0m \u001b[0;34m*\u001b[0m\u001b[0;34m\u001b[0m\u001b[0;34m\u001b[0m\u001b[0m\n\u001b[1;32m      6\u001b[0m \u001b[0;32mfrom\u001b[0m \u001b[0mgraph_tiger\u001b[0m\u001b[0;34m.\u001b[0m\u001b[0mmeasures\u001b[0m \u001b[0;32mimport\u001b[0m \u001b[0mrun_measure\u001b[0m\u001b[0;34m\u001b[0m\u001b[0;34m\u001b[0m\u001b[0m\n",
            "\u001b[0;32m/usr/local/lib/python3.10/dist-packages/graph_tiger/simulations.py\u001b[0m in \u001b[0;36m<module>\u001b[0;34m\u001b[0m\n\u001b[1;32m      5\u001b[0m \u001b[0;32mimport\u001b[0m \u001b[0mpandas\u001b[0m \u001b[0;32mas\u001b[0m \u001b[0mpd\u001b[0m\u001b[0;34m\u001b[0m\u001b[0;34m\u001b[0m\u001b[0m\n\u001b[1;32m      6\u001b[0m \u001b[0;32mimport\u001b[0m \u001b[0mnetworkx\u001b[0m \u001b[0;32mas\u001b[0m \u001b[0mnx\u001b[0m\u001b[0;34m\u001b[0m\u001b[0;34m\u001b[0m\u001b[0m\n\u001b[0;32m----> 7\u001b[0;31m \u001b[0;32mfrom\u001b[0m \u001b[0mfa2\u001b[0m \u001b[0;32mimport\u001b[0m \u001b[0mForceAtlas2\u001b[0m\u001b[0;34m\u001b[0m\u001b[0;34m\u001b[0m\u001b[0m\n\u001b[0m\u001b[1;32m      8\u001b[0m \u001b[0;32mimport\u001b[0m \u001b[0mmatplotlib\u001b[0m\u001b[0;34m.\u001b[0m\u001b[0mpyplot\u001b[0m \u001b[0;32mas\u001b[0m \u001b[0mplt\u001b[0m\u001b[0;34m\u001b[0m\u001b[0;34m\u001b[0m\u001b[0m\n\u001b[1;32m      9\u001b[0m \u001b[0;32mfrom\u001b[0m \u001b[0mcollections\u001b[0m \u001b[0;32mimport\u001b[0m \u001b[0mdefaultdict\u001b[0m\u001b[0;34m\u001b[0m\u001b[0;34m\u001b[0m\u001b[0m\n",
            "\u001b[0;31mModuleNotFoundError\u001b[0m: No module named 'fa2'",
            "",
            "\u001b[0;31m---------------------------------------------------------------------------\u001b[0;32m\nNOTE: If your import is failing due to a missing package, you can\nmanually install dependencies using either !pip or !apt.\n\nTo view examples of installing some common dependencies, click the\n\"Open Examples\" button below.\n\u001b[0;31m---------------------------------------------------------------------------\u001b[0m\n"
          ],
          "errorDetails": {
            "actions": [
              {
                "action": "open_url",
                "actionText": "Open Examples",
                "url": "/notebooks/snippets/importing_libraries.ipynb"
              }
            ]
          }
        }
      ],
      "source": [
        "from graph_tiger.cascading import Cascading\n",
        "\n",
        "cascading = Cascading(graph, **params)\n",
        "results = cascading.run_simulation()\n",
        "\n",
        "cascading.plot_results(results)"
      ]
    },
    {
      "cell_type": "markdown",
      "metadata": {
        "id": "FVhxmxWCdUo4"
      },
      "source": [
        "### 1. Collapsing a network\n",
        "\n",
        "Now try modifying the code to find the minimal attack necessary to collapse the electrical grid. To do this, plot the \"health\" of the network as measured by the robustness measure (i.e., \"largest_connected_component\") at the end of each simulation, against the attack strength (\"k_a\").\n",
        "\n",
        "**Hint:** electrical networks are fragile to targeted attacks, try removing just a few nodes."
      ]
    },
    {
      "cell_type": "code",
      "execution_count": null,
      "metadata": {
        "id": "jJ5nvT4SdU98"
      },
      "outputs": [],
      "source": [
        "sim_results =[]\n",
        "\n",
        "params['attack'] = 'id_node'\n",
        "attack_strengths = list(range(0, 6, 1))\n",
        "\n",
        "for k_a in tqdm(attack_strengths):\n",
        "  params['k_a'] = k_a\n",
        "\n",
        "  cascading = Cascading(graph, **params)\n",
        "  results = cascading.run_simulation()\n",
        "\n",
        "  lcc_at_end = results[-1]\n",
        "  sim_results.append(lcc_at_end)\n",
        "\n",
        "%matplotlib inline\n",
        "import matplotlib.pyplot as plt\n",
        "\n",
        "plt.plot(attack_strengths, sim_results)\n",
        "plt.xlabel('Attack strength')\n",
        "plt.ylabel('Largest connected component')\n",
        "plt.title('Effect of Attack Strength in Cascading Failures')"
      ]
    },
    {
      "cell_type": "markdown",
      "metadata": {
        "id": "baz5EtasjkGx"
      },
      "source": [
        "# Part 3. Simulating Computer Virus Spread Across Router Network\n",
        "\n",
        "The flu-like susceptible-infected-susceptible (SIS) is a popular model that allows us to simulate the spread of viruses across networks (graphs). Each node in the SIS model can be in one of two states, infected *I* or susceptible *S*, and at each time step *t*, an infected node has a probability *β* of infecting each of it's uninfected neighbors. After this, each infected node has a probability *δ* of healing and becoming susceptible again.\n",
        "\n",
        "It’s been shown there's a direct correlation between the graph's topology as measured through the spectral radius (largest eigenvalue) of the graph, and the virus remaining endemic. The exact relationship between a virus's strength (*s*), birth rate (*β*), death rate (*δ*) and spectral radius (*λ1*) is s=λ1⋅b/d, where a larger *s* means a stronger virus. With just these 3 parameters, we can setup a computer virus simulation.\n",
        "\n",
        "Below, we (1) load the Autonomous systems AS-733 network, which is a graph of routers comprising the internet; and (2) setup the simulation parameters.  "
      ]
    },
    {
      "cell_type": "code",
      "execution_count": null,
      "metadata": {
        "id": "QrIz_m74jkcv"
      },
      "outputs": [],
      "source": [
        "from graph_tiger.graphs import graph_loader\n",
        "\n",
        "graph = graph_loader('as_733')\n",
        "\n",
        "sis_params = {\n",
        "   'runs': 1,  # number of simulations to run\n",
        "   'steps': 5000,  # number of time steps to run simulation\n",
        "\n",
        "   'model': 'SIS',\n",
        "   'b': 0.00208,  # virus birth rate\n",
        "   'd': 0.01,  # virus death rate\n",
        "   'c': 0.3,  # fraction of the network that starts infected\n",
        "}"
      ]
    },
    {
      "cell_type": "markdown",
      "metadata": {
        "id": "eASO8u0Fse8J"
      },
      "source": [
        "Now lets run the simulation and plot the results! In the figure below, we see that without intervention the virus remains endemic on the router network."
      ]
    },
    {
      "cell_type": "code",
      "execution_count": null,
      "metadata": {
        "id": "m5EtzM9dmzwQ"
      },
      "outputs": [],
      "source": [
        "from graph_tiger.diffusion import Diffusion\n",
        "\n",
        "diffusion = Diffusion(graph, **sis_params)\n",
        "results = diffusion.run_simulation()\n",
        "\n",
        "diffusion.plot_results(results)"
      ]
    },
    {
      "cell_type": "markdown",
      "metadata": {
        "id": "gmotd41csn5N"
      },
      "source": [
        "While we do not have control over the virus strength (*s*), we can maniuplate the underlying toplogy of the router network to make it harder for the virus to spread. The question is, how do we optimally modify the network to reduce the spread of the virus? While a naive solution may be to disconnect the whole network, this isn't very practical since everyone would loose internet access! Instead, we need a strategy that carefully vaccinates a few nodes (routers) against the virus."
      ]
    },
    {
      "cell_type": "markdown",
      "metadata": {
        "id": "Jlj7TxOueQ4D"
      },
      "source": [
        "### 2. Optimally Vaccinating a Network\n",
        "\n",
        "Now lets compare the efficacy of 4 vaccination strategies when vaccinating only 3 nodes in the network:\n",
        "\n",
        "1. [netshield](https://graph-tiger.readthedocs.io/en/latest/defenses.html#graph_tiger.defenses.get_node_ns) ('ns_node')\n",
        "2. [id_node](https://graph-tiger.readthedocs.io/en/latest/defenses.html#graph_tiger.defenses.get_node_id) ('id_node')\n",
        "2. [rd_node](https://graph-tiger.readthedocs.io/en/latest/defenses.html#graph_tiger.defenses.get_node_rd) ('rd_node')\n",
        "3. [ib_node](https://graph-tiger.readthedocs.io/en/latest/defenses.html#graph_tiger.defenses.get_node_ib) ('ib_node')\n",
        "\n",
        "To implement a defense strategy you just have to modify a few simulation parameters."
      ]
    },
    {
      "cell_type": "code",
      "execution_count": null,
      "metadata": {
        "id": "hOm1GvX9slvx"
      },
      "outputs": [],
      "source": [
        "sis_params.update({\n",
        "    'diffusion': 'min',  # we want to minimize the ability of the virus to propagate,\n",
        "    'method': 'ns_node',  # use the Netshield technique\n",
        "    'k': 15  # vaccinate 5 nodes according the selected strategy\n",
        "})"
      ]
    },
    {
      "cell_type": "markdown",
      "metadata": {
        "id": "ClLDN5-LhY8i"
      },
      "source": [
        "Does each strategy manage to contain the virus (i.e., less than 1\\% infected population)? Which strategy has the lowest infected population at the end of the simulation? Setup and run each simulation and compare the results to the unvaccinated network."
      ]
    },
    {
      "cell_type": "code",
      "execution_count": null,
      "metadata": {
        "id": "UgAk7eEIbcWq"
      },
      "outputs": [],
      "source": [
        "methods = ['ns_node', 'id_node', 'rd_node', 'pr_node']\n",
        "\n",
        "for method in methods:\n",
        "  sis_params['method'] = method\n",
        "\n",
        "  diffusion = Diffusion(graph, **sis_params)\n",
        "  results = diffusion.run_simulation()\n",
        "\n",
        "  print('Percent of network that remains infected at end of simulation using {} vaccination technique is {}%'.format(method, round((results[-1] / len(graph)) * 100, 2)))\n",
        "  diffusion.plot_results(results)"
      ]
    }
  ],
  "metadata": {
    "accelerator": "GPU",
    "colab": {
      "name": "Lab 17_ Graph Analytics w_ TIGER.ipynb",
      "provenance": []
    },
    "kernelspec": {
      "display_name": "Python 3",
      "name": "python3"
    }
  },
  "nbformat": 4,
  "nbformat_minor": 0
}